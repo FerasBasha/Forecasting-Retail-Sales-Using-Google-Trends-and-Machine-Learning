{
 "cells": [
  {
   "cell_type": "markdown",
   "metadata": {},
   "source": [
    "# The LSTM Model Using Historical Data & Google Trends \n",
    "## Table of Contents\n",
    "\n",
    "1. [Import Libraries](#Import_Libraries)\n",
    "2. [Setup MLFlow Tracking](#MLFlow_Tracking)\n",
    "3. [Load Data](#Load_Data)\n",
    "4. [Pre-Process Data](#Pre_Processing)\n",
    "\n",
    "\n",
    "5. Product Categories\n",
    "   \n",
    "   5.1 [Bed, Bath and Table](#bed_bath_table) \n",
    "   \n",
    "   5.2 [Health and Beauty](#health_beauty)\n",
    "   \n",
    "   5.3 [Sports and Leisure](#sports_leisure)\n",
    "   \n",
    "   5.4 [Furniture Decor](#furniture_decor)\n",
    "   \n",
    "   5.5 [Watches and Gifts](#watches_gifts)\n",
    "   \n",
    "   5.6 [Telephony](#telephony)\n",
    "   \n",
    "   5.7 [Housewares](#housewares)"
   ]
  },
  {
   "cell_type": "markdown",
   "metadata": {},
   "source": [
    "# Import Libraries <a name = \"Import_Libraries\"/>"
   ]
  },
  {
   "cell_type": "code",
   "execution_count": 1,
   "metadata": {},
   "outputs": [],
   "source": [
    "import sys\n",
    "import os\n",
    "from utils import utils, metrics, dataset_2\n",
    "import json\n",
    "from pprint import pprint\n",
    "import matplotlib.pyplot as plt\n",
    "plt.style.use('bmh')\n",
    "from sklearn.preprocessing import MinMaxScaler\n",
    "import pandas as pd\n",
    "import numpy as np\n",
    "\n",
    "from tensorflow.keras.models import Sequential\n",
    "from tensorflow.keras.layers import Dense\n",
    "from tensorflow.keras.layers import LSTM\n",
    "from tensorflow.keras.layers import Dropout\n",
    "from sklearn.metrics import mean_squared_error\n",
    "from math import sqrt\n",
    "from sklearn.metrics import r2_score\n",
    "from sklearn import preprocessing\n",
    "import mlflow"
   ]
  },
  {
   "cell_type": "markdown",
   "metadata": {},
   "source": [
    "# Setup MLFlow Tracking <a name = \"MLFlow_Tracking\"/>\n",
    "https://www.mlflow.org/docs/latest/tracking.html"
   ]
  },
  {
   "cell_type": "code",
   "execution_count": 2,
   "metadata": {},
   "outputs": [],
   "source": [
    "# If this is the first time running the notebook, uncomment next line.\n",
    "#This is to create a file called mlruns which will store the logs for each time the notebook is run\n",
    "\n",
    "#mlflow_experiment_id = mlflow.create_experiment('Olist_LSTM_GoogleTrends_MLFlow')\n",
    "\n",
    "#else:\n",
    "mlflow.set_experiment('Olist_LSTM_GoogleTrends_MLFlow')\n",
    "client = mlflow.tracking.MlflowClient()\n",
    "# See ui \n",
    "#!mlflow ui"
   ]
  },
  {
   "cell_type": "markdown",
   "metadata": {},
   "source": [
    "# Load Data <a name = \"Load_Data\"/>"
   ]
  },
  {
   "cell_type": "code",
   "execution_count": 3,
   "metadata": {},
   "outputs": [
    {
     "name": "stdout",
     "output_type": "stream",
     "text": [
      "\u001b[92m Load successfull. config = \n",
      "\n",
      "{'dates': {'test_end': '2017-12-14',\n",
      "           'test_start': '2017-12-1',\n",
      "           'train_start': '2017-07-01',\n",
      "           'valid_start': '2017-11-21'},\n",
      " 'directories': {'base_dir': 'brazilian-ecommerce'},\n",
      " 'drop_date': False,\n",
      " 'end_date': '2017-12-31 23:59:59',\n",
      " 'pre_processing': {'add_date_features': False,\n",
      "                    'col_name': 'payment_value',\n",
      "                    'impute_nan': 'zero',\n",
      "                    'prefix_name': 'lag',\n",
      "                    'window_size': 55},\n",
      " 'product_categories': ['bed_bath_table',\n",
      "                        'health_beauty',\n",
      "                        'sports_leisure',\n",
      "                        'furniture_decor',\n",
      "                        'computer_accessories',\n",
      "                        'housewares',\n",
      "                        'watches_gifts',\n",
      "                        'telephony',\n",
      "                        'garden_tools',\n",
      "                        'auto'],\n",
      " 'rm_product_category': False,\n",
      " 'start_date': '2016-11-01 00:00:00',\n",
      " 'state': 'SP',\n",
      " 'tables': {'customers': 'olist_customers_dataset.csv',\n",
      "            'orderitems': 'olist_order_items_dataset.csv',\n",
      "            'orderpayments': 'olist_order_payments_dataset.csv',\n",
      "            'orders': 'olist_orders_dataset.csv',\n",
      "            'pc_name_trans': 'product_category_name_translation.csv',\n",
      "            'products': 'olist_products_dataset.csv'},\n",
      " 'univariate': False}\n"
     ]
    }
   ],
   "source": [
    "# Read Config file\n",
    "config = \"configs_LSTM_GoogleTrends.json\"\n",
    "\n",
    "try:\n",
    "    with open(config, \"r\") as f:\n",
    "        config = json.load(f)\n",
    "        print('\\033[92m','Load successfull. config = \\n')\n",
    "        pprint(config)\n",
    "except:\n",
    "    raise IOError(f\"Impossible to read config file: {config}\")"
   ]
  },
  {
   "cell_type": "markdown",
   "metadata": {},
   "source": [
    "# Pre-Process Training, Validation and Test Datasets <a name = \"Pre_Processing\"/>"
   ]
  },
  {
   "cell_type": "code",
   "execution_count": 4,
   "metadata": {},
   "outputs": [],
   "source": [
    "df_train, df_valid, df_test = dataset_2.make_dataset(config)\n",
    "# re-sort columns from last to current and drop the first days\n",
    "df_train = df_train[df_train.columns[::-1]].dropna()\n",
    "df_valid = df_valid[df_valid.columns[::-1]]\n",
    "df_test = df_test[df_test.columns[::-1]]"
   ]
  },
  {
   "cell_type": "code",
   "execution_count": 5,
   "metadata": {},
   "outputs": [],
   "source": [
    "from sklearn.base import BaseEstimator\n",
    "\n",
    "class MinMaxScalerDf(BaseEstimator):\n",
    "    \"Scale the whole data, not just one column using the min and max values.\"\n",
    "    def __init__(self):\n",
    "        pass\n",
    "    \n",
    "    def fit_transform(self, tensor_3d):\n",
    "        self.min_ = tensor_3d.min()\n",
    "        self.max_ = tensor_3d.max()\n",
    "        \n",
    "        return (tensor_3d - self.min_) / (self.max_ - self.min_)\n",
    "        \n",
    "    def transform(self, tensor_3d):\n",
    "        return (tensor_3d - self.min_) / (self.max_ - self.min_)\n",
    "    \n",
    "    def inverse_transform(self, tensor_3d):\n",
    "        return (tensor_3d + self.min_) * (self.max_ + self.min_)"
   ]
  },
  {
   "cell_type": "markdown",
   "metadata": {},
   "source": [
    "# Product Category 1: Bed, Bath and Table <a name = \"bed_bath_table\"/>"
   ]
  },
  {
   "cell_type": "code",
   "execution_count": 6,
   "metadata": {},
   "outputs": [],
   "source": [
    "#Filter on product categories (series)\n",
    "bed_bath_table_train = df_train.loc[df_train['product_category_name'] == 'bed_bath_table'].copy()\n",
    "bed_bath_table_valid = df_valid.loc[df_valid['product_category_name'] == 'bed_bath_table'].copy()\n",
    "bed_bath_table_test = df_test.loc[df_test['product_category_name'] == 'bed_bath_table'].copy()\n",
    "\n",
    "#Drop columns that are no longer required\n",
    "columns = ['product_category_name']\n",
    "\n",
    "bed_bath_table_train.drop(columns, inplace=True, axis=1)\n",
    "bed_bath_table_valid.drop(columns, inplace=True, axis=1)\n",
    "bed_bath_table_test.drop(columns, inplace=True, axis=1)"
   ]
  },
  {
   "cell_type": "code",
   "execution_count": 7,
   "metadata": {},
   "outputs": [],
   "source": [
    "#Read and process GoogleTrends Series\n",
    "base_dir_1 = \"C:\\\\Users\\\\feras\\\\Documents\\\\Thesis_2020\\\\GoogleTrendsSeries\\\\\"\n",
    "\n",
    "cama = pd.read_csv(os.path.join(base_dir_1,'Cama_Shopping.csv')).iloc[1:]\n",
    "mesa = pd.read_csv(os.path.join(base_dir_1,'Mesa_Shopping.csv')).iloc[1:]\n",
    "banho = pd.read_csv(os.path.join(base_dir_1,'Banho_Shopping.csv')).iloc[1:]\n",
    "bed_bath_topic = pd.read_csv(os.path.join(base_dir_1,'Bed_Bath_Topic.csv')).iloc[1:]\n",
    "\n",
    "\n",
    "cama_gt =  utils.make_lag_features(cama,\n",
    "                                   config['pre_processing']['window_size'], \n",
    "                                   col_name='Category: Shopping', \n",
    "                                   prefix_name='cama_gt').dropna().reset_index().rename(columns={'index':'order_approved_at'})\n",
    "\n",
    "mesa_gt =  utils.make_lag_features(mesa,\n",
    "                                   config['pre_processing']['window_size'], \n",
    "                                   col_name='Category: Shopping', \n",
    "                                   prefix_name='mesa_gt').dropna().reset_index().rename(columns={'index':'order_approved_at'})\n",
    "\n",
    "banho_gt =  utils.make_lag_features(banho,\n",
    "                                   config['pre_processing']['window_size'], \n",
    "                                   col_name='Category: Shopping', \n",
    "                                   prefix_name='banho_gt').dropna().reset_index().rename(columns={'index':'order_approved_at'})\n",
    "\n",
    "\n",
    "bed_bath_topic_gt =  utils.make_lag_features(bed_bath_topic,\n",
    "                                   config['pre_processing']['window_size'], \n",
    "                                   col_name='Category: Bed & Bath', \n",
    "                                   prefix_name='bed_bath_topic_gt').dropna().reset_index().rename(columns={'index':'order_approved_at'})\n",
    "\n",
    "\n",
    "# we dont care about the prediction here. Drop category\n",
    "cama_gt.drop(columns='Category: Shopping', inplace=True)\n",
    "cama_gt = cama_gt[cama_gt.columns[::-1]]\n",
    "\n",
    "mesa_gt.drop(columns='Category: Shopping', inplace=True)\n",
    "mesa_gt = mesa_gt[mesa_gt.columns[::-1]]\n",
    "\n",
    "banho_gt.drop(columns='Category: Shopping', inplace=True)\n",
    "banho_gt = banho_gt[banho_gt.columns[::-1]]\n",
    "\n",
    "bed_bath_topic_gt.drop(columns='Category: Bed & Bath', inplace=True)\n",
    "bed_bath_topic_gt = bed_bath_topic_gt[bed_bath_topic_gt.columns[::-1]]"
   ]
  },
  {
   "cell_type": "code",
   "execution_count": 8,
   "metadata": {},
   "outputs": [],
   "source": [
    "# Filter HistoricalSales and GoogleTrends Series\n",
    "\n",
    "cama_gt['order_approved_at'] = pd.to_datetime(cama_gt['order_approved_at'])\n",
    "\n",
    "bed_bath_table_train = bed_bath_table_train[(bed_bath_table_train['order_approved_at'] >= cama_gt['order_approved_at'].min()) &\n",
    "                    (bed_bath_table_train['order_approved_at'] < cama_gt['order_approved_at'].max())]\n",
    "\n",
    "bed_bath_table_valid = bed_bath_table_valid[(bed_bath_table_valid['order_approved_at'] >= cama_gt['order_approved_at'].min()) &\n",
    "                    (bed_bath_table_valid['order_approved_at'] < cama_gt['order_approved_at'].max())]\n",
    "\n",
    "bed_bath_table_test = bed_bath_table_test[(bed_bath_table_test['order_approved_at'] >= cama_gt['order_approved_at'].min()) &\n",
    "                  (bed_bath_table_test['order_approved_at'] < cama_gt['order_approved_at'].max())]\n",
    "\n",
    "cama_gt_train = cama_gt[(cama_gt['order_approved_at'] >= bed_bath_table_train['order_approved_at'].min()) &\n",
    "                                           (cama_gt['order_approved_at'] <= bed_bath_table_train['order_approved_at'].max())].copy()\n",
    "cama_gt_valid = cama_gt[(cama_gt['order_approved_at'] >= bed_bath_table_valid['order_approved_at'].min()) &\n",
    "                                           (cama_gt['order_approved_at'] <= bed_bath_table_valid['order_approved_at'].max())].copy()\n",
    "cama_gt_test = cama_gt[(cama_gt['order_approved_at'] >= bed_bath_table_test['order_approved_at'].min()) &\n",
    "                                           (cama_gt['order_approved_at'] <= bed_bath_table_test['order_approved_at'].max())].copy()\n",
    "\n",
    "\n",
    "mesa_gt['order_approved_at'] = pd.to_datetime(mesa_gt['order_approved_at'])\n",
    "\n",
    "bed_bath_table_train = bed_bath_table_train[(bed_bath_table_train['order_approved_at'] >= mesa_gt['order_approved_at'].min()) &\n",
    "                    (bed_bath_table_train['order_approved_at'] < mesa_gt['order_approved_at'].max())]\n",
    "\n",
    "bed_bath_table_valid = bed_bath_table_valid[(bed_bath_table_valid['order_approved_at'] >= mesa_gt['order_approved_at'].min()) &\n",
    "                    (bed_bath_table_valid['order_approved_at'] < mesa_gt['order_approved_at'].max())]\n",
    "\n",
    "bed_bath_table_test = bed_bath_table_test[(bed_bath_table_test['order_approved_at'] >= mesa_gt['order_approved_at'].min()) &\n",
    "                  (bed_bath_table_test['order_approved_at'] < mesa_gt['order_approved_at'].max())]\n",
    "\n",
    "mesa_gt_train = mesa_gt[(mesa_gt['order_approved_at'] >= bed_bath_table_train['order_approved_at'].min()) &\n",
    "                                           (mesa_gt['order_approved_at'] <= bed_bath_table_train['order_approved_at'].max())].copy()\n",
    "mesa_gt_valid = mesa_gt[(mesa_gt['order_approved_at'] >= bed_bath_table_valid['order_approved_at'].min()) &\n",
    "                                           (mesa_gt['order_approved_at'] <= bed_bath_table_valid['order_approved_at'].max())].copy()\n",
    "mesa_gt_test = mesa_gt[(mesa_gt['order_approved_at'] >= bed_bath_table_test['order_approved_at'].min()) &\n",
    "                                           (mesa_gt['order_approved_at'] <= bed_bath_table_test['order_approved_at'].max())].copy()\n",
    "\n",
    "\n",
    "banho_gt['order_approved_at'] = pd.to_datetime(banho_gt['order_approved_at'])\n",
    "\n",
    "bed_bath_table_train = bed_bath_table_train[(bed_bath_table_train['order_approved_at'] >= banho_gt['order_approved_at'].min()) &\n",
    "                    (bed_bath_table_train['order_approved_at'] < banho_gt['order_approved_at'].max())]\n",
    "\n",
    "bed_bath_table_valid = bed_bath_table_valid[(bed_bath_table_valid['order_approved_at'] >= banho_gt['order_approved_at'].min()) &\n",
    "                    (bed_bath_table_valid['order_approved_at'] < banho_gt['order_approved_at'].max())]\n",
    "\n",
    "bed_bath_table_test = bed_bath_table_test[(bed_bath_table_test['order_approved_at'] >= banho_gt['order_approved_at'].min()) &\n",
    "                  (bed_bath_table_test['order_approved_at'] < banho_gt['order_approved_at'].max())]\n",
    "\n",
    "banho_gt_train = banho_gt[(banho_gt['order_approved_at'] >= bed_bath_table_train['order_approved_at'].min()) &\n",
    "                                           (banho_gt['order_approved_at'] <= bed_bath_table_train['order_approved_at'].max())].copy()\n",
    "banho_gt_valid = banho_gt[(banho_gt['order_approved_at'] >= bed_bath_table_valid['order_approved_at'].min()) &\n",
    "                                           (banho_gt['order_approved_at'] <= bed_bath_table_valid['order_approved_at'].max())].copy()\n",
    "banho_gt_test = banho_gt[(banho_gt['order_approved_at'] >= bed_bath_table_test['order_approved_at'].min()) &\n",
    "                                           (banho_gt['order_approved_at'] <= bed_bath_table_test['order_approved_at'].max())].copy()\n",
    "\n",
    "bed_bath_topic_gt['order_approved_at'] = pd.to_datetime(bed_bath_topic_gt['order_approved_at'])\n",
    "\n",
    "bed_bath_table_train = bed_bath_table_train[(bed_bath_table_train['order_approved_at'] >= bed_bath_topic_gt['order_approved_at'].min()) &\n",
    "                    (bed_bath_table_train['order_approved_at'] < bed_bath_topic_gt['order_approved_at'].max())]\n",
    "\n",
    "bed_bath_table_valid = bed_bath_table_valid[(bed_bath_table_valid['order_approved_at'] >= bed_bath_topic_gt['order_approved_at'].min()) &\n",
    "                    (bed_bath_table_valid['order_approved_at'] < bed_bath_topic_gt['order_approved_at'].max())]\n",
    "\n",
    "bed_bath_table_test = bed_bath_table_test[(bed_bath_table_test['order_approved_at'] >= bed_bath_topic_gt['order_approved_at'].min()) &\n",
    "                  (bed_bath_table_test['order_approved_at'] < bed_bath_topic_gt['order_approved_at'].max())]\n",
    "\n",
    "bed_bath_topic_gt_train = bed_bath_topic_gt[(bed_bath_topic_gt['order_approved_at'] >= bed_bath_table_train['order_approved_at'].min()) &\n",
    "                                           (bed_bath_topic_gt['order_approved_at'] <= bed_bath_table_train['order_approved_at'].max())].copy()\n",
    "bed_bath_topic_gt_valid = bed_bath_topic_gt[(bed_bath_topic_gt['order_approved_at'] >= bed_bath_table_valid['order_approved_at'].min()) &\n",
    "                                           (bed_bath_topic_gt['order_approved_at'] <= bed_bath_table_valid['order_approved_at'].max())].copy()\n",
    "bed_bath_topic_gt_test = bed_bath_topic_gt[(bed_bath_topic_gt['order_approved_at'] >= bed_bath_table_test['order_approved_at'].min()) &\n",
    "                                           (bed_bath_topic_gt['order_approved_at'] <= bed_bath_table_test['order_approved_at'].max())].copy()\n"
   ]
  },
  {
   "cell_type": "code",
   "execution_count": 9,
   "metadata": {},
   "outputs": [],
   "source": [
    "# Drop unrequired columns\n",
    "bed_bath_table_train = bed_bath_table_train.drop(columns=['order_approved_at'])\n",
    "bed_bath_table_valid = bed_bath_table_valid.drop(columns=['order_approved_at'])\n",
    "bed_bath_table_test = bed_bath_table_test.drop(columns=['order_approved_at'])\n",
    "\n",
    "cama_gt_train = cama_gt_train.drop(columns=['order_approved_at'])\n",
    "cama_gt_valid = cama_gt_valid.drop(columns=['order_approved_at'])\n",
    "cama_gt_test = cama_gt_test.drop(columns=['order_approved_at'])\n",
    "\n",
    "mesa_gt_train = mesa_gt_train.drop(columns=['order_approved_at'])\n",
    "mesa_gt_valid = mesa_gt_valid.drop(columns=['order_approved_at'])\n",
    "mesa_gt_test = mesa_gt_test.drop(columns=['order_approved_at'])\n",
    "\n",
    "banho_gt_train = banho_gt_train.drop(columns=['order_approved_at'])\n",
    "banho_gt_valid = banho_gt_valid.drop(columns=['order_approved_at'])\n",
    "banho_gt_test = banho_gt_test.drop(columns=['order_approved_at'])\n",
    "\n",
    "bed_bath_topic_gt_train = bed_bath_topic_gt_train.drop(columns=['order_approved_at'])\n",
    "bed_bath_topic_gt_valid = bed_bath_topic_gt_valid.drop(columns=['order_approved_at'])\n",
    "bed_bath_topic_gt_test = bed_bath_topic_gt_test.drop(columns=['order_approved_at'])"
   ]
  },
  {
   "cell_type": "code",
   "execution_count": 10,
   "metadata": {},
   "outputs": [],
   "source": [
    "# Reshape and convert to numpy arrays\n",
    "bed_bath_table_train = bed_bath_table_train.to_numpy().reshape(bed_bath_table_train.shape[0], bed_bath_table_train.shape[1], 1)\n",
    "bed_bath_table_valid = bed_bath_table_valid.to_numpy().reshape(bed_bath_table_valid.shape[0], bed_bath_table_valid.shape[1], 1)\n",
    "bed_bath_table_test = bed_bath_table_test.to_numpy().reshape(bed_bath_table_test.shape[0], bed_bath_table_test.shape[1], 1)\n",
    "\n",
    "cama_gt_train = cama_gt_train.astype(int).to_numpy().reshape(cama_gt_train.shape[0], \n",
    "                                                                               cama_gt_train.shape[1], 1)\n",
    "cama_gt_valid = cama_gt_valid.astype(int).to_numpy().reshape(cama_gt_valid.shape[0], \n",
    "                                                                               cama_gt_valid.shape[1], 1)\n",
    "cama_gt_test = cama_gt_test.astype(int).to_numpy().reshape(cama_gt_test.shape[0], \n",
    "                                                                             cama_gt_test.shape[1], 1)\n",
    "\n",
    "\n",
    "mesa_gt_train = mesa_gt_train.astype(int).to_numpy().reshape(mesa_gt_train.shape[0], \n",
    "                                                                               mesa_gt_train.shape[1], 1)\n",
    "mesa_gt_valid = mesa_gt_valid.astype(int).to_numpy().reshape(mesa_gt_valid.shape[0], \n",
    "                                                                               mesa_gt_valid.shape[1], 1)\n",
    "mesa_gt_test = mesa_gt_test.astype(int).to_numpy().reshape(mesa_gt_test.shape[0], \n",
    "                                                                             mesa_gt_test.shape[1], 1)\n",
    "\n",
    "banho_gt_train = banho_gt_train.astype(int).to_numpy().reshape(banho_gt_train.shape[0], \n",
    "                                                                               banho_gt_train.shape[1], 1)\n",
    "banho_gt_valid = banho_gt_valid.astype(int).to_numpy().reshape(banho_gt_valid.shape[0], \n",
    "                                                                               banho_gt_valid.shape[1], 1)\n",
    "banho_gt_test = banho_gt_test.astype(int).to_numpy().reshape(banho_gt_test.shape[0], \n",
    "                                                                             banho_gt_test.shape[1], 1)\n",
    "\n",
    "bed_bath_topic_gt_train = bed_bath_topic_gt_train.astype(int).to_numpy().reshape(bed_bath_topic_gt_train.shape[0], \n",
    "                                                                               bed_bath_topic_gt_train.shape[1], 1)\n",
    "bed_bath_topic_gt_valid = bed_bath_topic_gt_valid.astype(int).to_numpy().reshape(bed_bath_topic_gt_valid.shape[0], \n",
    "                                                                               bed_bath_topic_gt_valid.shape[1], 1)\n",
    "bed_bath_topic_gt_test = bed_bath_topic_gt_test.astype(int).to_numpy().reshape(bed_bath_topic_gt_test.shape[0], \n",
    "                                                                             bed_bath_topic_gt_test.shape[1], 1)"
   ]
  },
  {
   "cell_type": "code",
   "execution_count": 11,
   "metadata": {},
   "outputs": [
    {
     "data": {
      "text/plain": [
       "(88, 56, 1)"
      ]
     },
     "execution_count": 11,
     "metadata": {},
     "output_type": "execute_result"
    }
   ],
   "source": [
    "bed_bath_table_train.shape"
   ]
  },
  {
   "cell_type": "code",
   "execution_count": 12,
   "metadata": {},
   "outputs": [],
   "source": [
    "# Scaling datasets\n",
    "pv_scaler = MinMaxScalerDf()\n",
    "bed_bath_table_train = pv_scaler.fit_transform(bed_bath_table_train)\n",
    "bed_bath_table_valid = pv_scaler.transform(bed_bath_table_valid)\n",
    "bed_bath_table_test = pv_scaler.transform(bed_bath_table_test)\n",
    "\n",
    "gt_scaler = MinMaxScalerDf()\n",
    "cama_gt_train = gt_scaler.fit_transform(cama_gt_train)\n",
    "cama_gt_valid = gt_scaler.transform(cama_gt_valid)\n",
    "cama_gt_test = gt_scaler.transform(cama_gt_test)\n",
    "\n",
    "mesa_gt_train = gt_scaler.fit_transform(mesa_gt_train)\n",
    "mesa_gt_valid = gt_scaler.transform(mesa_gt_valid)\n",
    "mesa_gt_test = gt_scaler.transform(mesa_gt_test)\n",
    "\n",
    "banho_gt_train = gt_scaler.fit_transform(banho_gt_train)\n",
    "banho_gt_valid = gt_scaler.transform(banho_gt_valid)\n",
    "banho_gt_test = gt_scaler.transform(banho_gt_test)\n",
    "\n",
    "bed_bath_topic_gt_train = gt_scaler.fit_transform(bed_bath_topic_gt_train)\n",
    "bed_bath_topic_gt_valid = gt_scaler.transform(bed_bath_topic_gt_valid)\n",
    "bed_bath_topic_gt_test = gt_scaler.transform(bed_bath_topic_gt_test)\n",
    "\n",
    "df_train_x = bed_bath_table_train[:,:-1,:]\n",
    "df_train_y = bed_bath_table_train[:,-1:,:]\n",
    "df_valid_x = bed_bath_table_valid[:,:-1,:]\n",
    "df_valid_y = bed_bath_table_valid[:,-1:,:]\n",
    "df_test_x = bed_bath_table_test[:,:-1,:]\n",
    "df_test_y = bed_bath_table_test[:,-1:,:]"
   ]
  },
  {
   "cell_type": "code",
   "execution_count": 13,
   "metadata": {},
   "outputs": [],
   "source": [
    "# Time to concatenate the data together\n",
    "# This should be commented out if you want to try without google trends, and specify num_series = 1 in the bellow function (a_model)\n",
    "df_train_x = np.concatenate([df_train_x,cama_gt_train], axis=2)\n",
    "df_valid_x = np.concatenate([df_valid_x,cama_gt_valid], axis=2)\n",
    "df_test_x = np.concatenate([df_test_x,cama_gt_test], axis=2)\n",
    "\n",
    "df_train_x = np.concatenate([df_train_x,mesa_gt_train], axis=2)\n",
    "df_valid_x = np.concatenate([df_valid_x,mesa_gt_valid], axis=2)\n",
    "df_test_x = np.concatenate([df_test_x,mesa_gt_test], axis=2)\n",
    "\n",
    "df_train_x = np.concatenate([df_train_x,banho_gt_train], axis=2)\n",
    "df_valid_x = np.concatenate([df_valid_x,banho_gt_valid], axis=2)\n",
    "df_test_x = np.concatenate([df_test_x,banho_gt_test], axis=2)\n",
    "\n",
    "df_train_x = np.concatenate([df_train_x,bed_bath_topic_gt_train], axis=2)\n",
    "df_valid_x = np.concatenate([df_valid_x,bed_bath_topic_gt_valid], axis=2)\n",
    "df_test_x = np.concatenate([df_test_x,bed_bath_topic_gt_test], axis=2)"
   ]
  },
  {
   "cell_type": "code",
   "execution_count": 14,
   "metadata": {},
   "outputs": [
    {
     "data": {
      "text/plain": [
       "(88, 55, 5)"
      ]
     },
     "execution_count": 14,
     "metadata": {},
     "output_type": "execute_result"
    }
   ],
   "source": [
    "df_train_x.shape"
   ]
  },
  {
   "cell_type": "markdown",
   "metadata": {},
   "source": [
    "### Define Long Short Term Memory Model"
   ]
  },
  {
   "cell_type": "code",
   "execution_count": 15,
   "metadata": {},
   "outputs": [],
   "source": [
    "def a_model():\n",
    "    num_timesteps = 55 # the number of lags in the dataframes\n",
    "    num_series = 5     # the number of time series, specify 1 if univariate!\n",
    "    num_units = 100    # the number of hidden units\n",
    "    \n",
    "    model = Sequential()\n",
    "    #model.add(LSTM(num_units, return_sequences = True, input_shape=(num_timesteps, num_series)))# 1 LSTM layer with 100 units.\n",
    "    #model.add(LSTM(num_units))# 2 LSTM layer with 100 units.\n",
    "    model.add(LSTM(num_units, input_shape=(num_timesteps, num_series)))# 1 LSTM layer with 100 units.\n",
    "    model.add(Dropout(0.1)) # Prevent overfitting\n",
    "    model.add(Dense(units=1))\n",
    "    model.compile(optimizer='adam', loss='mean_squared_error')\n",
    "    return model"
   ]
  },
  {
   "cell_type": "code",
   "execution_count": 16,
   "metadata": {},
   "outputs": [
    {
     "name": "stderr",
     "output_type": "stream",
     "text": [
      "C:\\Users\\feras\\Anaconda3\\lib\\site-packages\\tensorflow_core\\python\\keras\\layers\\recurrent.py:808: DeprecationWarning: Using or importing the ABCs from 'collections' instead of from 'collections.abc' is deprecated, and in 3.8 it will stop working\n",
      "  if (isinstance(inputs, collections.Sequence)\n",
      "C:\\Users\\feras\\Anaconda3\\lib\\site-packages\\tensorflow_core\\python\\keras\\engine\\training_utils.py:1389: DeprecationWarning: Using or importing the ABCs from 'collections' instead of from 'collections.abc' is deprecated, and in 3.8 it will stop working\n",
      "  if isinstance(sample_weight_mode, collections.Mapping):\n"
     ]
    }
   ],
   "source": [
    "# Initialize model, specify the training data, to get the input shape\n",
    "mm = a_model()"
   ]
  },
  {
   "cell_type": "code",
   "execution_count": 17,
   "metadata": {},
   "outputs": [
    {
     "name": "stdout",
     "output_type": "stream",
     "text": [
      "Model: \"sequential\"\n",
      "_________________________________________________________________\n",
      "Layer (type)                 Output Shape              Param #   \n",
      "=================================================================\n",
      "lstm (LSTM)                  (None, 100)               42400     \n",
      "_________________________________________________________________\n",
      "dropout (Dropout)            (None, 100)               0         \n",
      "_________________________________________________________________\n",
      "dense (Dense)                (None, 1)                 101       \n",
      "=================================================================\n",
      "Total params: 42,501\n",
      "Trainable params: 42,501\n",
      "Non-trainable params: 0\n",
      "_________________________________________________________________\n"
     ]
    }
   ],
   "source": [
    "mm.summary()"
   ]
  },
  {
   "cell_type": "markdown",
   "metadata": {},
   "source": [
    "### Train Model, Report & Visualize Performance on the Validation Set"
   ]
  },
  {
   "cell_type": "code",
   "execution_count": 18,
   "metadata": {},
   "outputs": [
    {
     "data": {
      "image/png": "[encoded data removed]",
      "text/plain": [
       "<Figure size 432x288 with 1 Axes>"
      ]
     },
     "metadata": {
      "needs_background": "light"
     },
     "output_type": "display_data"
    }
   ],
   "source": [
    "# Store the training in the history variable\n",
    "history = mm.fit(df_train_x, df_train_y, validation_data=(df_valid_x, df_valid_y), epochs=75, verbose=0)\n",
    "# See what is stored in the history\n",
    "#history.history.keys()\n",
    "\n",
    "#Plot training loss on validation set\n",
    "loss = history.history[\"loss\"]\n",
    "vloss = history.history[\"val_loss\"]\n",
    "\n",
    "plt.plot(range(len(loss)), loss,)\n",
    "plt.plot(range(len(loss)), vloss)\n",
    "\n",
    "\n",
    "plt.title(\"Bed, Bath and Table - Training loss on Validation Set\")\n",
    "plt.xlabel(\"Epochs\")\n",
    "plt.ylabel(\"Loss\")\n",
    "plt.show()"
   ]
  },
  {
   "cell_type": "code",
   "execution_count": 19,
   "metadata": {},
   "outputs": [
    {
     "name": "stdout",
     "output_type": "stream",
     "text": [
      "Current run id: ad48e348ee854fa3ace8e98b51d8c802\n"
     ]
    }
   ],
   "source": [
    "# Log parameters for the first and only time\n",
    "# Key pre-processing steps should be also logged (window-size)\n",
    "with mlflow.start_run() as run:\n",
    "    mlflow.log_param('window_size', 55)      \n",
    "    mlflow.log_param('add_datepart', True)\n",
    "    mlflow.log_param('num of units', 100)\n",
    "    mlflow.log_param('dropout', 0.1)\n",
    "    mlflow.log_param('num of epochs', 75)\n",
    "    mlflow.log_param('Google Trends Series','cama, mesa, banho, bed bath - topic')\n",
    "    mlflow.log_param('Product Category','Bed, Bath and Table')\n",
    "                                           \n",
    "    current_run_id = run.info.run_id        # -> Set the run id to a variable that can be used throughout the notebook\n",
    "    print(f'Current run id: {current_run_id}')"
   ]
  },
  {
   "cell_type": "code",
   "execution_count": 20,
   "metadata": {},
   "outputs": [],
   "source": [
    "#metrics.get_metrics(inv_y, inv_yhat, run_id = current_run_id, log=True, param_prefix='validation')"
   ]
  },
  {
   "cell_type": "markdown",
   "metadata": {},
   "source": [
    "### Plot Actuals & Forecasts"
   ]
  },
  {
   "cell_type": "code",
   "execution_count": 21,
   "metadata": {},
   "outputs": [
    {
     "data": {
      "image/png": "[encoded data removed]",
      "text/plain": [
       "<Figure size 432x288 with 1 Axes>"
      ]
     },
     "metadata": {
      "needs_background": "light"
     },
     "output_type": "display_data"
    }
   ],
   "source": [
    "predictions = mm.predict(df_test_x); predictions\n",
    "predictions = pv_scaler.inverse_transform(predictions);predictions\n",
    "pv_scaler.inverse_transform(df_test_y).squeeze()\n",
    "\n",
    "plt.plot(predictions, label='Forecast')\n",
    "plt.plot(pv_scaler.inverse_transform(df_test_y).squeeze(),label='Actuals')\n",
    "plt.legend()\n",
    "plt.title('Bed, Bath and Table - Test Set')\n",
    "plt.show()"
   ]
  },
  {
   "cell_type": "markdown",
   "metadata": {},
   "source": [
    "### Plot Residuals"
   ]
  },
  {
   "cell_type": "code",
   "execution_count": 22,
   "metadata": {},
   "outputs": [],
   "source": [
    "#Calcaulte Forecast Error\n",
    "#error = predictions - pv_scaler.inverse_transform(df_test_y).squeeze()\n",
    "#y_true = pd.DataFrame({'residuals': error})\n",
    "\n",
    "#Scatter Plot of Residuals\n",
    "#plt.scatter( x=y_true.index, y=y_true.residuals)\n",
    "#plt.title('Bed, Bath and Table Residuals - Test Set ')\n",
    "#plt.ylabel('Sales R$')\n",
    "#plt.show()\n",
    "\n",
    "#Histogram of Residuals\n",
    "#plt.hist(x=error,density=True)\n",
    "#plt.title('Histogram of Residuals - Test Set ')\n",
    "#plt.show()"
   ]
  },
  {
   "cell_type": "markdown",
   "metadata": {},
   "source": [
    "### Evaluate Performance"
   ]
  },
  {
   "cell_type": "code",
   "execution_count": 23,
   "metadata": {},
   "outputs": [
    {
     "name": "stdout",
     "output_type": "stream",
     "text": [
      "wape: 140421.4611100192\n",
      "rms: 485.30357552323926\n",
      "r2: -1.9860137378221379\n",
      "mape: 1.3436978870126834\n"
     ]
    }
   ],
   "source": [
    "metrics.get_metrics(pv_scaler.inverse_transform(df_test_y).squeeze(),predictions, run_id=current_run_id,log=True,param_prefix='test')"
   ]
  },
  {
   "cell_type": "markdown",
   "metadata": {},
   "source": [
    "# Product Category 2: Heath & Beauty <a name = \"health_beauty\"/>"
   ]
  },
  {
   "cell_type": "code",
   "execution_count": 24,
   "metadata": {},
   "outputs": [],
   "source": [
    "#Filter on product categories (series)\n",
    "health_beauty_train = df_train.loc[df_train['product_category_name'] == 'health_beauty'].copy()\n",
    "health_beauty_valid = df_valid.loc[df_valid['product_category_name'] == 'health_beauty'].copy()\n",
    "health_beauty_test = df_test.loc[df_test['product_category_name'] == 'health_beauty'].copy()\n",
    "\n",
    "#Drop columns that are no longer required\n",
    "columns = ['product_category_name']\n",
    "\n",
    "health_beauty_train.drop(columns, inplace=True, axis=1)\n",
    "health_beauty_valid.drop(columns, inplace=True, axis=1)\n",
    "health_beauty_test.drop(columns, inplace=True, axis=1)"
   ]
  },
  {
   "cell_type": "code",
   "execution_count": 25,
   "metadata": {},
   "outputs": [],
   "source": [
    "#Read and process GoogleTrends Series\n",
    "base_dir_1 = \"C:\\\\Users\\\\feras\\\\Documents\\\\Thesis_2020\\\\GoogleTrendsSeries\\\\\"\n",
    "\n",
    "cosmetics = pd.read_csv(os.path.join(base_dir_1,'cosmetics.csv')).iloc[1:]\n",
    "contem1g = pd.read_csv(os.path.join(base_dir_1,'contem1g.csv')).iloc[1:]\n",
    "natura = pd.read_csv(os.path.join(base_dir_1,'Natura_Cosmetics.csv')).iloc[1:]\n",
    "suryabrasil = pd.read_csv(os.path.join(base_dir_1,'Surya_Brasil.csv')).iloc[1:]\n",
    "\n",
    "\n",
    "cosmetics_gt =  utils.make_lag_features(cosmetics,\n",
    "                                   config['pre_processing']['window_size'], \n",
    "                                   col_name='Category: Make-Up & Cosmetics', \n",
    "                                   prefix_name='loja de cosmeticos_gt').dropna().reset_index().rename(columns={'index':'order_approved_at'})\n",
    "\n",
    "\n",
    "contem1g_gt =  utils.make_lag_features(contem1g,\n",
    "                                   config['pre_processing']['window_size'], \n",
    "                                   col_name='Category: All categories', \n",
    "                                   prefix_name='contem1g_gt').dropna().reset_index().rename(columns={'index':'order_approved_at'})\n",
    "\n",
    "natura_gt =  utils.make_lag_features(natura,\n",
    "                                   config['pre_processing']['window_size'], \n",
    "                                   col_name='Category: Make-Up & Cosmetics', \n",
    "                                   prefix_name='natura_gt').dropna().reset_index().rename(columns={'index':'order_approved_at'})\n",
    "\n",
    "\n",
    "\n",
    "surya_brasil_gt =  utils.make_lag_features(suryabrasil,\n",
    "                                   config['pre_processing']['window_size'], \n",
    "                                   col_name='Category: All categories', \n",
    "                                   prefix_name='surya_brasil_gt').dropna().reset_index().rename(columns={'index':'order_approved_at'})\n",
    "\n",
    "\n",
    "\n",
    "# we dont care about the prediction here. Drop category\n",
    "cosmetics_gt.drop(columns='Category: Make-Up & Cosmetics', inplace=True)\n",
    "cosmetics_gt = cosmetics_gt[cosmetics_gt.columns[::-1]]\n",
    "\n",
    "contem1g_gt.drop(columns='Category: All categories', inplace=True)\n",
    "contem1g_gt = contem1g_gt[contem1g_gt.columns[::-1]]\n",
    "\n",
    "natura_gt.drop(columns='Category: Make-Up & Cosmetics', inplace=True)\n",
    "natura_gt = natura_gt[natura_gt.columns[::-1]]\n",
    "\n",
    "surya_brasil_gt.drop(columns='Category: All categories', inplace=True)\n",
    "surya_brasil_gt = surya_brasil_gt[surya_brasil_gt.columns[::-1]]\n"
   ]
  },
  {
   "cell_type": "code",
   "execution_count": 26,
   "metadata": {},
   "outputs": [],
   "source": [
    "cosmetics_gt['order_approved_at'] = pd.to_datetime(cosmetics_gt['order_approved_at'])\n",
    "\n",
    "health_beauty_train = health_beauty_train[(health_beauty_train['order_approved_at'] >= cosmetics_gt['order_approved_at'].min()) &\n",
    "                    (health_beauty_train['order_approved_at'] < cosmetics_gt['order_approved_at'].max())]\n",
    "\n",
    "health_beauty_valid = health_beauty_valid[(health_beauty_valid['order_approved_at'] >= cosmetics_gt['order_approved_at'].min()) &\n",
    "                    (health_beauty_valid['order_approved_at'] < cosmetics_gt['order_approved_at'].max())]\n",
    "\n",
    "health_beauty_test = health_beauty_test[(health_beauty_test['order_approved_at'] >= cosmetics_gt['order_approved_at'].min()) &\n",
    "                  (health_beauty_test['order_approved_at'] < cosmetics_gt['order_approved_at'].max())]\n",
    "\n",
    "cosmetics_gt_train = cosmetics_gt[(cosmetics_gt['order_approved_at'] >= health_beauty_train['order_approved_at'].min()) &\n",
    "                                           (cosmetics_gt['order_approved_at'] <= health_beauty_train['order_approved_at'].max())].copy()\n",
    "cosmetics_gt_valid = cosmetics_gt[(cosmetics_gt['order_approved_at'] >= health_beauty_valid['order_approved_at'].min()) &\n",
    "                                           (cosmetics_gt['order_approved_at'] <= health_beauty_valid['order_approved_at'].max())].copy()\n",
    "cosmetics_gt_test = cosmetics_gt[(cosmetics_gt['order_approved_at'] >= health_beauty_test['order_approved_at'].min()) &\n",
    "                                           (cosmetics_gt['order_approved_at'] <= health_beauty_test['order_approved_at'].max())].copy()\n",
    "\n",
    "\n",
    "contem1g_gt['order_approved_at'] = pd.to_datetime(contem1g_gt['order_approved_at'])\n",
    "\n",
    "health_beauty_train = health_beauty_train[(health_beauty_train['order_approved_at'] >= contem1g_gt['order_approved_at'].min()) &\n",
    "                    (health_beauty_train['order_approved_at'] < contem1g_gt['order_approved_at'].max())]\n",
    "\n",
    "health_beauty_valid = health_beauty_valid[(health_beauty_valid['order_approved_at'] >= contem1g_gt['order_approved_at'].min()) &\n",
    "                    (health_beauty_valid['order_approved_at'] < contem1g_gt['order_approved_at'].max())]\n",
    "\n",
    "health_beauty_test = health_beauty_test[(health_beauty_test['order_approved_at'] >= contem1g_gt['order_approved_at'].min()) &\n",
    "                  (health_beauty_test['order_approved_at'] < contem1g_gt['order_approved_at'].max())]\n",
    "\n",
    "contem1g_gt_train = contem1g_gt[(contem1g_gt['order_approved_at'] >= health_beauty_train['order_approved_at'].min()) &\n",
    "                                           (contem1g_gt['order_approved_at'] <= health_beauty_train['order_approved_at'].max())].copy()\n",
    "contem1g_gt_valid = contem1g_gt[(contem1g_gt['order_approved_at'] >= health_beauty_valid['order_approved_at'].min()) &\n",
    "                                           (contem1g_gt['order_approved_at'] <= health_beauty_valid['order_approved_at'].max())].copy()\n",
    "contem1g_gt_test = contem1g_gt[(contem1g_gt['order_approved_at'] >= health_beauty_test['order_approved_at'].min()) &\n",
    "                                           (contem1g_gt['order_approved_at'] <= health_beauty_test['order_approved_at'].max())].copy()\n",
    "\n",
    "\n",
    "natura_gt['order_approved_at'] = pd.to_datetime(natura_gt['order_approved_at'])\n",
    "\n",
    "health_beauty_train = health_beauty_train[(health_beauty_train['order_approved_at'] >= natura_gt['order_approved_at'].min()) &\n",
    "                    (health_beauty_train['order_approved_at'] < natura_gt['order_approved_at'].max())]\n",
    "\n",
    "health_beauty_valid = health_beauty_valid[(health_beauty_valid['order_approved_at'] >= natura_gt['order_approved_at'].min()) &\n",
    "                    (health_beauty_valid['order_approved_at'] < natura_gt['order_approved_at'].max())]\n",
    "\n",
    "health_beauty_test = health_beauty_test[(health_beauty_test['order_approved_at'] >= natura_gt['order_approved_at'].min()) &\n",
    "                  (health_beauty_test['order_approved_at'] < natura_gt['order_approved_at'].max())]\n",
    "\n",
    "natura_gt_train = natura_gt[(natura_gt['order_approved_at'] >= health_beauty_train['order_approved_at'].min()) &\n",
    "                                           (natura_gt['order_approved_at'] <= health_beauty_train['order_approved_at'].max())].copy()\n",
    "natura_gt_valid = natura_gt[(natura_gt['order_approved_at'] >= health_beauty_valid['order_approved_at'].min()) &\n",
    "                                           (natura_gt['order_approved_at'] <= health_beauty_valid['order_approved_at'].max())].copy()\n",
    "natura_gt_test = natura_gt[(natura_gt['order_approved_at'] >= health_beauty_test['order_approved_at'].min()) &\n",
    "                                           (natura_gt['order_approved_at'] <= health_beauty_test['order_approved_at'].max())].copy()\n",
    "\n",
    "\n",
    "surya_brasil_gt['order_approved_at'] = pd.to_datetime(surya_brasil_gt['order_approved_at'])\n",
    "\n",
    "health_beauty_train = health_beauty_train[(health_beauty_train['order_approved_at'] >= surya_brasil_gt['order_approved_at'].min()) &\n",
    "                    (health_beauty_train['order_approved_at'] < surya_brasil_gt['order_approved_at'].max())]\n",
    "\n",
    "health_beauty_valid = health_beauty_valid[(health_beauty_valid['order_approved_at'] >= surya_brasil_gt['order_approved_at'].min()) &\n",
    "                    (health_beauty_valid['order_approved_at'] < surya_brasil_gt['order_approved_at'].max())]\n",
    "\n",
    "health_beauty_test = health_beauty_test[(health_beauty_test['order_approved_at'] >= surya_brasil_gt['order_approved_at'].min()) &\n",
    "                  (health_beauty_test['order_approved_at'] < surya_brasil_gt['order_approved_at'].max())]\n",
    "\n",
    "surya_brasil_gt_train = surya_brasil_gt[(surya_brasil_gt['order_approved_at'] >= health_beauty_train['order_approved_at'].min()) &\n",
    "                                           (surya_brasil_gt['order_approved_at'] <= health_beauty_train['order_approved_at'].max())].copy()\n",
    "surya_brasil_gt_valid = surya_brasil_gt[(surya_brasil_gt['order_approved_at'] >= health_beauty_valid['order_approved_at'].min()) &\n",
    "                                           (surya_brasil_gt['order_approved_at'] <= health_beauty_valid['order_approved_at'].max())].copy()\n",
    "surya_brasil_gt_test = surya_brasil_gt[(surya_brasil_gt['order_approved_at'] >= health_beauty_test['order_approved_at'].min()) &\n",
    "                                           (surya_brasil_gt['order_approved_at'] <= health_beauty_test['order_approved_at'].max())].copy()\n"
   ]
  },
  {
   "cell_type": "code",
   "execution_count": 27,
   "metadata": {},
   "outputs": [],
   "source": [
    "# Drop unrequired columns\n",
    "health_beauty_train = health_beauty_train.drop(columns=['order_approved_at'])\n",
    "health_beauty_valid = health_beauty_valid.drop(columns=['order_approved_at'])\n",
    "health_beauty_test = health_beauty_test.drop(columns=['order_approved_at'])\n",
    "\n",
    "cosmetics_gt_train = cosmetics_gt_train.drop(columns=['order_approved_at'])\n",
    "cosmetics_gt_valid = cosmetics_gt_valid.drop(columns=['order_approved_at'])\n",
    "cosmetics_gt_test = cosmetics_gt_test.drop(columns=['order_approved_at'])\n",
    "\n",
    "contem1g_gt_train = contem1g_gt_train.drop(columns=['order_approved_at'])\n",
    "contem1g_gt_valid = contem1g_gt_valid.drop(columns=['order_approved_at'])\n",
    "contem1g_gt_test = contem1g_gt_test.drop(columns=['order_approved_at'])\n",
    "\n",
    "natura_gt_train = natura_gt_train.drop(columns=['order_approved_at'])\n",
    "natura_gt_valid = natura_gt_valid.drop(columns=['order_approved_at'])\n",
    "natura_gt_test = natura_gt_test.drop(columns=['order_approved_at'])\n",
    "\n",
    "surya_brasil_gt_train = surya_brasil_gt_train.drop(columns=['order_approved_at'])\n",
    "surya_brasil_gt_valid = surya_brasil_gt_valid.drop(columns=['order_approved_at'])\n",
    "surya_brasil_gt_test = surya_brasil_gt_test.drop(columns=['order_approved_at'])"
   ]
  },
  {
   "cell_type": "code",
   "execution_count": 28,
   "metadata": {},
   "outputs": [],
   "source": [
    "# Reshape and convert to numpy arrays\n",
    "health_beauty_train = health_beauty_train.to_numpy().reshape(health_beauty_train.shape[0], health_beauty_train.shape[1], 1)\n",
    "health_beauty_valid = health_beauty_valid.to_numpy().reshape(health_beauty_valid.shape[0], health_beauty_valid.shape[1], 1)\n",
    "health_beauty_test = health_beauty_test.to_numpy().reshape(health_beauty_test.shape[0], health_beauty_test.shape[1], 1)\n",
    "\n",
    "cosmetics_gt_train = cosmetics_gt_train.astype(int).to_numpy().reshape(cosmetics_gt_train.shape[0], \n",
    "                                                                               cosmetics_gt_train.shape[1], 1)\n",
    "cosmetics_gt_valid = cosmetics_gt_valid.astype(int).to_numpy().reshape(cosmetics_gt_valid.shape[0], \n",
    "                                                                               cosmetics_gt_valid.shape[1], 1)\n",
    "cosmetics_gt_test = cosmetics_gt_test.astype(int).to_numpy().reshape(cosmetics_gt_test.shape[0], \n",
    "                                                                             cosmetics_gt_test.shape[1], 1)\n",
    "\n",
    "contem1g_gt_train = contem1g_gt_train.astype(int).to_numpy().reshape(contem1g_gt_train.shape[0], \n",
    "                                                                               contem1g_gt_train.shape[1], 1)\n",
    "contem1g_gt_valid = contem1g_gt_valid.astype(int).to_numpy().reshape(contem1g_gt_valid.shape[0], \n",
    "                                                                               contem1g_gt_valid.shape[1], 1)\n",
    "contem1g_gt_test = contem1g_gt_test.astype(int).to_numpy().reshape(contem1g_gt_test.shape[0], \n",
    "                                                                             contem1g_gt_test.shape[1], 1)\n",
    "\n",
    "natura_gt_train = natura_gt_train.astype(int).to_numpy().reshape(natura_gt_train.shape[0], \n",
    "                                                                               natura_gt_train.shape[1], 1)\n",
    "natura_gt_valid = natura_gt_valid.astype(int).to_numpy().reshape(natura_gt_valid.shape[0], \n",
    "                                                                               natura_gt_valid.shape[1], 1)\n",
    "natura_gt_test = natura_gt_test.astype(int).to_numpy().reshape(natura_gt_test.shape[0], \n",
    "                                                                             natura_gt_test.shape[1], 1)\n",
    "\n",
    "surya_brasil_gt_train = surya_brasil_gt_train.astype(int).to_numpy().reshape(surya_brasil_gt_train.shape[0], \n",
    "                                                                               surya_brasil_gt_train.shape[1], 1)\n",
    "surya_brasil_gt_valid = surya_brasil_gt_valid.astype(int).to_numpy().reshape(surya_brasil_gt_valid.shape[0], \n",
    "                                                                               surya_brasil_gt_valid.shape[1], 1)\n",
    "surya_brasil_gt_test = surya_brasil_gt_test.astype(int).to_numpy().reshape(surya_brasil_gt_test.shape[0], \n",
    "                                                                             surya_brasil_gt_test.shape[1], 1)"
   ]
  },
  {
   "cell_type": "code",
   "execution_count": 29,
   "metadata": {},
   "outputs": [
    {
     "data": {
      "text/plain": [
       "(88, 56, 1)"
      ]
     },
     "execution_count": 29,
     "metadata": {},
     "output_type": "execute_result"
    }
   ],
   "source": [
    "health_beauty_train.shape"
   ]
  },
  {
   "cell_type": "code",
   "execution_count": 30,
   "metadata": {},
   "outputs": [],
   "source": [
    "# Scaling datasets\n",
    "pv_scaler = MinMaxScalerDf()\n",
    "health_beauty_train = pv_scaler.fit_transform(health_beauty_train)\n",
    "health_beauty_valid = pv_scaler.transform(health_beauty_valid)\n",
    "health_beauty_test = pv_scaler.transform(health_beauty_test)\n",
    "\n",
    "gt_scaler = MinMaxScalerDf()\n",
    "cosmetics_gt_train = gt_scaler.fit_transform(cosmetics_gt_train)\n",
    "cosmetics_gt_valid = gt_scaler.transform(cosmetics_gt_valid)\n",
    "cosmetics_gt_test = gt_scaler.transform(cosmetics_gt_test)\n",
    "\n",
    "contem1g_gt_train = gt_scaler.fit_transform(contem1g_gt_train)\n",
    "contem1g_gt_valid = gt_scaler.transform(contem1g_gt_valid)\n",
    "contem1g_gt_test = gt_scaler.transform(contem1g_gt_test)\n",
    "\n",
    "\n",
    "natura_gt_train = gt_scaler.fit_transform(natura_gt_train)\n",
    "natura_gt_valid = gt_scaler.transform(natura_gt_valid)\n",
    "natura_gt_test = gt_scaler.transform(natura_gt_test)\n",
    "\n",
    "surya_brasil_gt_train = gt_scaler.fit_transform(surya_brasil_gt_train)\n",
    "surya_brasil_gt_valid = gt_scaler.transform(surya_brasil_gt_valid)\n",
    "surya_brasil_gt_test = gt_scaler.transform(surya_brasil_gt_test)\n",
    "\n",
    "\n",
    "df_train_x = health_beauty_train[:,:-1,:]\n",
    "df_train_y = health_beauty_train[:,-1:,:]\n",
    "df_valid_x = health_beauty_valid[:,:-1,:]\n",
    "df_valid_y = health_beauty_valid[:,-1:,:]\n",
    "df_test_x = health_beauty_test[:,:-1,:]\n",
    "df_test_y = health_beauty_test[:,-1:,:]"
   ]
  },
  {
   "cell_type": "code",
   "execution_count": 31,
   "metadata": {},
   "outputs": [],
   "source": [
    "# Time to concatenate the data together\n",
    "# This should be commented out if you want to try without google trends, and specify num_series = 1 in the bellow function (a_model)\n",
    "\n",
    "df_train_x = np.concatenate([df_train_x,cosmetics_gt_train], axis=2)\n",
    "df_valid_x = np.concatenate([df_valid_x,cosmetics_gt_valid], axis=2)\n",
    "df_test_x = np.concatenate([df_test_x,cosmetics_gt_test], axis=2)\n",
    "\n",
    "df_train_x = np.concatenate([df_train_x,contem1g_gt_train], axis=2)\n",
    "df_valid_x = np.concatenate([df_valid_x,contem1g_gt_valid], axis=2)\n",
    "df_test_x = np.concatenate([df_test_x,contem1g_gt_test], axis=2)\n",
    "\n",
    "df_train_x = np.concatenate([df_train_x,natura_gt_train], axis=2)\n",
    "df_valid_x = np.concatenate([df_valid_x,natura_gt_valid], axis=2)\n",
    "df_test_x = np.concatenate([df_test_x,natura_gt_test], axis=2)\n",
    "\n",
    "df_train_x = np.concatenate([df_train_x,surya_brasil_gt_train], axis=2)\n",
    "df_valid_x = np.concatenate([df_valid_x,surya_brasil_gt_valid], axis=2)\n",
    "df_test_x = np.concatenate([df_test_x,surya_brasil_gt_test], axis=2)"
   ]
  },
  {
   "cell_type": "code",
   "execution_count": 32,
   "metadata": {},
   "outputs": [
    {
     "data": {
      "text/plain": [
       "(88, 55, 5)"
      ]
     },
     "execution_count": 32,
     "metadata": {},
     "output_type": "execute_result"
    }
   ],
   "source": [
    "df_train_x.shape"
   ]
  },
  {
   "cell_type": "markdown",
   "metadata": {},
   "source": [
    "### Define Long Short Term Memory Model"
   ]
  },
  {
   "cell_type": "code",
   "execution_count": 33,
   "metadata": {},
   "outputs": [],
   "source": [
    "def a_model():\n",
    "    num_timesteps = 55 # the number of lags in the dataframes\n",
    "    num_series = 5     # the number of time series, specify 1 if univariate!\n",
    "    num_units = 100    # the number of hidden units\n",
    "    \n",
    "    model = Sequential()\n",
    "    model.add(LSTM(num_units, input_shape=(num_timesteps, num_series)))\n",
    "    model.add(Dropout(0.1)) # Prevent overfitting\n",
    "    model.add(Dense(units=1))\n",
    "    model.compile(optimizer='adam', loss='mean_squared_error')\n",
    "    return model"
   ]
  },
  {
   "cell_type": "code",
   "execution_count": 34,
   "metadata": {},
   "outputs": [],
   "source": [
    "# Initialize model, specify the training data, to get the input shape\n",
    "mm = a_model()"
   ]
  },
  {
   "cell_type": "code",
   "execution_count": 35,
   "metadata": {},
   "outputs": [
    {
     "name": "stdout",
     "output_type": "stream",
     "text": [
      "Model: \"sequential_1\"\n",
      "_________________________________________________________________\n",
      "Layer (type)                 Output Shape              Param #   \n",
      "=================================================================\n",
      "lstm_1 (LSTM)                (None, 100)               42400     \n",
      "_________________________________________________________________\n",
      "dropout_1 (Dropout)          (None, 100)               0         \n",
      "_________________________________________________________________\n",
      "dense_1 (Dense)              (None, 1)                 101       \n",
      "=================================================================\n",
      "Total params: 42,501\n",
      "Trainable params: 42,501\n",
      "Non-trainable params: 0\n",
      "_________________________________________________________________\n"
     ]
    }
   ],
   "source": [
    "mm.summary()"
   ]
  },
  {
   "cell_type": "markdown",
   "metadata": {},
   "source": [
    "### Train Model, Report & Visualize Performance on the Validation Set"
   ]
  },
  {
   "cell_type": "code",
   "execution_count": 36,
   "metadata": {},
   "outputs": [
    {
     "data": {
      "image/png": "[encoded data removed]",
      "text/plain": [
       "<Figure size 432x288 with 1 Axes>"
      ]
     },
     "metadata": {
      "needs_background": "light"
     },
     "output_type": "display_data"
    }
   ],
   "source": [
    "# Store the training in the history variable\n",
    "history = mm.fit(df_train_x, df_train_y, validation_data=(df_valid_x, df_valid_y), epochs=75, verbose=0)\n",
    "# See what is stored in the history\n",
    "#history.history.keys()\n",
    "\n",
    "#Plot training loss on validation set\n",
    "loss = history.history[\"loss\"]\n",
    "vloss = history.history[\"val_loss\"]\n",
    "\n",
    "plt.plot(range(len(loss)), loss,)\n",
    "plt.plot(range(len(loss)), vloss)\n",
    "\n",
    "\n",
    "plt.title(\"Health and Beauty - Training loss on Validation Set\")\n",
    "plt.xlabel(\"Epochs\")\n",
    "plt.ylabel(\"Loss\")\n",
    "plt.show()"
   ]
  },
  {
   "cell_type": "code",
   "execution_count": 37,
   "metadata": {},
   "outputs": [
    {
     "name": "stdout",
     "output_type": "stream",
     "text": [
      "Current run id: e4a04d195c554172b3341e89f41ddd6d\n"
     ]
    }
   ],
   "source": [
    "# Log parameters for the first and only time\n",
    "# Key pre-processing steps should be also logged (window-size)\n",
    "with mlflow.start_run() as run:\n",
    "    mlflow.log_param('window_size', 55)      \n",
    "    mlflow.log_param('add_datepart', True)\n",
    "    mlflow.log_param('num of units', 100)\n",
    "    mlflow.log_param('dropout', 0.1)\n",
    "    mlflow.log_param('num of epochs', 75)\n",
    "    mlflow.log_param('Google Trends Series','loja de cosmetics, contem 1g, natura cosmetics, surya brasil')\n",
    "    mlflow.log_param('Product Category','Health and Beauty')\n",
    "                                           \n",
    "    current_run_id = run.info.run_id        # -> Set the run id to a variable that can be used throughout the notebook\n",
    "    print(f'Current run id: {current_run_id}')"
   ]
  },
  {
   "cell_type": "code",
   "execution_count": 38,
   "metadata": {},
   "outputs": [],
   "source": [
    "#metrics.get_metrics(y_val, preds_val, run_id = current_run_id, log=True, param_prefix='validation')"
   ]
  },
  {
   "cell_type": "markdown",
   "metadata": {},
   "source": [
    "### Plot Actuals & Forecasts"
   ]
  },
  {
   "cell_type": "code",
   "execution_count": 39,
   "metadata": {},
   "outputs": [
    {
     "data": {
      "image/png": "[encoded data removed]",
      "text/plain": [
       "<Figure size 432x288 with 1 Axes>"
      ]
     },
     "metadata": {
      "needs_background": "light"
     },
     "output_type": "display_data"
    }
   ],
   "source": [
    "predictions = mm.predict(df_test_x); predictions\n",
    "predictions = pv_scaler.inverse_transform(predictions);predictions\n",
    "pv_scaler.inverse_transform(df_test_y).squeeze()\n",
    "\n",
    "plt.plot(predictions, label='Forecast')\n",
    "plt.plot(pv_scaler.inverse_transform(df_test_y).squeeze(),label='Actuals')\n",
    "plt.legend()\n",
    "plt.title('Health and Beauty - Test Set')\n",
    "plt.show()"
   ]
  },
  {
   "cell_type": "markdown",
   "metadata": {},
   "source": [
    "### Plot Residuals"
   ]
  },
  {
   "cell_type": "code",
   "execution_count": 40,
   "metadata": {},
   "outputs": [],
   "source": [
    "#Calcaulte Forecast Error\n",
    "#error = predictions - pv_scaler.inverse_transform(df_test_y).squeeze()\n",
    "#y_true = pd.DataFrame({'residuals': error})\n",
    "\n",
    "#Scatter Plot of Residuals\n",
    "#plt.scatter( x=y_true.index, y=y_true.residuals)\n",
    "#plt.title('Bed, Bath and Table Residuals - Test Set ')\n",
    "#plt.ylabel('Sales R$')\n",
    "#plt.show()\n",
    "\n",
    "#Histogram of Residuals\n",
    "#plt.hist(x=error,density=True)\n",
    "#plt.title('Histogram of Residuals - Test Set ')\n",
    "#plt.show()"
   ]
  },
  {
   "cell_type": "markdown",
   "metadata": {},
   "source": [
    "### Evaluate Performance"
   ]
  },
  {
   "cell_type": "code",
   "execution_count": 41,
   "metadata": {},
   "outputs": [
    {
     "name": "stdout",
     "output_type": "stream",
     "text": [
      "wape: 121224.94596034993\n",
      "rms: 728.5807010683609\n",
      "r2: -3.6491458793222593\n",
      "mape: 125.76742716892795\n"
     ]
    }
   ],
   "source": [
    "metrics.get_metrics(pv_scaler.inverse_transform(df_test_y).squeeze(),predictions, run_id=current_run_id,log=True,param_prefix='test')"
   ]
  },
  {
   "cell_type": "markdown",
   "metadata": {},
   "source": [
    "# Product Category 3: Sports and Leisure <a name = \"sports_leisure\"/>"
   ]
  },
  {
   "cell_type": "code",
   "execution_count": 42,
   "metadata": {},
   "outputs": [],
   "source": [
    "#Filter on product categories (series)\n",
    "sports_leisure_train = df_train.loc[df_train['product_category_name'] == 'sports_leisure'].copy()\n",
    "sports_leisure_valid = df_valid.loc[df_valid['product_category_name'] == 'sports_leisure'].copy()\n",
    "sports_leisure_test = df_test.loc[df_test['product_category_name'] == 'sports_leisure'].copy()\n",
    "\n",
    "#Drop columns that are no longer required\n",
    "columns = ['product_category_name']\n",
    "\n",
    "sports_leisure_train.drop(columns, inplace=True, axis=1)\n",
    "sports_leisure_valid.drop(columns, inplace=True, axis=1)\n",
    "sports_leisure_test.drop(columns, inplace=True, axis=1)"
   ]
  },
  {
   "cell_type": "code",
   "execution_count": 43,
   "metadata": {},
   "outputs": [],
   "source": [
    "nike = pd.read_csv(os.path.join(base_dir_1,'Nike_Masculino.csv')).iloc[1:]\n",
    "adidas = pd.read_csv(os.path.join(base_dir_1,'Adidas_Yeezy.csv')).iloc[1:]\n",
    "arezzo = pd.read_csv(os.path.join(base_dir_1,'Arezzo.csv')).iloc[1:]\n",
    "\n",
    "\n",
    "nike_gt =  utils.make_lag_features(nike,\n",
    "                                   config['pre_processing']['window_size'], \n",
    "                                   col_name='Category: All categories', \n",
    "                                   prefix_name='nike_masculino_gt').dropna().reset_index().rename(columns={'index':'order_approved_at'})\n",
    "\n",
    "\n",
    "adidas_gt =  utils.make_lag_features(adidas,\n",
    "                                   config['pre_processing']['window_size'], \n",
    "                                   col_name='Category: All categories', \n",
    "                                   prefix_name='adidas_yeezy_gt').dropna().reset_index().rename(columns={'index':'order_approved_at'})\n",
    "\n",
    "\n",
    "\n",
    "\n",
    "arezzo_gt =  utils.make_lag_features(arezzo,\n",
    "                                   config['pre_processing']['window_size'], \n",
    "                                   col_name='Category: All categories', \n",
    "                                   prefix_name='arezzo_gt').dropna().reset_index().rename(columns={'index':'order_approved_at'})\n",
    "\n",
    "\n",
    "\n",
    "\n",
    "# we dont care about the prediction here. Drop category\n",
    "nike_gt.drop(columns='Category: All categories', inplace=True)\n",
    "nike_gt = nike_gt[nike_gt.columns[::-1]]\n",
    "\n",
    "adidas_gt.drop(columns='Category: All categories', inplace=True)\n",
    "adidas_gt = adidas_gt[adidas_gt.columns[::-1]]\n",
    "\n",
    "\n",
    "arezzo_gt.drop(columns='Category: All categories', inplace=True)\n",
    "arezzo_gt = arezzo_gt[arezzo_gt.columns[::-1]]\n"
   ]
  },
  {
   "cell_type": "code",
   "execution_count": 44,
   "metadata": {},
   "outputs": [],
   "source": [
    "nike_gt['order_approved_at'] = pd.to_datetime(nike_gt['order_approved_at'])\n",
    "\n",
    "sports_leisure_train = sports_leisure_train[(sports_leisure_train['order_approved_at'] >= nike_gt['order_approved_at'].min()) &\n",
    "                    (sports_leisure_train['order_approved_at'] < nike_gt['order_approved_at'].max())]\n",
    "\n",
    "sports_leisure_valid = sports_leisure_valid[(sports_leisure_valid['order_approved_at'] >= nike_gt['order_approved_at'].min()) &\n",
    "                    (sports_leisure_valid['order_approved_at'] < nike_gt['order_approved_at'].max())]\n",
    "\n",
    "sports_leisure_test = sports_leisure_test[(sports_leisure_test['order_approved_at'] >= nike_gt['order_approved_at'].min()) &\n",
    "                  (sports_leisure_test['order_approved_at'] < nike_gt['order_approved_at'].max())]\n",
    "\n",
    "nike_gt_train = nike_gt[(nike_gt['order_approved_at'] >= sports_leisure_train['order_approved_at'].min()) &\n",
    "                                           (nike_gt['order_approved_at'] <= sports_leisure_train['order_approved_at'].max())].copy()\n",
    "nike_gt_valid = nike_gt[(nike_gt['order_approved_at'] >= sports_leisure_valid['order_approved_at'].min()) &\n",
    "                                           (nike_gt['order_approved_at'] <= sports_leisure_valid['order_approved_at'].max())].copy()\n",
    "nike_gt_test = nike_gt[(nike_gt['order_approved_at'] >= sports_leisure_test['order_approved_at'].min()) &\n",
    "                                           (nike_gt['order_approved_at'] <= sports_leisure_test['order_approved_at'].max())].copy()\n",
    "\n",
    "adidas_gt['order_approved_at'] = pd.to_datetime(adidas_gt['order_approved_at'])\n",
    "\n",
    "sports_leisure_train = sports_leisure_train[(sports_leisure_train['order_approved_at'] >= adidas_gt['order_approved_at'].min()) &\n",
    "                    (sports_leisure_train['order_approved_at'] < adidas_gt['order_approved_at'].max())]\n",
    "\n",
    "sports_leisure_valid = sports_leisure_valid[(sports_leisure_valid['order_approved_at'] >= adidas_gt['order_approved_at'].min()) &\n",
    "                    (sports_leisure_valid['order_approved_at'] < adidas_gt['order_approved_at'].max())]\n",
    "\n",
    "sports_leisure_test = sports_leisure_test[(sports_leisure_test['order_approved_at'] >= adidas_gt['order_approved_at'].min()) &\n",
    "                  (sports_leisure_test['order_approved_at'] < adidas_gt['order_approved_at'].max())]\n",
    "\n",
    "adidas_gt_train = adidas_gt[(adidas_gt['order_approved_at'] >= sports_leisure_train['order_approved_at'].min()) &\n",
    "                                           (adidas_gt['order_approved_at'] <= sports_leisure_train['order_approved_at'].max())].copy()\n",
    "adidas_gt_valid = adidas_gt[(adidas_gt['order_approved_at'] >= sports_leisure_valid['order_approved_at'].min()) &\n",
    "                                           (adidas_gt['order_approved_at'] <= sports_leisure_valid['order_approved_at'].max())].copy()\n",
    "adidas_gt_test = adidas_gt[(adidas_gt['order_approved_at'] >= sports_leisure_test['order_approved_at'].min()) &\n",
    "                                           (adidas_gt['order_approved_at'] <= sports_leisure_test['order_approved_at'].max())].copy()\n",
    "\n",
    "arezzo_gt['order_approved_at'] = pd.to_datetime(arezzo_gt['order_approved_at'])\n",
    "\n",
    "sports_leisure_train = sports_leisure_train[(sports_leisure_train['order_approved_at'] >= arezzo_gt['order_approved_at'].min()) &\n",
    "                    (sports_leisure_train['order_approved_at'] < arezzo_gt['order_approved_at'].max())]\n",
    "\n",
    "sports_leisure_valid = sports_leisure_valid[(sports_leisure_valid['order_approved_at'] >= arezzo_gt['order_approved_at'].min()) &\n",
    "                    (sports_leisure_valid['order_approved_at'] < arezzo_gt['order_approved_at'].max())]\n",
    "\n",
    "sports_leisure_test = sports_leisure_test[(sports_leisure_test['order_approved_at'] >= arezzo_gt['order_approved_at'].min()) &\n",
    "                  (sports_leisure_test['order_approved_at'] < arezzo_gt['order_approved_at'].max())]\n",
    "\n",
    "arezzo_gt_train = arezzo_gt[(arezzo_gt['order_approved_at'] >= sports_leisure_train['order_approved_at'].min()) &\n",
    "                                           (arezzo_gt['order_approved_at'] <= sports_leisure_train['order_approved_at'].max())].copy()\n",
    "arezzo_gt_valid = arezzo_gt[(arezzo_gt['order_approved_at'] >= sports_leisure_valid['order_approved_at'].min()) &\n",
    "                                           (arezzo_gt['order_approved_at'] <= sports_leisure_valid['order_approved_at'].max())].copy()\n",
    "arezzo_gt_test = arezzo_gt[(arezzo_gt['order_approved_at'] >= sports_leisure_test['order_approved_at'].min()) &\n",
    "                                           (arezzo_gt['order_approved_at'] <= sports_leisure_test['order_approved_at'].max())].copy()\n"
   ]
  },
  {
   "cell_type": "code",
   "execution_count": 45,
   "metadata": {},
   "outputs": [],
   "source": [
    "# Drop unrequired columns\n",
    "sports_leisure_train = sports_leisure_train.drop(columns=['order_approved_at'])\n",
    "sports_leisure_valid = sports_leisure_valid.drop(columns=['order_approved_at'])\n",
    "sports_leisure_test = sports_leisure_test.drop(columns=['order_approved_at'])\n",
    "\n",
    "nike_gt_train = nike_gt_train.drop(columns=['order_approved_at'])\n",
    "nike_gt_valid = nike_gt_valid.drop(columns=['order_approved_at'])\n",
    "nike_gt_test = nike_gt_test.drop(columns=['order_approved_at'])\n",
    "\n",
    "adidas_gt_train = adidas_gt_train.drop(columns=['order_approved_at'])\n",
    "adidas_gt_valid = adidas_gt_valid.drop(columns=['order_approved_at'])\n",
    "adidas_gt_test = adidas_gt_test.drop(columns=['order_approved_at'])\n",
    "\n",
    "arezzo_gt_train = arezzo_gt_train.drop(columns=['order_approved_at'])\n",
    "arezzo_gt_valid = arezzo_gt_valid.drop(columns=['order_approved_at'])\n",
    "arezzo_gt_test = arezzo_gt_test.drop(columns=['order_approved_at'])\n"
   ]
  },
  {
   "cell_type": "code",
   "execution_count": 46,
   "metadata": {},
   "outputs": [],
   "source": [
    "# Reshape and convert to numpy arrays\n",
    "sports_leisure_train = sports_leisure_train.to_numpy().reshape(sports_leisure_train.shape[0], sports_leisure_train.shape[1], 1)\n",
    "sports_leisure_valid = sports_leisure_valid.to_numpy().reshape(sports_leisure_valid.shape[0], sports_leisure_valid.shape[1], 1)\n",
    "sports_leisure_test = sports_leisure_test.to_numpy().reshape(sports_leisure_test.shape[0], sports_leisure_test.shape[1], 1)\n",
    "\n",
    "\n",
    "nike_gt_train = nike_gt_train.astype(int).to_numpy().reshape(nike_gt_train.shape[0], \n",
    "                                                                               nike_gt_train.shape[1], 1)\n",
    "nike_gt_valid = nike_gt_valid.astype(int).to_numpy().reshape(nike_gt_valid.shape[0], \n",
    "                                                                               nike_gt_valid.shape[1], 1)\n",
    "nike_gt_test = nike_gt_test.astype(int).to_numpy().reshape(nike_gt_test.shape[0], \n",
    "                                                                             nike_gt_test.shape[1], 1)\n",
    "\n",
    "adidas_gt_train = adidas_gt_train.astype(int).to_numpy().reshape(adidas_gt_train.shape[0], \n",
    "                                                                               adidas_gt_train.shape[1], 1)\n",
    "adidas_gt_valid = adidas_gt_valid.astype(int).to_numpy().reshape(adidas_gt_valid.shape[0], \n",
    "                                                                               adidas_gt_valid.shape[1], 1)\n",
    "adidas_gt_test = adidas_gt_test.astype(int).to_numpy().reshape(adidas_gt_test.shape[0], \n",
    "                                                                             adidas_gt_test.shape[1], 1)\n",
    "\n",
    "arezzo_gt_train = arezzo_gt_train.astype(int).to_numpy().reshape(arezzo_gt_train.shape[0], \n",
    "                                                                               arezzo_gt_train.shape[1], 1)\n",
    "arezzo_gt_valid = arezzo_gt_valid.astype(int).to_numpy().reshape(arezzo_gt_valid.shape[0], \n",
    "                                                                               arezzo_gt_valid.shape[1], 1)\n",
    "arezzo_gt_test = arezzo_gt_test.astype(int).to_numpy().reshape(arezzo_gt_test.shape[0], \n",
    "                                                                             arezzo_gt_test.shape[1], 1)\n",
    "\n"
   ]
  },
  {
   "cell_type": "code",
   "execution_count": 47,
   "metadata": {},
   "outputs": [
    {
     "data": {
      "text/plain": [
       "(88, 56, 1)"
      ]
     },
     "execution_count": 47,
     "metadata": {},
     "output_type": "execute_result"
    }
   ],
   "source": [
    "sports_leisure_train.shape"
   ]
  },
  {
   "cell_type": "code",
   "execution_count": 48,
   "metadata": {},
   "outputs": [],
   "source": [
    "# Scaling datasets\n",
    "pv_scaler = MinMaxScalerDf()\n",
    "sports_leisure_train = pv_scaler.fit_transform(sports_leisure_train)\n",
    "sports_leisure_valid = pv_scaler.transform(sports_leisure_valid)\n",
    "sports_leisure_test = pv_scaler.transform(sports_leisure_test)\n",
    "\n",
    "gt_scaler = MinMaxScalerDf()\n",
    "nike_gt_train = gt_scaler.fit_transform(nike_gt_train)\n",
    "nike_gt_valid = gt_scaler.transform(nike_gt_valid)\n",
    "nike_gt_test = gt_scaler.transform(nike_gt_test)\n",
    "\n",
    "adidas_gt_train = gt_scaler.fit_transform(adidas_gt_train)\n",
    "adidas_gt_valid = gt_scaler.transform(adidas_gt_valid)\n",
    "adidas_gt_test = gt_scaler.transform(adidas_gt_test)\n",
    "\n",
    "arezzo_gt_train = gt_scaler.fit_transform(arezzo_gt_train)\n",
    "arezzo_gt_valid = gt_scaler.transform(arezzo_gt_valid)\n",
    "arezzo_gt_test = gt_scaler.transform(arezzo_gt_test)\n",
    "\n",
    "df_train_x = sports_leisure_train[:,:-1,:]\n",
    "df_train_y = sports_leisure_train[:,-1:,:]\n",
    "df_valid_x = sports_leisure_valid[:,:-1,:]\n",
    "df_valid_y = sports_leisure_valid[:,-1:,:]\n",
    "df_test_x = sports_leisure_test[:,:-1,:]\n",
    "df_test_y = sports_leisure_test[:,-1:,:]"
   ]
  },
  {
   "cell_type": "code",
   "execution_count": 49,
   "metadata": {},
   "outputs": [],
   "source": [
    "# Time to concatenate the data together\n",
    "# This should be commented out if you want to try without google trends, and specify num_series = 1 in the bellow function (a_model)\n",
    "df_train_x = np.concatenate([df_train_x,nike_gt_train], axis=2)\n",
    "df_valid_x = np.concatenate([df_valid_x,nike_gt_valid], axis=2)\n",
    "df_test_x = np.concatenate([df_test_x,nike_gt_test], axis=2)\n",
    "\n",
    "df_train_x = np.concatenate([df_train_x,adidas_gt_train], axis=2)\n",
    "df_valid_x = np.concatenate([df_valid_x,adidas_gt_valid], axis=2)\n",
    "df_test_x = np.concatenate([df_test_x,adidas_gt_test], axis=2)\n",
    "\n",
    "df_train_x = np.concatenate([df_train_x,arezzo_gt_train], axis=2)\n",
    "df_valid_x = np.concatenate([df_valid_x,arezzo_gt_valid], axis=2)\n",
    "df_test_x = np.concatenate([df_test_x,arezzo_gt_test], axis=2)"
   ]
  },
  {
   "cell_type": "code",
   "execution_count": 50,
   "metadata": {},
   "outputs": [
    {
     "data": {
      "text/plain": [
       "(88, 55, 4)"
      ]
     },
     "execution_count": 50,
     "metadata": {},
     "output_type": "execute_result"
    }
   ],
   "source": [
    "df_train_x.shape"
   ]
  },
  {
   "cell_type": "markdown",
   "metadata": {},
   "source": [
    "### Define Long Short Term Memory Model"
   ]
  },
  {
   "cell_type": "code",
   "execution_count": 51,
   "metadata": {},
   "outputs": [],
   "source": [
    "def a_model():\n",
    "    num_timesteps = 55 # the number of lags in the dataframes\n",
    "    num_series = 4     # the number of time series, specify 1 if univariate!\n",
    "    num_units = 100    # the number of hidden units\n",
    "    \n",
    "    model = Sequential()\n",
    "    model.add(LSTM(num_units, input_shape=(num_timesteps, num_series)))\n",
    "    model.add(Dropout(0.1)) # Prevent overfitting\n",
    "    model.add(Dense(units=1))\n",
    "    model.compile(optimizer='adam', loss='mean_squared_error')\n",
    "    return model"
   ]
  },
  {
   "cell_type": "code",
   "execution_count": 52,
   "metadata": {},
   "outputs": [],
   "source": [
    "# Initialize model, specify the training data, to get the input shape\n",
    "mm = a_model()"
   ]
  },
  {
   "cell_type": "code",
   "execution_count": 53,
   "metadata": {},
   "outputs": [
    {
     "name": "stdout",
     "output_type": "stream",
     "text": [
      "Model: \"sequential_2\"\n",
      "_________________________________________________________________\n",
      "Layer (type)                 Output Shape              Param #   \n",
      "=================================================================\n",
      "lstm_2 (LSTM)                (None, 100)               42000     \n",
      "_________________________________________________________________\n",
      "dropout_2 (Dropout)          (None, 100)               0         \n",
      "_________________________________________________________________\n",
      "dense_2 (Dense)              (None, 1)                 101       \n",
      "=================================================================\n",
      "Total params: 42,101\n",
      "Trainable params: 42,101\n",
      "Non-trainable params: 0\n",
      "_________________________________________________________________\n"
     ]
    }
   ],
   "source": [
    "mm.summary()"
   ]
  },
  {
   "cell_type": "markdown",
   "metadata": {},
   "source": [
    "### Train Model, Report & Visualize Performance on the Validation Set"
   ]
  },
  {
   "cell_type": "code",
   "execution_count": 54,
   "metadata": {},
   "outputs": [
    {
     "data": {
      "image/png": "[encoded data removed]",
      "text/plain": [
       "<Figure size 432x288 with 1 Axes>"
      ]
     },
     "metadata": {
      "needs_background": "light"
     },
     "output_type": "display_data"
    }
   ],
   "source": [
    "# Store the training in the history variable\n",
    "history = mm.fit(df_train_x, df_train_y, validation_data=(df_valid_x, df_valid_y), epochs=75, verbose=0)\n",
    "# See what is stored in the history\n",
    "#history.history.keys()\n",
    "\n",
    "#Plot training loss on validation set\n",
    "loss = history.history[\"loss\"]\n",
    "vloss = history.history[\"val_loss\"]\n",
    "\n",
    "plt.plot(range(len(loss)), loss,)\n",
    "plt.plot(range(len(loss)), vloss)\n",
    "\n",
    "\n",
    "plt.title(\"Sports and Leisure - Training loss on Validation Set\")\n",
    "plt.xlabel(\"Epochs\")\n",
    "plt.ylabel(\"Loss\")\n",
    "plt.show()"
   ]
  },
  {
   "cell_type": "code",
   "execution_count": 55,
   "metadata": {},
   "outputs": [
    {
     "name": "stdout",
     "output_type": "stream",
     "text": [
      "Current run id: fa6b00951137455f9ed2e6032012c372\n"
     ]
    }
   ],
   "source": [
    "# Log parameters for the first and only time\n",
    "# Key pre-processing steps should be also logged (window-size)\n",
    "with mlflow.start_run() as run:\n",
    "    mlflow.log_param('window_size', 55)      \n",
    "    mlflow.log_param('add_datepart', True)\n",
    "    mlflow.log_param('num of units', 100)\n",
    "    mlflow.log_param('dropout', 0.1)\n",
    "    mlflow.log_param('num of epochs', 75)\n",
    "    mlflow.log_param('Google Trends Series','nike masculino, Adidas Yeezy, Arezzo')\n",
    "    mlflow.log_param('Product Category','Sports and Leisure')\n",
    "                                           \n",
    "    current_run_id = run.info.run_id        # -> Set the run id to a variable that can be used throughout the notebook\n",
    "    print(f'Current run id: {current_run_id}')"
   ]
  },
  {
   "cell_type": "code",
   "execution_count": 56,
   "metadata": {},
   "outputs": [],
   "source": [
    "#metrics.get_metrics(y_val, preds_val, run_id = current_run_id, log=True, param_prefix='validation')"
   ]
  },
  {
   "cell_type": "markdown",
   "metadata": {},
   "source": [
    "### Plot Actuals & Forecasts"
   ]
  },
  {
   "cell_type": "code",
   "execution_count": 57,
   "metadata": {},
   "outputs": [
    {
     "data": {
      "image/png": "[encoded data removed]",
      "text/plain": [
       "<Figure size 432x288 with 1 Axes>"
      ]
     },
     "metadata": {
      "needs_background": "light"
     },
     "output_type": "display_data"
    }
   ],
   "source": [
    "predictions = mm.predict(df_test_x); predictions\n",
    "predictions = pv_scaler.inverse_transform(predictions);predictions\n",
    "pv_scaler.inverse_transform(df_test_y).squeeze()\n",
    "\n",
    "plt.plot(predictions, label='Forecast')\n",
    "plt.plot(pv_scaler.inverse_transform(df_test_y).squeeze(),label='Actuals')\n",
    "plt.legend()\n",
    "plt.title('Sports and Leisure - Test Set')\n",
    "plt.show()"
   ]
  },
  {
   "cell_type": "markdown",
   "metadata": {},
   "source": [
    "### Plot Residuals"
   ]
  },
  {
   "cell_type": "code",
   "execution_count": 58,
   "metadata": {},
   "outputs": [],
   "source": [
    "#Calcaulte Forecast Error\n",
    "#error = predictions - pv_scaler.inverse_transform(df_test_y).squeeze()\n",
    "#y_true = pd.DataFrame({'residuals': error})\n",
    "\n",
    "#Scatter Plot of Residuals\n",
    "#plt.scatter( x=y_true.index, y=y_true.residuals)\n",
    "#plt.title('Bed, Bath and Table Residuals - Test Set ')\n",
    "#plt.ylabel('Sales R$')\n",
    "#plt.show()\n",
    "\n",
    "#Histogram of Residuals\n",
    "#plt.hist(x=error,density=True)\n",
    "#plt.title('Histogram of Residuals - Test Set ')\n",
    "#plt.show()"
   ]
  },
  {
   "cell_type": "markdown",
   "metadata": {},
   "source": [
    "### Evaluate Performance"
   ]
  },
  {
   "cell_type": "code",
   "execution_count": 59,
   "metadata": {},
   "outputs": [
    {
     "name": "stdout",
     "output_type": "stream",
     "text": [
      "wape: 550932.6931634761\n",
      "rms: 827.1830494130522\n",
      "r2: -0.5590774941953844\n",
      "mape: 1.3853487918004153\n"
     ]
    }
   ],
   "source": [
    "metrics.get_metrics(pv_scaler.inverse_transform(df_test_y).squeeze(),predictions, run_id=current_run_id,log=True,param_prefix='test')"
   ]
  },
  {
   "cell_type": "markdown",
   "metadata": {},
   "source": [
    "# Product Category 4: Furniture Decor <a name = \"furniture_decor\"/>"
   ]
  },
  {
   "cell_type": "code",
   "execution_count": 60,
   "metadata": {},
   "outputs": [],
   "source": [
    "#Filter on product categories (series)\n",
    "furniture_decor_train = df_train.loc[df_train['product_category_name'] == 'furniture_decor'].copy()\n",
    "furniture_decor_valid = df_valid.loc[df_valid['product_category_name'] == 'furniture_decor'].copy()\n",
    "furniture_decor_test = df_test.loc[df_test['product_category_name'] == 'furniture_decor'].copy()\n",
    "\n",
    "#Drop columns that are no longer required\n",
    "columns = ['product_category_name']\n",
    "\n",
    "furniture_decor_train.drop(columns, inplace=True, axis=1)\n",
    "furniture_decor_valid.drop(columns, inplace=True, axis=1)\n",
    "furniture_decor_test.drop(columns, inplace=True, axis=1)"
   ]
  },
  {
   "cell_type": "code",
   "execution_count": 61,
   "metadata": {},
   "outputs": [],
   "source": [
    "couch = pd.read_csv(os.path.join(base_dir_1,'Couch.csv')).iloc[1:]\n",
    "furniture = pd.read_csv(os.path.join(base_dir_1,'Furniture.csv')).iloc[1:]\n",
    "etna = pd.read_csv(os.path.join(base_dir_1,'Etna.csv')).iloc[1:]\n",
    "xmasdecor = pd.read_csv(os.path.join(base_dir_1,'xmas_decoration.csv')).iloc[1:]\n",
    "\n",
    "couch_gt =  utils.make_lag_features(couch,\n",
    "                                   config['pre_processing']['window_size'], \n",
    "                                   col_name='Category: Home Furnishings', \n",
    "                                   prefix_name='couch_gt').dropna().reset_index().rename(columns={'index':'order_approved_at'})\n",
    "\n",
    "furniture_gt =  utils.make_lag_features(furniture,\n",
    "                                   config['pre_processing']['window_size'], \n",
    "                                   col_name='Category: Home Furnishings', \n",
    "                                   prefix_name='móveis_gt').dropna().reset_index().rename(columns={'index':'order_approved_at'})\n",
    "\n",
    "    \n",
    "etna_gt =  utils.make_lag_features(etna,\n",
    "                                   config['pre_processing']['window_size'], \n",
    "                                   col_name='Category: All categories', \n",
    "                                   prefix_name='etna móveis_gt').dropna().reset_index().rename(columns={'index':'order_approved_at'})\n",
    "\n",
    "\n",
    "xmasdecor_gt =  utils.make_lag_features(xmasdecor,\n",
    "                                   config['pre_processing']['window_size'], \n",
    "                                   col_name='Category: All categories', \n",
    "                                   prefix_name='Christmas decoration_gt').dropna().reset_index().rename(columns={'index':'order_approved_at'})\n",
    "\n",
    "\n",
    "# we dont care about the prediction here. Drop category\n",
    "couch_gt.drop(columns='Category: Home Furnishings', inplace=True)\n",
    "couch_gt = couch_gt[couch_gt.columns[::-1]]\n",
    "\n",
    "furniture_gt.drop(columns='Category: Home Furnishings', inplace=True)\n",
    "furniture_gt = furniture_gt[furniture_gt.columns[::-1]]\n",
    "\n",
    "etna_gt.drop(columns='Category: All categories', inplace=True)\n",
    "etna_gt = etna_gt[etna_gt.columns[::-1]]\n",
    "\n",
    "\n",
    "xmasdecor_gt.drop(columns='Category: All categories', inplace=True)\n",
    "xmasdecor_gt = xmasdecor_gt[xmasdecor_gt.columns[::-1]]"
   ]
  },
  {
   "cell_type": "code",
   "execution_count": 62,
   "metadata": {},
   "outputs": [],
   "source": [
    "couch_gt['order_approved_at'] = pd.to_datetime(couch_gt['order_approved_at'])\n",
    "\n",
    "furniture_decor_train = furniture_decor_train[(furniture_decor_train['order_approved_at'] >= couch_gt['order_approved_at'].min()) &\n",
    "                    (furniture_decor_train['order_approved_at'] < couch_gt['order_approved_at'].max())]\n",
    "\n",
    "furniture_decor_valid = furniture_decor_valid[(furniture_decor_valid['order_approved_at'] >= couch_gt['order_approved_at'].min()) &\n",
    "                    (furniture_decor_valid['order_approved_at'] < couch_gt['order_approved_at'].max())]\n",
    "\n",
    "furniture_decor_test = furniture_decor_test[(furniture_decor_test['order_approved_at'] >= couch_gt['order_approved_at'].min()) &\n",
    "                  (furniture_decor_test['order_approved_at'] < couch_gt['order_approved_at'].max())]\n",
    "\n",
    "couch_gt_train = couch_gt[(couch_gt['order_approved_at'] >= furniture_decor_train['order_approved_at'].min()) &\n",
    "                                           (couch_gt['order_approved_at'] <= furniture_decor_train['order_approved_at'].max())].copy()\n",
    "couch_gt_valid = couch_gt[(couch_gt['order_approved_at'] >= furniture_decor_valid['order_approved_at'].min()) &\n",
    "                                           (couch_gt['order_approved_at'] <= furniture_decor_valid['order_approved_at'].max())].copy()\n",
    "couch_gt_test = couch_gt[(couch_gt['order_approved_at'] >= furniture_decor_test['order_approved_at'].min()) &\n",
    "                                           (couch_gt['order_approved_at'] <= furniture_decor_test['order_approved_at'].max())].copy()\n",
    "\n",
    "\n",
    "furniture_gt['order_approved_at'] = pd.to_datetime(furniture_gt['order_approved_at'])\n",
    "\n",
    "furniture_decor_train = furniture_decor_train[(furniture_decor_train['order_approved_at'] >= furniture_gt['order_approved_at'].min()) &\n",
    "                    (furniture_decor_train['order_approved_at'] < furniture_gt['order_approved_at'].max())]\n",
    "\n",
    "furniture_decor_valid = furniture_decor_valid[(furniture_decor_valid['order_approved_at'] >= furniture_gt['order_approved_at'].min()) &\n",
    "                    (furniture_decor_valid['order_approved_at'] < furniture_gt['order_approved_at'].max())]\n",
    "\n",
    "furniture_decor_test = furniture_decor_test[(furniture_decor_test['order_approved_at'] >= furniture_gt['order_approved_at'].min()) &\n",
    "                  (furniture_decor_test['order_approved_at'] < furniture_gt['order_approved_at'].max())]\n",
    "\n",
    "furniture_gt_train = furniture_gt[(furniture_gt['order_approved_at'] >= furniture_decor_train['order_approved_at'].min()) &\n",
    "                                           (furniture_gt['order_approved_at'] <= furniture_decor_train['order_approved_at'].max())].copy()\n",
    "furniture_gt_valid = furniture_gt[(furniture_gt['order_approved_at'] >= furniture_decor_valid['order_approved_at'].min()) &\n",
    "                                           (furniture_gt['order_approved_at'] <= furniture_decor_valid['order_approved_at'].max())].copy()\n",
    "furniture_gt_test = furniture_gt[(furniture_gt['order_approved_at'] >= furniture_decor_test['order_approved_at'].min()) &\n",
    "                                           (furniture_gt['order_approved_at'] <= furniture_decor_test['order_approved_at'].max())].copy()\n",
    "\n",
    "\n",
    "etna_gt['order_approved_at'] = pd.to_datetime(etna_gt['order_approved_at'])\n",
    "\n",
    "furniture_decor_train = furniture_decor_train[(furniture_decor_train['order_approved_at'] >= etna_gt['order_approved_at'].min()) &\n",
    "                    (furniture_decor_train['order_approved_at'] < etna_gt['order_approved_at'].max())]\n",
    "\n",
    "furniture_decor_valid = furniture_decor_valid[(furniture_decor_valid['order_approved_at'] >= etna_gt['order_approved_at'].min()) &\n",
    "                    (furniture_decor_valid['order_approved_at'] < etna_gt['order_approved_at'].max())]\n",
    "\n",
    "furniture_decor_test = furniture_decor_test[(furniture_decor_test['order_approved_at'] >= etna_gt['order_approved_at'].min()) &\n",
    "                  (furniture_decor_test['order_approved_at'] < etna_gt['order_approved_at'].max())]\n",
    "\n",
    "etna_gt_train = etna_gt[(etna_gt['order_approved_at'] >= furniture_decor_train['order_approved_at'].min()) &\n",
    "                                           (etna_gt['order_approved_at'] <= furniture_decor_train['order_approved_at'].max())].copy()\n",
    "etna_gt_valid = etna_gt[(etna_gt['order_approved_at'] >= furniture_decor_valid['order_approved_at'].min()) &\n",
    "                                           (etna_gt['order_approved_at'] <= furniture_decor_valid['order_approved_at'].max())].copy()\n",
    "etna_gt_test = etna_gt[(etna_gt['order_approved_at'] >= furniture_decor_test['order_approved_at'].min()) &\n",
    "                                           (etna_gt['order_approved_at'] <= furniture_decor_test['order_approved_at'].max())].copy()\n",
    "\n",
    "\n",
    "xmasdecor_gt['order_approved_at'] = pd.to_datetime(xmasdecor_gt['order_approved_at'])\n",
    "\n",
    "furniture_decor_train = furniture_decor_train[(furniture_decor_train['order_approved_at'] >= xmasdecor_gt['order_approved_at'].min()) &\n",
    "                    (furniture_decor_train['order_approved_at'] < xmasdecor_gt['order_approved_at'].max())]\n",
    "\n",
    "furniture_decor_valid = furniture_decor_valid[(furniture_decor_valid['order_approved_at'] >= xmasdecor_gt['order_approved_at'].min()) &\n",
    "                    (furniture_decor_valid['order_approved_at'] < xmasdecor_gt['order_approved_at'].max())]\n",
    "\n",
    "furniture_decor_test = furniture_decor_test[(furniture_decor_test['order_approved_at'] >= xmasdecor_gt['order_approved_at'].min()) &\n",
    "                  (furniture_decor_test['order_approved_at'] < xmasdecor_gt['order_approved_at'].max())]\n",
    "\n",
    "xmasdecor_gt_train = xmasdecor_gt[(xmasdecor_gt['order_approved_at'] >= furniture_decor_train['order_approved_at'].min()) &\n",
    "                                           (xmasdecor_gt['order_approved_at'] <= furniture_decor_train['order_approved_at'].max())].copy()\n",
    "xmasdecor_gt_valid = xmasdecor_gt[(xmasdecor_gt['order_approved_at'] >= furniture_decor_valid['order_approved_at'].min()) &\n",
    "                                           (xmasdecor_gt['order_approved_at'] <= furniture_decor_valid['order_approved_at'].max())].copy()\n",
    "xmasdecor_gt_test = xmasdecor_gt[(xmasdecor_gt['order_approved_at'] >= furniture_decor_test['order_approved_at'].min()) &\n",
    "                                           (xmasdecor_gt['order_approved_at'] <= furniture_decor_test['order_approved_at'].max())].copy()"
   ]
  },
  {
   "cell_type": "code",
   "execution_count": 63,
   "metadata": {},
   "outputs": [],
   "source": [
    "# Drop unrequired columns\n",
    "furniture_decor_train = furniture_decor_train.drop(columns=['order_approved_at'])\n",
    "furniture_decor_valid = furniture_decor_valid.drop(columns=['order_approved_at'])\n",
    "furniture_decor_test = furniture_decor_test.drop(columns=['order_approved_at'])\n",
    "\n",
    "couch_gt_train = couch_gt_train.drop(columns=['order_approved_at'])\n",
    "couch_gt_valid = couch_gt_valid.drop(columns=['order_approved_at'])\n",
    "couch_gt_test = couch_gt_test.drop(columns=['order_approved_at'])\n",
    "\n",
    "furniture_gt_train = furniture_gt_train.drop(columns=['order_approved_at'])\n",
    "furniture_gt_valid = furniture_gt_valid.drop(columns=['order_approved_at'])\n",
    "furniture_gt_test = furniture_gt_test.drop(columns=['order_approved_at'])\n",
    "\n",
    "etna_gt_train = etna_gt_train.drop(columns=['order_approved_at'])\n",
    "etna_gt_valid = etna_gt_valid.drop(columns=['order_approved_at'])\n",
    "etna_gt_test = etna_gt_test.drop(columns=['order_approved_at'])\n",
    "\n",
    "xmasdecor_gt_train = xmasdecor_gt_train.drop(columns=['order_approved_at'])\n",
    "xmasdecor_gt_valid = xmasdecor_gt_valid.drop(columns=['order_approved_at'])\n",
    "xmasdecor_gt_test = xmasdecor_gt_test.drop(columns=['order_approved_at'])\n"
   ]
  },
  {
   "cell_type": "code",
   "execution_count": 64,
   "metadata": {},
   "outputs": [],
   "source": [
    "# Reshape and convert to numpy arrays\n",
    "furniture_decor_train = furniture_decor_train.to_numpy().reshape(furniture_decor_train.shape[0], furniture_decor_train.shape[1], 1)\n",
    "furniture_decor_valid = furniture_decor_valid.to_numpy().reshape(furniture_decor_valid.shape[0], furniture_decor_valid.shape[1], 1)\n",
    "furniture_decor_test = furniture_decor_test.to_numpy().reshape(furniture_decor_test.shape[0], furniture_decor_test.shape[1], 1)\n",
    "\n",
    "\n",
    "couch_gt_train = couch_gt_train.astype(int).to_numpy().reshape(couch_gt_train.shape[0], \n",
    "                                                                               couch_gt_train.shape[1], 1)\n",
    "couch_gt_valid = couch_gt_valid.astype(int).to_numpy().reshape(couch_gt_valid.shape[0], \n",
    "                                                                               couch_gt_valid.shape[1], 1)\n",
    "couch_gt_test = couch_gt_test.astype(int).to_numpy().reshape(couch_gt_test.shape[0], \n",
    "                                                                             couch_gt_test.shape[1], 1)\n",
    "\n",
    "\n",
    "furniture_gt_train = furniture_gt_train.astype(int).to_numpy().reshape(furniture_gt_train.shape[0], \n",
    "                                                                               furniture_gt_train.shape[1], 1)\n",
    "furniture_gt_valid = furniture_gt_valid.astype(int).to_numpy().reshape(furniture_gt_valid.shape[0], \n",
    "                                                                               furniture_gt_valid.shape[1], 1)\n",
    "furniture_gt_test = furniture_gt_test.astype(int).to_numpy().reshape(furniture_gt_test.shape[0], \n",
    "                                                                             furniture_gt_test.shape[1], 1)\n",
    "\n",
    "\n",
    "etna_gt_train = etna_gt_train.astype(int).to_numpy().reshape(etna_gt_train.shape[0], \n",
    "                                                                               etna_gt_train.shape[1], 1)\n",
    "etna_gt_valid = etna_gt_valid.astype(int).to_numpy().reshape(etna_gt_valid.shape[0], \n",
    "                                                                               etna_gt_valid.shape[1], 1)\n",
    "etna_gt_test = etna_gt_test.astype(int).to_numpy().reshape(etna_gt_test.shape[0], \n",
    "                                                                             etna_gt_test.shape[1], 1)\n",
    "\n",
    "\n",
    "xmasdecor_gt_train = xmasdecor_gt_train.astype(int).to_numpy().reshape(xmasdecor_gt_train.shape[0], \n",
    "                                                                               xmasdecor_gt_train.shape[1], 1)\n",
    "xmasdecor_gt_valid = xmasdecor_gt_valid.astype(int).to_numpy().reshape(xmasdecor_gt_valid.shape[0], \n",
    "                                                                               xmasdecor_gt_valid.shape[1], 1)\n",
    "xmasdecor_gt_test = xmasdecor_gt_test.astype(int).to_numpy().reshape(xmasdecor_gt_test.shape[0], \n",
    "                                                                             xmasdecor_gt_test.shape[1], 1)"
   ]
  },
  {
   "cell_type": "code",
   "execution_count": 65,
   "metadata": {},
   "outputs": [
    {
     "data": {
      "text/plain": [
       "(88, 56, 1)"
      ]
     },
     "execution_count": 65,
     "metadata": {},
     "output_type": "execute_result"
    }
   ],
   "source": [
    "furniture_decor_train.shape"
   ]
  },
  {
   "cell_type": "code",
   "execution_count": 66,
   "metadata": {},
   "outputs": [],
   "source": [
    "# Scaling datasets\n",
    "pv_scaler = MinMaxScalerDf()\n",
    "furniture_decor_train = pv_scaler.fit_transform(furniture_decor_train)\n",
    "furniture_decor_valid = pv_scaler.transform(furniture_decor_valid)\n",
    "furniture_decor_test = pv_scaler.transform(furniture_decor_test)\n",
    "\n",
    "gt_scaler = MinMaxScalerDf()\n",
    "couch_gt_train = gt_scaler.fit_transform(couch_gt_train)\n",
    "couch_gt_valid = gt_scaler.transform(couch_gt_valid)\n",
    "couch_gt_test = gt_scaler.transform(couch_gt_test)\n",
    "\n",
    "furniture_gt_train = gt_scaler.fit_transform(furniture_gt_train)\n",
    "furniture_gt_valid = gt_scaler.transform(furniture_gt_valid)\n",
    "furniture_gt_test = gt_scaler.transform(furniture_gt_test)\n",
    "\n",
    "etna_gt_train = gt_scaler.fit_transform(etna_gt_train)\n",
    "etna_gt_valid = gt_scaler.transform(etna_gt_valid)\n",
    "etna_gt_test = gt_scaler.transform(etna_gt_test)\n",
    "\n",
    "xmasdecor_gt_train = gt_scaler.fit_transform(xmasdecor_gt_train)\n",
    "xmasdecor_gt_valid = gt_scaler.transform(xmasdecor_gt_valid)\n",
    "xmasdecor_gt_test = gt_scaler.transform(xmasdecor_gt_test)\n",
    "\n",
    "df_train_x = furniture_decor_train[:,:-1,:]\n",
    "df_train_y = furniture_decor_train[:,-1:,:]\n",
    "df_valid_x = furniture_decor_valid[:,:-1,:]\n",
    "df_valid_y = furniture_decor_valid[:,-1:,:]\n",
    "df_test_x = furniture_decor_test[:,:-1,:]\n",
    "df_test_y = furniture_decor_test[:,-1:,:]"
   ]
  },
  {
   "cell_type": "code",
   "execution_count": 67,
   "metadata": {},
   "outputs": [],
   "source": [
    "# Time to concatenate the data together\n",
    "# This should be commented out if you want to try without google trends, and specify num_series = 1 in the bellow function (a_model)\n",
    "df_train_x = np.concatenate([df_train_x,couch_gt_train], axis=2)\n",
    "df_valid_x = np.concatenate([df_valid_x,couch_gt_valid], axis=2)\n",
    "df_test_x = np.concatenate([df_test_x,couch_gt_test], axis=2)\n",
    "\n",
    "df_train_x = np.concatenate([df_train_x,furniture_gt_train], axis=2)\n",
    "df_valid_x = np.concatenate([df_valid_x,furniture_gt_valid], axis=2)\n",
    "df_test_x = np.concatenate([df_test_x,furniture_gt_test], axis=2)\n",
    "\n",
    "df_train_x = np.concatenate([df_train_x,etna_gt_train], axis=2)\n",
    "df_valid_x = np.concatenate([df_valid_x,etna_gt_valid], axis=2)\n",
    "df_test_x = np.concatenate([df_test_x,etna_gt_test], axis=2)\n",
    "\n",
    "df_train_x = np.concatenate([df_train_x,xmasdecor_gt_train], axis=2)\n",
    "df_valid_x = np.concatenate([df_valid_x,xmasdecor_gt_valid], axis=2)\n",
    "df_test_x = np.concatenate([df_test_x,xmasdecor_gt_test], axis=2)"
   ]
  },
  {
   "cell_type": "code",
   "execution_count": 68,
   "metadata": {},
   "outputs": [
    {
     "data": {
      "text/plain": [
       "(88, 55, 5)"
      ]
     },
     "execution_count": 68,
     "metadata": {},
     "output_type": "execute_result"
    }
   ],
   "source": [
    "df_train_x.shape"
   ]
  },
  {
   "cell_type": "markdown",
   "metadata": {},
   "source": [
    "### Define Long Short Term Memory Model"
   ]
  },
  {
   "cell_type": "code",
   "execution_count": 69,
   "metadata": {},
   "outputs": [],
   "source": [
    "def a_model():\n",
    "    num_timesteps = 55 # the number of lags in the dataframes\n",
    "    num_series = 5     # the number of time series, specify 1 if univariate!\n",
    "    num_units = 100    # the number of hidden units\n",
    "    \n",
    "    model = Sequential()\n",
    "    model.add(LSTM(num_units, input_shape=(num_timesteps, num_series)))\n",
    "    model.add(Dropout(0.1)) # Prevent overfitting\n",
    "    model.add(Dense(units=1))\n",
    "    model.compile(optimizer='adam', loss='mean_squared_error')\n",
    "    return model"
   ]
  },
  {
   "cell_type": "code",
   "execution_count": 70,
   "metadata": {},
   "outputs": [],
   "source": [
    "# Initialize model, specify the training data, to get the input shape\n",
    "mm = a_model()"
   ]
  },
  {
   "cell_type": "code",
   "execution_count": 71,
   "metadata": {},
   "outputs": [
    {
     "name": "stdout",
     "output_type": "stream",
     "text": [
      "Model: \"sequential_3\"\n",
      "_________________________________________________________________\n",
      "Layer (type)                 Output Shape              Param #   \n",
      "=================================================================\n",
      "lstm_3 (LSTM)                (None, 100)               42400     \n",
      "_________________________________________________________________\n",
      "dropout_3 (Dropout)          (None, 100)               0         \n",
      "_________________________________________________________________\n",
      "dense_3 (Dense)              (None, 1)                 101       \n",
      "=================================================================\n",
      "Total params: 42,501\n",
      "Trainable params: 42,501\n",
      "Non-trainable params: 0\n",
      "_________________________________________________________________\n"
     ]
    }
   ],
   "source": [
    "mm.summary()"
   ]
  },
  {
   "cell_type": "markdown",
   "metadata": {},
   "source": [
    "### Train Model, Report & Visualize Performance on the Validation Set"
   ]
  },
  {
   "cell_type": "code",
   "execution_count": 72,
   "metadata": {},
   "outputs": [
    {
     "data": {
      "image/png": "[encoded data removed]",
      "text/plain": [
       "<Figure size 432x288 with 1 Axes>"
      ]
     },
     "metadata": {
      "needs_background": "light"
     },
     "output_type": "display_data"
    }
   ],
   "source": [
    "# Store the training in the history variable\n",
    "history = mm.fit(df_train_x, df_train_y, validation_data=(df_valid_x, df_valid_y), epochs=75, verbose=0)\n",
    "# See what is stored in the history\n",
    "#history.history.keys()\n",
    "\n",
    "#Plot training loss on validation set\n",
    "loss = history.history[\"loss\"]\n",
    "vloss = history.history[\"val_loss\"]\n",
    "\n",
    "plt.plot(range(len(loss)), loss,)\n",
    "plt.plot(range(len(loss)), vloss)\n",
    "\n",
    "\n",
    "plt.title(\"Furniture Decor - Training loss on Validation Set\")\n",
    "plt.xlabel(\"Epochs\")\n",
    "plt.ylabel(\"Loss\")\n",
    "plt.show()"
   ]
  },
  {
   "cell_type": "code",
   "execution_count": 73,
   "metadata": {},
   "outputs": [
    {
     "name": "stdout",
     "output_type": "stream",
     "text": [
      "Current run id: bf40c248816940a1860bd888fb4fd185\n"
     ]
    }
   ],
   "source": [
    "# Log parameters for the first and only time\n",
    "# Key pre-processing steps should be also logged (window-size)\n",
    "with mlflow.start_run() as run:\n",
    "    mlflow.log_param('window_size', 55)      \n",
    "    mlflow.log_param('add_datepart', True)\n",
    "    mlflow.log_param('num of units', 100)\n",
    "    mlflow.log_param('dropout', 0.1)\n",
    "    mlflow.log_param('num of epochs', 75)\n",
    "    mlflow.log_param('Google Trends Series','couch, Móveis, Etna Móveis, Christmas decoration')\n",
    "    mlflow.log_param('Product Category','Furniture Decor')\n",
    "                                           \n",
    "    current_run_id = run.info.run_id        # -> Set the run id to a variable that can be used throughout the notebook\n",
    "    print(f'Current run id: {current_run_id}')"
   ]
  },
  {
   "cell_type": "code",
   "execution_count": 74,
   "metadata": {},
   "outputs": [],
   "source": [
    "#metrics.get_metrics(inv_y, inv_yhat, run_id = current_run_id, log=True, param_prefix='validation')"
   ]
  },
  {
   "cell_type": "markdown",
   "metadata": {},
   "source": [
    "### Plot Actuals & Forecasts"
   ]
  },
  {
   "cell_type": "code",
   "execution_count": 75,
   "metadata": {},
   "outputs": [
    {
     "data": {
      "image/png": "[encoded data removed]",
      "text/plain": [
       "<Figure size 432x288 with 1 Axes>"
      ]
     },
     "metadata": {
      "needs_background": "light"
     },
     "output_type": "display_data"
    }
   ],
   "source": [
    "predictions = mm.predict(df_test_x); predictions\n",
    "predictions = pv_scaler.inverse_transform(predictions);predictions\n",
    "pv_scaler.inverse_transform(df_test_y).squeeze()\n",
    "\n",
    "plt.plot(predictions, label='Forecast')\n",
    "plt.plot(pv_scaler.inverse_transform(df_test_y).squeeze(),label='Actuals')\n",
    "plt.legend()\n",
    "plt.title('Furniture Decor - Test Set')\n",
    "plt.show()"
   ]
  },
  {
   "cell_type": "markdown",
   "metadata": {},
   "source": [
    "### Plot Residuals"
   ]
  },
  {
   "cell_type": "code",
   "execution_count": 76,
   "metadata": {},
   "outputs": [],
   "source": [
    "#Calcaulte Forecast Error\n",
    "#error = predictions - pv_scaler.inverse_transform(df_test_y).squeeze()\n",
    "#y_true = pd.DataFrame({'residuals': error})\n",
    "\n",
    "#Scatter Plot of Residuals\n",
    "#plt.scatter( x=y_true.index, y=y_true.residuals)\n",
    "#plt.title('Bed, Bath and Table Residuals - Test Set ')\n",
    "#plt.ylabel('Sales R$')\n",
    "#plt.show()\n",
    "\n",
    "#Histogram of Residuals\n",
    "#plt.hist(x=error,density=True)\n",
    "#plt.title('Histogram of Residuals - Test Set ')\n",
    "#plt.show()"
   ]
  },
  {
   "cell_type": "markdown",
   "metadata": {},
   "source": [
    "### Evaluate Performance"
   ]
  },
  {
   "cell_type": "code",
   "execution_count": 77,
   "metadata": {},
   "outputs": [
    {
     "name": "stdout",
     "output_type": "stream",
     "text": [
      "wape: 145999.69069411804\n",
      "rms: 1284.7119656721616\n",
      "r2: -5.192562231548811\n",
      "mape: 238.55132378446362\n"
     ]
    }
   ],
   "source": [
    "metrics.get_metrics(pv_scaler.inverse_transform(df_test_y).squeeze(),predictions, run_id=current_run_id,log=True,param_prefix='test')"
   ]
  },
  {
   "cell_type": "markdown",
   "metadata": {},
   "source": [
    "# Product Category 5: Watches Gifts <a name = \"watches_gifts\"/>"
   ]
  },
  {
   "cell_type": "code",
   "execution_count": 78,
   "metadata": {},
   "outputs": [],
   "source": [
    "#Filter on product categories (series)\n",
    "watches_gifts_train = df_train.loc[df_train['product_category_name'] == 'watches_gifts'].copy()\n",
    "watches_gifts_valid = df_valid.loc[df_valid['product_category_name'] == 'watches_gifts'].copy()\n",
    "watches_gifts_test = df_test.loc[df_test['product_category_name'] == 'watches_gifts'].copy()\n",
    "\n",
    "#Drop columns that are no longer required\n",
    "columns = ['product_category_name']\n",
    "\n",
    "watches_gifts_train.drop(columns, inplace=True, axis=1)\n",
    "watches_gifts_valid.drop(columns, inplace=True, axis=1)\n",
    "watches_gifts_test.drop(columns, inplace=True, axis=1)"
   ]
  },
  {
   "cell_type": "code",
   "execution_count": 79,
   "metadata": {},
   "outputs": [],
   "source": [
    "#Read and process GoogleTrends Series\n",
    "base_dir_1 = \"C:\\\\Users\\\\feras\\\\Documents\\\\Thesis_2020\\\\GoogleTrendsSeries\\\\\"\n",
    "\n",
    "watches = pd.read_csv(os.path.join(base_dir_1,'Watches.csv')).iloc[1:]\n",
    "gifts = pd.read_csv(os.path.join(base_dir_1,'Gifts.csv')).iloc[1:]\n",
    "\n",
    "\n",
    "watches_gt =  utils.make_lag_features(watches,\n",
    "                                   config['pre_processing']['window_size'], \n",
    "                                   col_name='Category: Shopping', \n",
    "                                   prefix_name='watches_gt').dropna().reset_index().rename(columns={'index':'order_approved_at'})\n",
    "\n",
    "\n",
    "gifts_gt =  utils.make_lag_features(gifts,\n",
    "                                   config['pre_processing']['window_size'], \n",
    "                                   col_name='Category: Shopping', \n",
    "                                   prefix_name='gifts_gt').dropna().reset_index().rename(columns={'index':'order_approved_at'})\n",
    "\n",
    "\n",
    "\n",
    "# we dont care about the prediction here. Drop category\n",
    "watches_gt.drop(columns='Category: Shopping', inplace=True)\n",
    "watches_gt = watches_gt[watches_gt.columns[::-1]]\n",
    "\n",
    "gifts_gt.drop(columns='Category: Shopping', inplace=True)\n",
    "gifts_gt = gifts_gt[gifts_gt.columns[::-1]]"
   ]
  },
  {
   "cell_type": "code",
   "execution_count": 80,
   "metadata": {},
   "outputs": [],
   "source": [
    "# Filter HistoricalSales and GoogleTrends Series\n",
    "\n",
    "watches_gt['order_approved_at'] = pd.to_datetime(watches_gt['order_approved_at'])\n",
    "\n",
    "watches_gifts_train = watches_gifts_train[(watches_gifts_train['order_approved_at'] >= watches_gt['order_approved_at'].min()) &\n",
    "                    (watches_gifts_train['order_approved_at'] < watches_gt['order_approved_at'].max())]\n",
    "\n",
    "watches_gifts_valid = watches_gifts_valid[(watches_gifts_valid['order_approved_at'] >= watches_gt['order_approved_at'].min()) &\n",
    "                    (watches_gifts_valid['order_approved_at'] < watches_gt['order_approved_at'].max())]\n",
    "\n",
    "watches_gifts_test = watches_gifts_test[(watches_gifts_test['order_approved_at'] >= watches_gt['order_approved_at'].min()) &\n",
    "                  (watches_gifts_test['order_approved_at'] < watches_gt['order_approved_at'].max())]\n",
    "\n",
    "watches_gt_train = watches_gt[(watches_gt['order_approved_at'] >= watches_gifts_train['order_approved_at'].min()) &\n",
    "                                           (watches_gt['order_approved_at'] <= watches_gifts_train['order_approved_at'].max())].copy()\n",
    "watches_gt_valid = watches_gt[(watches_gt['order_approved_at'] >= watches_gifts_valid['order_approved_at'].min()) &\n",
    "                                           (watches_gt['order_approved_at'] <= watches_gifts_valid['order_approved_at'].max())].copy()\n",
    "watches_gt_test = watches_gt[(watches_gt['order_approved_at'] >= watches_gifts_test['order_approved_at'].min()) &\n",
    "                                           (watches_gt['order_approved_at'] <= watches_gifts_test['order_approved_at'].max())].copy()\n",
    "\n",
    "\n",
    "\n",
    "gifts_gt['order_approved_at'] = pd.to_datetime(gifts_gt['order_approved_at'])\n",
    "\n",
    "watches_gifts_train = watches_gifts_train[(watches_gifts_train['order_approved_at'] >= gifts_gt['order_approved_at'].min()) &\n",
    "                    (watches_gifts_train['order_approved_at'] < gifts_gt['order_approved_at'].max())]\n",
    "\n",
    "watches_gifts_valid = watches_gifts_valid[(watches_gifts_valid['order_approved_at'] >= gifts_gt['order_approved_at'].min()) &\n",
    "                    (watches_gifts_valid['order_approved_at'] < gifts_gt['order_approved_at'].max())]\n",
    "\n",
    "watches_gifts_test = watches_gifts_test[(watches_gifts_test['order_approved_at'] >= gifts_gt['order_approved_at'].min()) &\n",
    "                  (watches_gifts_test['order_approved_at'] < gifts_gt['order_approved_at'].max())]\n",
    "\n",
    "gifts_gt_train = gifts_gt[(gifts_gt['order_approved_at'] >= watches_gifts_train['order_approved_at'].min()) &\n",
    "                                           (gifts_gt['order_approved_at'] <= watches_gifts_train['order_approved_at'].max())].copy()\n",
    "gifts_gt_valid = gifts_gt[(gifts_gt['order_approved_at'] >= watches_gifts_valid['order_approved_at'].min()) &\n",
    "                                           (gifts_gt['order_approved_at'] <= watches_gifts_valid['order_approved_at'].max())].copy()\n",
    "gifts_gt_test = gifts_gt[(gifts_gt['order_approved_at'] >= watches_gifts_test['order_approved_at'].min()) &\n",
    "                                           (gifts_gt['order_approved_at'] <= watches_gifts_test['order_approved_at'].max())].copy()\n"
   ]
  },
  {
   "cell_type": "code",
   "execution_count": 81,
   "metadata": {},
   "outputs": [],
   "source": [
    "# Drop unrequired columns\n",
    "watches_gifts_train = watches_gifts_train.drop(columns=['order_approved_at'])\n",
    "watches_gifts_valid = watches_gifts_valid.drop(columns=['order_approved_at'])\n",
    "watches_gifts_test = watches_gifts_test.drop(columns=['order_approved_at'])\n",
    "\n",
    "\n",
    "watches_gt_train = watches_gt_train.drop(columns=['order_approved_at'])\n",
    "watches_gt_valid = watches_gt_valid.drop(columns=['order_approved_at'])\n",
    "watches_gt_test = watches_gt_test.drop(columns=['order_approved_at'])\n",
    "\n",
    "\n",
    "gifts_gt_train = gifts_gt_train.drop(columns=['order_approved_at'])\n",
    "gifts_gt_valid = gifts_gt_valid.drop(columns=['order_approved_at'])\n",
    "gifts_gt_test = gifts_gt_test.drop(columns=['order_approved_at'])\n"
   ]
  },
  {
   "cell_type": "code",
   "execution_count": 82,
   "metadata": {},
   "outputs": [],
   "source": [
    "# Reshape and convert to numpy arrays\n",
    "watches_gifts_train = watches_gifts_train.to_numpy().reshape(watches_gifts_train.shape[0], watches_gifts_train.shape[1], 1)\n",
    "watches_gifts_valid = watches_gifts_valid.to_numpy().reshape(watches_gifts_valid.shape[0], watches_gifts_valid.shape[1], 1)\n",
    "watches_gifts_test = watches_gifts_test.to_numpy().reshape(watches_gifts_test.shape[0], watches_gifts_test.shape[1], 1)\n",
    "\n",
    "watches_gt_train = watches_gt_train.astype(int).to_numpy().reshape(watches_gt_train.shape[0], \n",
    "                                                                               watches_gt_train.shape[1], 1)\n",
    "watches_gt_valid = watches_gt_valid.astype(int).to_numpy().reshape(watches_gt_valid.shape[0], \n",
    "                                                                               watches_gt_valid.shape[1], 1)\n",
    "watches_gt_test = watches_gt_test.astype(int).to_numpy().reshape(watches_gt_test.shape[0], \n",
    "                                                                             watches_gt_test.shape[1], 1)\n",
    "\n",
    "gifts_gt_train = gifts_gt_train.astype(int).to_numpy().reshape(gifts_gt_train.shape[0], \n",
    "                                                                               gifts_gt_train.shape[1], 1)\n",
    "gifts_gt_valid = gifts_gt_valid.astype(int).to_numpy().reshape(gifts_gt_valid.shape[0], \n",
    "                                                                               gifts_gt_valid.shape[1], 1)\n",
    "gifts_gt_test = gifts_gt_test.astype(int).to_numpy().reshape(gifts_gt_test.shape[0], \n",
    "                                                                             gifts_gt_test.shape[1], 1)"
   ]
  },
  {
   "cell_type": "code",
   "execution_count": 83,
   "metadata": {},
   "outputs": [],
   "source": [
    "# Scaling datasets\n",
    "pv_scaler = MinMaxScalerDf()\n",
    "watches_gifts_train = pv_scaler.fit_transform(watches_gifts_train)\n",
    "watches_gifts_valid = pv_scaler.transform(watches_gifts_valid)\n",
    "watches_gifts_test = pv_scaler.transform(watches_gifts_test)\n",
    "\n",
    "gt_scaler = MinMaxScalerDf()\n",
    "watches_gt_train = gt_scaler.fit_transform(watches_gt_train)\n",
    "watches_gt_valid = gt_scaler.transform(watches_gt_valid)\n",
    "watches_gt_test = gt_scaler.transform(watches_gt_test)\n",
    "\n",
    "gifts_gt_train = gt_scaler.fit_transform(gifts_gt_train)\n",
    "gifts_gt_valid = gt_scaler.transform(gifts_gt_valid)\n",
    "gifts_gt_test = gt_scaler.transform(gifts_gt_test)\n",
    "\n",
    "\n",
    "df_train_x = watches_gifts_train[:,:-1,:]\n",
    "df_train_y = watches_gifts_train[:,-1:,:]\n",
    "df_valid_x = watches_gifts_valid[:,:-1,:]\n",
    "df_valid_y = watches_gifts_valid[:,-1:,:]\n",
    "df_test_x = watches_gifts_test[:,:-1,:]\n",
    "df_test_y = watches_gifts_test[:,-1:,:]"
   ]
  },
  {
   "cell_type": "code",
   "execution_count": 84,
   "metadata": {},
   "outputs": [],
   "source": [
    "# Time to concatenate the data together\n",
    "# This should be commented out if you want to try without google trends, and specify num_series = 1 in the bellow function (a_model)\n",
    "df_train_x = np.concatenate([df_train_x,watches_gt_train], axis=2)\n",
    "df_valid_x = np.concatenate([df_valid_x,watches_gt_valid], axis=2)\n",
    "df_test_x = np.concatenate([df_test_x,watches_gt_test], axis=2)\n",
    "\n",
    "df_train_x = np.concatenate([df_train_x,gifts_gt_train], axis=2)\n",
    "df_valid_x = np.concatenate([df_valid_x,gifts_gt_valid], axis=2)\n",
    "df_test_x = np.concatenate([df_test_x,gifts_gt_test], axis=2)"
   ]
  },
  {
   "cell_type": "code",
   "execution_count": 85,
   "metadata": {},
   "outputs": [
    {
     "data": {
      "text/plain": [
       "(88, 55, 3)"
      ]
     },
     "execution_count": 85,
     "metadata": {},
     "output_type": "execute_result"
    }
   ],
   "source": [
    "df_train_x.shape"
   ]
  },
  {
   "cell_type": "markdown",
   "metadata": {},
   "source": [
    "### Define Long Short Term Memory Model"
   ]
  },
  {
   "cell_type": "code",
   "execution_count": 86,
   "metadata": {},
   "outputs": [],
   "source": [
    "def a_model():\n",
    "    num_timesteps = 55 # the number of lags in the dataframes\n",
    "    num_series = 3     # the number of time series, specify 1 if univariate!\n",
    "    num_units = 100    # the number of hidden units\n",
    "    \n",
    "    model = Sequential()\n",
    "    model.add(LSTM(num_units, input_shape=(num_timesteps, num_series)))\n",
    "    model.add(Dropout(0.1)) # Prevent overfitting\n",
    "    model.add(Dense(units=1))\n",
    "    model.compile(optimizer='adam', loss='mean_squared_error')\n",
    "    return model"
   ]
  },
  {
   "cell_type": "code",
   "execution_count": 87,
   "metadata": {},
   "outputs": [],
   "source": [
    "# Initialize model, specify the training data, to get the input shape\n",
    "mm = a_model()"
   ]
  },
  {
   "cell_type": "code",
   "execution_count": 88,
   "metadata": {},
   "outputs": [
    {
     "name": "stdout",
     "output_type": "stream",
     "text": [
      "Model: \"sequential_4\"\n",
      "_________________________________________________________________\n",
      "Layer (type)                 Output Shape              Param #   \n",
      "=================================================================\n",
      "lstm_4 (LSTM)                (None, 100)               41600     \n",
      "_________________________________________________________________\n",
      "dropout_4 (Dropout)          (None, 100)               0         \n",
      "_________________________________________________________________\n",
      "dense_4 (Dense)              (None, 1)                 101       \n",
      "=================================================================\n",
      "Total params: 41,701\n",
      "Trainable params: 41,701\n",
      "Non-trainable params: 0\n",
      "_________________________________________________________________\n"
     ]
    }
   ],
   "source": [
    "mm.summary()"
   ]
  },
  {
   "cell_type": "markdown",
   "metadata": {},
   "source": [
    "### Train Model, Report & Visualize Performance on the Validation Set"
   ]
  },
  {
   "cell_type": "code",
   "execution_count": 89,
   "metadata": {},
   "outputs": [
    {
     "data": {
      "image/png": "[encoded data removed]",
      "text/plain": [
       "<Figure size 432x288 with 1 Axes>"
      ]
     },
     "metadata": {
      "needs_background": "light"
     },
     "output_type": "display_data"
    }
   ],
   "source": [
    "# Store the training in the history variable\n",
    "history = mm.fit(df_train_x, df_train_y, validation_data=(df_valid_x, df_valid_y), epochs=75, verbose=0)\n",
    "# See what is stored in the history\n",
    "#history.history.keys()\n",
    "\n",
    "#Plot training loss on validation set\n",
    "loss = history.history[\"loss\"]\n",
    "vloss = history.history[\"val_loss\"]\n",
    "\n",
    "plt.plot(range(len(loss)), loss,)\n",
    "plt.plot(range(len(loss)), vloss)\n",
    "\n",
    "\n",
    "plt.title(\"Watches and Gifts - Training loss on Validation Set\")\n",
    "plt.xlabel(\"Epochs\")\n",
    "plt.ylabel(\"Loss\")\n",
    "plt.show()"
   ]
  },
  {
   "cell_type": "code",
   "execution_count": 90,
   "metadata": {},
   "outputs": [
    {
     "name": "stdout",
     "output_type": "stream",
     "text": [
      "Current run id: a35b8ccbec5c437fadf0d2e64d27ef56\n"
     ]
    }
   ],
   "source": [
    "# Log parameters for the first and only time\n",
    "# Key pre-processing steps should be also logged (window-size)\n",
    "with mlflow.start_run() as run:\n",
    "    mlflow.log_param('window_size', 55)      \n",
    "    mlflow.log_param('add_datepart', True)\n",
    "    mlflow.log_param('num of units', 100)\n",
    "    mlflow.log_param('dropout', 0.1)\n",
    "    mlflow.log_param('num of epochs', 75)\n",
    "    mlflow.log_param('Google Trends Series','watches,gifts')\n",
    "    mlflow.log_param('Product Category','Watches and Gifts')\n",
    "                                           \n",
    "    current_run_id = run.info.run_id        # -> Set the run id to a variable that can be used throughout the notebook\n",
    "    print(f'Current run id: {current_run_id}')"
   ]
  },
  {
   "cell_type": "code",
   "execution_count": 91,
   "metadata": {},
   "outputs": [],
   "source": [
    "#metrics.get_metrics(y_val, preds_val, run_id = current_run_id, log=True, param_prefix='validation')"
   ]
  },
  {
   "cell_type": "markdown",
   "metadata": {},
   "source": [
    "### Plot Actuals & Forecasts"
   ]
  },
  {
   "cell_type": "code",
   "execution_count": 92,
   "metadata": {},
   "outputs": [
    {
     "data": {
      "image/png": "[encoded data removed]",
      "text/plain": [
       "<Figure size 432x288 with 1 Axes>"
      ]
     },
     "metadata": {
      "needs_background": "light"
     },
     "output_type": "display_data"
    }
   ],
   "source": [
    "predictions = mm.predict(df_test_x); predictions\n",
    "predictions = pv_scaler.inverse_transform(predictions);predictions\n",
    "pv_scaler.inverse_transform(df_test_y).squeeze()\n",
    "\n",
    "plt.plot(predictions, label='Forecast')\n",
    "plt.plot(pv_scaler.inverse_transform(df_test_y).squeeze(),label='Actuals')\n",
    "plt.legend()\n",
    "plt.title('Watches and Gifts - Test Set')\n",
    "plt.show()"
   ]
  },
  {
   "cell_type": "markdown",
   "metadata": {},
   "source": [
    "### Plot Residuals"
   ]
  },
  {
   "cell_type": "code",
   "execution_count": 93,
   "metadata": {},
   "outputs": [],
   "source": [
    "#Calcaulte Forecast Error\n",
    "#error = predictions - pv_scaler.inverse_transform(df_test_y).squeeze()\n",
    "#y_true = pd.DataFrame({'residuals': error})\n",
    "\n",
    "#Scatter Plot of Residuals\n",
    "#plt.scatter( x=y_true.index, y=y_true.residuals)\n",
    "#plt.title('Bed, Bath and Table Residuals - Test Set ')\n",
    "#plt.ylabel('Sales R$')\n",
    "#plt.show()\n",
    "\n",
    "#Histogram of Residuals\n",
    "#plt.hist(x=error,density=True)\n",
    "#plt.title('Histogram of Residuals - Test Set ')\n",
    "#plt.show()"
   ]
  },
  {
   "cell_type": "markdown",
   "metadata": {},
   "source": [
    "### Evaluate Performance"
   ]
  },
  {
   "cell_type": "code",
   "execution_count": 94,
   "metadata": {},
   "outputs": [
    {
     "name": "stdout",
     "output_type": "stream",
     "text": [
      "wape: 29345.7824346774\n",
      "rms: 236.38736783346852\n",
      "r2: -0.6191075484659014\n",
      "mape: 2.501158186529394\n"
     ]
    }
   ],
   "source": [
    "metrics.get_metrics(pv_scaler.inverse_transform(df_test_y).squeeze(),predictions, run_id=current_run_id,log=True,param_prefix='test')"
   ]
  },
  {
   "cell_type": "markdown",
   "metadata": {},
   "source": [
    "# Product Category 6: Telephony <a name = \"telephony\"/>"
   ]
  },
  {
   "cell_type": "code",
   "execution_count": 95,
   "metadata": {},
   "outputs": [],
   "source": [
    "#Filter on product categories (series)\n",
    "telephony_train = df_train.loc[df_train['product_category_name'] == 'telephony'].copy()\n",
    "telephony_valid = df_valid.loc[df_valid['product_category_name'] == 'telephony'].copy()\n",
    "telephony_test = df_test.loc[df_test['product_category_name'] == 'telephony'].copy()\n",
    "\n",
    "#Drop columns that are no longer required\n",
    "columns = ['product_category_name']\n",
    "\n",
    "telephony_train.drop(columns, inplace=True, axis=1)\n",
    "telephony_valid.drop(columns, inplace=True, axis=1)\n",
    "telephony_test.drop(columns, inplace=True, axis=1)"
   ]
  },
  {
   "cell_type": "code",
   "execution_count": 96,
   "metadata": {},
   "outputs": [],
   "source": [
    "#Read and process GoogleTrends Series\n",
    "base_dir_1 = \"C:\\\\Users\\\\feras\\\\Documents\\\\Thesis_2020\\\\GoogleTrendsSeries\\\\\"\n",
    "\n",
    "iphone8 = pd.read_csv(os.path.join(base_dir_1,'iphone8.csv')).iloc[1:]\n",
    "iphonex = pd.read_csv(os.path.join(base_dir_1,'iphonex.csv')).iloc[1:]\n",
    "galaxyS5 = pd.read_csv(os.path.join(base_dir_1,'SamsungGalaxyS5.csv')).iloc[1:]\n",
    "\n",
    "\n",
    "\n",
    "iphone8_gt =  utils.make_lag_features(iphone8,\n",
    "                                   config['pre_processing']['window_size'], \n",
    "                                   col_name='Category: Shopping', \n",
    "                                   prefix_name='iphone 8_gt').dropna().reset_index().rename(columns={'index':'order_approved_at'})\n",
    "\n",
    "\n",
    "\n",
    "iphonex_gt =  utils.make_lag_features(iphonex,\n",
    "                                   config['pre_processing']['window_size'], \n",
    "                                   col_name='Category: Shopping', \n",
    "                                   prefix_name='iphone x_gt').dropna().reset_index().rename(columns={'index':'order_approved_at'})\n",
    "\n",
    "\n",
    "galaxyS5_gt =  utils.make_lag_features(galaxyS5,\n",
    "                                   config['pre_processing']['window_size'], \n",
    "                                   col_name='Category: Shopping', \n",
    "                                   prefix_name='Samsung Galaxy S5_gt').dropna().reset_index().rename(columns={'index':'order_approved_at'})\n",
    "\n",
    "\n",
    "# we dont care about the prediction here. Drop category\n",
    "iphone8_gt.drop(columns='Category: Shopping', inplace=True)\n",
    "iphone8_gt = iphone8_gt[iphone8_gt.columns[::-1]]\n",
    "\n",
    "iphonex_gt.drop(columns='Category: Shopping', inplace=True)\n",
    "iphonex_gt = iphonex_gt[iphonex_gt.columns[::-1]]\n",
    "\n",
    "galaxyS5_gt.drop(columns='Category: Shopping', inplace=True)\n",
    "galaxyS5_gt = galaxyS5_gt[galaxyS5_gt.columns[::-1]]\n"
   ]
  },
  {
   "cell_type": "code",
   "execution_count": 97,
   "metadata": {},
   "outputs": [],
   "source": [
    "iphone8_gt['order_approved_at'] = pd.to_datetime(iphone8_gt['order_approved_at'])\n",
    "\n",
    "telephony_train = telephony_train[(telephony_train['order_approved_at'] >= iphone8_gt['order_approved_at'].min()) &\n",
    "                    (telephony_train['order_approved_at'] < iphone8_gt['order_approved_at'].max())]\n",
    "\n",
    "telephony_valid = telephony_valid[(telephony_valid['order_approved_at'] >= iphone8_gt['order_approved_at'].min()) &\n",
    "                    (telephony_valid['order_approved_at'] < iphone8_gt['order_approved_at'].max())]\n",
    "\n",
    "telephony_test = telephony_test[(telephony_test['order_approved_at'] >= iphone8_gt['order_approved_at'].min()) &\n",
    "                  (telephony_test['order_approved_at'] < iphone8_gt['order_approved_at'].max())]\n",
    "\n",
    "iphone8_gt_train = iphone8_gt[(iphone8_gt['order_approved_at'] >= telephony_train['order_approved_at'].min()) &\n",
    "                                           (iphone8_gt['order_approved_at'] <= telephony_train['order_approved_at'].max())].copy()\n",
    "iphone8_gt_valid = iphone8_gt[(iphone8_gt['order_approved_at'] >= telephony_valid['order_approved_at'].min()) &\n",
    "                                           (iphone8_gt['order_approved_at'] <= telephony_valid['order_approved_at'].max())].copy()\n",
    "iphone8_gt_test = iphone8_gt[(iphone8_gt['order_approved_at'] >= telephony_test['order_approved_at'].min()) &\n",
    "                                           (iphone8_gt['order_approved_at'] <= telephony_test['order_approved_at'].max())].copy()\n",
    "\n",
    "\n",
    "iphonex_gt['order_approved_at'] = pd.to_datetime(iphonex_gt['order_approved_at'])\n",
    "\n",
    "telephony_train = telephony_train[(telephony_train['order_approved_at'] >= iphonex_gt['order_approved_at'].min()) &\n",
    "                    (telephony_train['order_approved_at'] < iphonex_gt['order_approved_at'].max())]\n",
    "\n",
    "telephony_valid = telephony_valid[(telephony_valid['order_approved_at'] >= iphonex_gt['order_approved_at'].min()) &\n",
    "                    (telephony_valid['order_approved_at'] < iphonex_gt['order_approved_at'].max())]\n",
    "\n",
    "telephony_test = telephony_test[(telephony_test['order_approved_at'] >= iphonex_gt['order_approved_at'].min()) &\n",
    "                  (telephony_test['order_approved_at'] < iphonex_gt['order_approved_at'].max())]\n",
    "\n",
    "iphonex_gt_train = iphonex_gt[(iphonex_gt['order_approved_at'] >= telephony_train['order_approved_at'].min()) &\n",
    "                                           (iphonex_gt['order_approved_at'] <= telephony_train['order_approved_at'].max())].copy()\n",
    "iphonex_gt_valid = iphonex_gt[(iphonex_gt['order_approved_at'] >= telephony_valid['order_approved_at'].min()) &\n",
    "                                           (iphonex_gt['order_approved_at'] <= telephony_valid['order_approved_at'].max())].copy()\n",
    "iphonex_gt_test = iphonex_gt[(iphonex_gt['order_approved_at'] >= telephony_test['order_approved_at'].min()) &\n",
    "                                           (iphonex_gt['order_approved_at'] <= telephony_test['order_approved_at'].max())].copy()\n",
    "\n",
    "\n",
    "galaxyS5_gt['order_approved_at'] = pd.to_datetime(galaxyS5_gt['order_approved_at'])\n",
    "\n",
    "telephony_train = telephony_train[(telephony_train['order_approved_at'] >= galaxyS5_gt['order_approved_at'].min()) &\n",
    "                    (telephony_train['order_approved_at'] < galaxyS5_gt['order_approved_at'].max())]\n",
    "\n",
    "telephony_valid = telephony_valid[(telephony_valid['order_approved_at'] >= galaxyS5_gt['order_approved_at'].min()) &\n",
    "                    (telephony_valid['order_approved_at'] < galaxyS5_gt['order_approved_at'].max())]\n",
    "\n",
    "telephony_test = telephony_test[(telephony_test['order_approved_at'] >= galaxyS5_gt['order_approved_at'].min()) &\n",
    "                  (telephony_test['order_approved_at'] < galaxyS5_gt['order_approved_at'].max())]\n",
    "\n",
    "galaxyS5_gt_train = galaxyS5_gt[(galaxyS5_gt['order_approved_at'] >= telephony_train['order_approved_at'].min()) &\n",
    "                                           (galaxyS5_gt['order_approved_at'] <= telephony_train['order_approved_at'].max())].copy()\n",
    "galaxyS5_gt_valid = galaxyS5_gt[(galaxyS5_gt['order_approved_at'] >= telephony_valid['order_approved_at'].min()) &\n",
    "                                           (galaxyS5_gt['order_approved_at'] <= telephony_valid['order_approved_at'].max())].copy()\n",
    "galaxyS5_gt_test = galaxyS5_gt[(galaxyS5_gt['order_approved_at'] >= telephony_test['order_approved_at'].min()) &\n",
    "                                           (galaxyS5_gt['order_approved_at'] <= telephony_test['order_approved_at'].max())].copy()\n"
   ]
  },
  {
   "cell_type": "code",
   "execution_count": 98,
   "metadata": {},
   "outputs": [],
   "source": [
    "# Drop unrequired columns\n",
    "telephony_train = telephony_train.drop(columns=['order_approved_at'])\n",
    "telephony_valid = telephony_valid.drop(columns=['order_approved_at'])\n",
    "telephony_test = telephony_test.drop(columns=['order_approved_at'])\n",
    "\n",
    "iphone8_gt_train = iphone8_gt_train.drop(columns=['order_approved_at'])\n",
    "iphone8_gt_valid = iphone8_gt_valid.drop(columns=['order_approved_at'])\n",
    "iphone8_gt_test = iphone8_gt_test.drop(columns=['order_approved_at'])\n",
    "\n",
    "iphonex_gt_train = iphonex_gt_train.drop(columns=['order_approved_at'])\n",
    "iphonex_gt_valid = iphonex_gt_valid.drop(columns=['order_approved_at'])\n",
    "iphonex_gt_test = iphonex_gt_test.drop(columns=['order_approved_at'])\n",
    "\n",
    "galaxyS5_gt_train = galaxyS5_gt_train.drop(columns=['order_approved_at'])\n",
    "galaxyS5_gt_valid = galaxyS5_gt_valid.drop(columns=['order_approved_at'])\n",
    "galaxyS5_gt_test = galaxyS5_gt_test.drop(columns=['order_approved_at'])"
   ]
  },
  {
   "cell_type": "code",
   "execution_count": 99,
   "metadata": {},
   "outputs": [],
   "source": [
    "# Reshape and convert to numpy arrays\n",
    "telephony_train = telephony_train.to_numpy().reshape(telephony_train.shape[0], telephony_train.shape[1], 1)\n",
    "telephony_valid = telephony_valid.to_numpy().reshape(telephony_valid.shape[0], telephony_valid.shape[1], 1)\n",
    "telephony_test = telephony_test.to_numpy().reshape(telephony_test.shape[0], telephony_test.shape[1], 1)\n",
    "\n",
    "iphone8_gt_train = iphone8_gt_train.astype(int).to_numpy().reshape(iphone8_gt_train.shape[0], \n",
    "                                                                               iphone8_gt_train.shape[1], 1)\n",
    "iphone8_gt_valid = iphone8_gt_valid.astype(int).to_numpy().reshape(iphone8_gt_valid.shape[0], \n",
    "                                                                               iphone8_gt_valid.shape[1], 1)\n",
    "iphone8_gt_test = iphone8_gt_test.astype(int).to_numpy().reshape(iphone8_gt_test.shape[0], \n",
    "                                                                             iphone8_gt_test.shape[1], 1)\n",
    "\n",
    "iphonex_gt_train = iphonex_gt_train.astype(int).to_numpy().reshape(iphonex_gt_train.shape[0], \n",
    "                                                                               iphonex_gt_train.shape[1], 1)\n",
    "iphonex_gt_valid = iphonex_gt_valid.astype(int).to_numpy().reshape(iphonex_gt_valid.shape[0], \n",
    "                                                                               iphonex_gt_valid.shape[1], 1)\n",
    "iphonex_gt_test = iphonex_gt_test.astype(int).to_numpy().reshape(iphonex_gt_test.shape[0], \n",
    "                                                                             iphonex_gt_test.shape[1], 1)\n",
    "\n",
    "galaxyS5_gt_train = galaxyS5_gt_train.astype(int).to_numpy().reshape(galaxyS5_gt_train.shape[0], \n",
    "                                                                               galaxyS5_gt_train.shape[1], 1)\n",
    "galaxyS5_gt_valid = galaxyS5_gt_valid.astype(int).to_numpy().reshape(galaxyS5_gt_valid.shape[0], \n",
    "                                                                               galaxyS5_gt_valid.shape[1], 1)\n",
    "galaxyS5_gt_test = galaxyS5_gt_test.astype(int).to_numpy().reshape(galaxyS5_gt_test.shape[0], \n",
    "                                                                             galaxyS5_gt_test.shape[1], 1)"
   ]
  },
  {
   "cell_type": "code",
   "execution_count": 100,
   "metadata": {},
   "outputs": [
    {
     "data": {
      "text/plain": [
       "(88, 56, 1)"
      ]
     },
     "execution_count": 100,
     "metadata": {},
     "output_type": "execute_result"
    }
   ],
   "source": [
    "telephony_train.shape"
   ]
  },
  {
   "cell_type": "code",
   "execution_count": 101,
   "metadata": {},
   "outputs": [],
   "source": [
    "# Scaling datasets\n",
    "pv_scaler = MinMaxScalerDf()\n",
    "telephony_train = pv_scaler.fit_transform(telephony_train)\n",
    "telephony_valid = pv_scaler.transform(telephony_valid)\n",
    "telephony_test = pv_scaler.transform(telephony_test)\n",
    "\n",
    "gt_scaler = MinMaxScalerDf()\n",
    "iphone8_gt_train = gt_scaler.fit_transform(iphone8_gt_train)\n",
    "iphone8_gt_valid = gt_scaler.transform(iphone8_gt_valid)\n",
    "iphone8_gt_test = gt_scaler.transform(iphone8_gt_test)\n",
    "\n",
    "iphonex_gt_train = gt_scaler.fit_transform(iphonex_gt_train)\n",
    "iphonex_gt_valid = gt_scaler.transform(iphonex_gt_valid)\n",
    "iphonex_gt_test = gt_scaler.transform(iphonex_gt_test)\n",
    "\n",
    "galaxyS5_gt_train = gt_scaler.fit_transform(galaxyS5_gt_train)\n",
    "galaxyS5_gt_valid = gt_scaler.transform(galaxyS5_gt_valid)\n",
    "galaxyS5_gt_test = gt_scaler.transform(galaxyS5_gt_test)\n",
    "\n",
    "\n",
    "df_train_x = telephony_train[:,:-1,:]\n",
    "df_train_y = telephony_train[:,-1:,:]\n",
    "df_valid_x = telephony_valid[:,:-1,:]\n",
    "df_valid_y = telephony_valid[:,-1:,:]\n",
    "df_test_x = telephony_test[:,:-1,:]\n",
    "df_test_y = telephony_test[:,-1:,:]"
   ]
  },
  {
   "cell_type": "code",
   "execution_count": 102,
   "metadata": {},
   "outputs": [],
   "source": [
    "# Time to concatenate the data together\n",
    "# This should be commented out if you want to try without google trends, and specify num_series = 1 in the bellow function (a_model)\n",
    "df_train_x = np.concatenate([df_train_x,iphone8_gt_train], axis=2)\n",
    "df_valid_x = np.concatenate([df_valid_x,iphone8_gt_valid], axis=2)\n",
    "df_test_x = np.concatenate([df_test_x,iphone8_gt_test], axis=2)\n",
    "\n",
    "df_train_x = np.concatenate([df_train_x,iphonex_gt_train], axis=2)\n",
    "df_valid_x = np.concatenate([df_valid_x,iphonex_gt_valid], axis=2)\n",
    "df_test_x = np.concatenate([df_test_x,iphonex_gt_test], axis=2)\n",
    "\n",
    "df_train_x = np.concatenate([df_train_x,galaxyS5_gt_train], axis=2)\n",
    "df_valid_x = np.concatenate([df_valid_x,galaxyS5_gt_valid], axis=2)\n",
    "df_test_x = np.concatenate([df_test_x,galaxyS5_gt_test], axis=2)\n"
   ]
  },
  {
   "cell_type": "code",
   "execution_count": 103,
   "metadata": {},
   "outputs": [
    {
     "data": {
      "text/plain": [
       "(88, 55, 4)"
      ]
     },
     "execution_count": 103,
     "metadata": {},
     "output_type": "execute_result"
    }
   ],
   "source": [
    "df_train_x.shape"
   ]
  },
  {
   "cell_type": "markdown",
   "metadata": {},
   "source": [
    "### Define Long Short Term Memory Model"
   ]
  },
  {
   "cell_type": "code",
   "execution_count": 104,
   "metadata": {},
   "outputs": [],
   "source": [
    "def a_model():\n",
    "    num_timesteps = 55 # the number of lags in the dataframes\n",
    "    num_series = 4     # the number of time series, specify 1 if univariate!\n",
    "    num_units = 100    # the number of hidden units\n",
    "    \n",
    "    model = Sequential()\n",
    "    model.add(LSTM(num_units, input_shape=(num_timesteps, num_series)))\n",
    "    model.add(Dropout(0.1)) # Prevent overfitting\n",
    "    model.add(Dense(units=1))\n",
    "    model.compile(optimizer='adam', loss='mean_squared_error')\n",
    "    return model"
   ]
  },
  {
   "cell_type": "code",
   "execution_count": 105,
   "metadata": {},
   "outputs": [],
   "source": [
    "# Initialize model, specify the training data, to get the input shape\n",
    "mm = a_model()"
   ]
  },
  {
   "cell_type": "code",
   "execution_count": 106,
   "metadata": {},
   "outputs": [
    {
     "name": "stdout",
     "output_type": "stream",
     "text": [
      "Model: \"sequential_5\"\n",
      "_________________________________________________________________\n",
      "Layer (type)                 Output Shape              Param #   \n",
      "=================================================================\n",
      "lstm_5 (LSTM)                (None, 100)               42000     \n",
      "_________________________________________________________________\n",
      "dropout_5 (Dropout)          (None, 100)               0         \n",
      "_________________________________________________________________\n",
      "dense_5 (Dense)              (None, 1)                 101       \n",
      "=================================================================\n",
      "Total params: 42,101\n",
      "Trainable params: 42,101\n",
      "Non-trainable params: 0\n",
      "_________________________________________________________________\n"
     ]
    }
   ],
   "source": [
    "mm.summary()"
   ]
  },
  {
   "cell_type": "markdown",
   "metadata": {},
   "source": [
    "### Train Model, Report & Visualize Performance on the Validation Set"
   ]
  },
  {
   "cell_type": "code",
   "execution_count": 107,
   "metadata": {},
   "outputs": [
    {
     "data": {
      "image/png": "[encoded data removed]",
      "text/plain": [
       "<Figure size 432x288 with 1 Axes>"
      ]
     },
     "metadata": {
      "needs_background": "light"
     },
     "output_type": "display_data"
    }
   ],
   "source": [
    "# Store the training in the history variable\n",
    "history = mm.fit(df_train_x, df_train_y, validation_data=(df_valid_x, df_valid_y), epochs=75, verbose=0)\n",
    "# See what is stored in the history\n",
    "#history.history.keys()\n",
    "\n",
    "#Plot training loss on validation set\n",
    "loss = history.history[\"loss\"]\n",
    "vloss = history.history[\"val_loss\"]\n",
    "\n",
    "plt.plot(range(len(loss)), loss,)\n",
    "plt.plot(range(len(loss)), vloss)\n",
    "\n",
    "\n",
    "plt.title(\"Telephony - Training loss on Validation Set\")\n",
    "plt.xlabel(\"Epochs\")\n",
    "plt.ylabel(\"Loss\")\n",
    "plt.show()"
   ]
  },
  {
   "cell_type": "code",
   "execution_count": 108,
   "metadata": {},
   "outputs": [
    {
     "name": "stdout",
     "output_type": "stream",
     "text": [
      "Current run id: 5648db4615d44fd7a9044d19010b2ba9\n"
     ]
    }
   ],
   "source": [
    "# Log parameters for the first and only time\n",
    "# Key pre-processing steps should be also logged (window-size)\n",
    "with mlflow.start_run() as run:\n",
    "    mlflow.log_param('window_size', 55)      \n",
    "    mlflow.log_param('add_datepart', True)\n",
    "    mlflow.log_param('num of units', 100)\n",
    "    mlflow.log_param('dropout', 0.1)\n",
    "    mlflow.log_param('num of epochs', 75)\n",
    "    mlflow.log_param('Google Trends Series','iphone 8, iphone x, samsung galaxy s5s')\n",
    "    mlflow.log_param('Product Category','Telephony')\n",
    "                                           \n",
    "    current_run_id = run.info.run_id        # -> Set the run id to a variable that can be used throughout the notebook\n",
    "    print(f'Current run id: {current_run_id}')"
   ]
  },
  {
   "cell_type": "code",
   "execution_count": 109,
   "metadata": {},
   "outputs": [],
   "source": [
    "#metrics.get_metrics(inv_y, inv_yhat, run_id = current_run_id, log=True, param_prefix='validation')"
   ]
  },
  {
   "cell_type": "markdown",
   "metadata": {},
   "source": [
    "### Plot Actuals & Forecasts"
   ]
  },
  {
   "cell_type": "code",
   "execution_count": 110,
   "metadata": {},
   "outputs": [
    {
     "data": {
      "image/png": "[encoded data removed]",
      "text/plain": [
       "<Figure size 432x288 with 1 Axes>"
      ]
     },
     "metadata": {
      "needs_background": "light"
     },
     "output_type": "display_data"
    }
   ],
   "source": [
    "predictions = mm.predict(df_test_x); predictions\n",
    "predictions = pv_scaler.inverse_transform(predictions);predictions\n",
    "pv_scaler.inverse_transform(df_test_y).squeeze()\n",
    "\n",
    "plt.plot(predictions, label='Forecast')\n",
    "plt.plot(pv_scaler.inverse_transform(df_test_y).squeeze(),label='Actuals')\n",
    "plt.legend()\n",
    "plt.title('Telephony - Test Set')\n",
    "plt.show()"
   ]
  },
  {
   "cell_type": "markdown",
   "metadata": {},
   "source": [
    "### Plot Residuals"
   ]
  },
  {
   "cell_type": "code",
   "execution_count": 111,
   "metadata": {},
   "outputs": [],
   "source": [
    "#Calcaulte Forecast Error\n",
    "#error = predictions - pv_scaler.inverse_transform(df_test_y).squeeze()\n",
    "#y_true = pd.DataFrame({'residuals': error})\n",
    "\n",
    "#Scatter Plot of Residuals\n",
    "#plt.scatter( x=y_true.index, y=y_true.residuals)\n",
    "#plt.title('Bed, Bath and Table Residuals - Test Set ')\n",
    "#plt.ylabel('Sales R$')\n",
    "#plt.show()\n",
    "\n",
    "#Histogram of Residuals\n",
    "#plt.hist(x=error,density=True)\n",
    "#plt.title('Histogram of Residuals - Test Set ')\n",
    "#plt.show()"
   ]
  },
  {
   "cell_type": "markdown",
   "metadata": {},
   "source": [
    "### Evaluate Performance"
   ]
  },
  {
   "cell_type": "code",
   "execution_count": 112,
   "metadata": {},
   "outputs": [
    {
     "name": "stdout",
     "output_type": "stream",
     "text": [
      "wape: 124425.74308553005\n",
      "rms: 1485.9615556656768\n",
      "r2: -55.855192506513866\n",
      "mape: 284.90414503140187\n"
     ]
    }
   ],
   "source": [
    "metrics.get_metrics(pv_scaler.inverse_transform(df_test_y).squeeze(),predictions, run_id=current_run_id,log=True,param_prefix='test')"
   ]
  },
  {
   "cell_type": "markdown",
   "metadata": {},
   "source": [
    "# Product Category 7: Housewares <a name = \"housewares\"/>"
   ]
  },
  {
   "cell_type": "code",
   "execution_count": 113,
   "metadata": {},
   "outputs": [],
   "source": [
    "#Filter on product categories (series)\n",
    "housewares_train = df_train.loc[df_train['product_category_name'] == 'housewares'].copy()\n",
    "housewares_valid = df_valid.loc[df_valid['product_category_name'] == 'housewares'].copy()\n",
    "housewares_test = df_test.loc[df_test['product_category_name'] == 'housewares'].copy()\n",
    "\n",
    "#Drop columns that are no longer required\n",
    "columns = ['product_category_name']\n",
    "\n",
    "housewares_train.drop(columns, inplace=True, axis=1)\n",
    "housewares_valid.drop(columns, inplace=True, axis=1)\n",
    "housewares_test.drop(columns, inplace=True, axis=1)"
   ]
  },
  {
   "cell_type": "code",
   "execution_count": 114,
   "metadata": {},
   "outputs": [],
   "source": [
    "#Read and process GoogleTrends Series\n",
    "base_dir_1 = \"C:\\\\Users\\\\feras\\\\Documents\\\\Thesis_2020\\\\GoogleTrendsSeries\\\\\"\n",
    "\n",
    "cama = pd.read_csv(os.path.join(base_dir_1,'Cama_Shopping.csv')).iloc[1:]\n",
    "mesa = pd.read_csv(os.path.join(base_dir_1,'Mesa_Shopping.csv')).iloc[1:]\n",
    "banho = pd.read_csv(os.path.join(base_dir_1,'Banho_Shopping.csv')).iloc[1:]\n",
    "bed_bath_topic = pd.read_csv(os.path.join(base_dir_1,'Bed_Bath_Topic.csv')).iloc[1:]\n",
    "\n",
    "\n",
    "cama_gt =  utils.make_lag_features(cama,\n",
    "                                   config['pre_processing']['window_size'], \n",
    "                                   col_name='Category: Shopping', \n",
    "                                   prefix_name='cama_gt').dropna().reset_index().rename(columns={'index':'order_approved_at'})\n",
    "\n",
    "mesa_gt =  utils.make_lag_features(mesa,\n",
    "                                   config['pre_processing']['window_size'], \n",
    "                                   col_name='Category: Shopping', \n",
    "                                   prefix_name='mesa_gt').dropna().reset_index().rename(columns={'index':'order_approved_at'})\n",
    "\n",
    "banho_gt =  utils.make_lag_features(banho,\n",
    "                                   config['pre_processing']['window_size'], \n",
    "                                   col_name='Category: Shopping', \n",
    "                                   prefix_name='banho_gt').dropna().reset_index().rename(columns={'index':'order_approved_at'})\n",
    "\n",
    "\n",
    "bed_bath_topic_gt =  utils.make_lag_features(bed_bath_topic,\n",
    "                                   config['pre_processing']['window_size'], \n",
    "                                   col_name='Category: Bed & Bath', \n",
    "                                   prefix_name='bed_bath_topic_gt').dropna().reset_index().rename(columns={'index':'order_approved_at'})\n",
    "\n",
    "\n",
    "# we dont care about the prediction here. Drop category\n",
    "cama_gt.drop(columns='Category: Shopping', inplace=True)\n",
    "cama_gt = cama_gt[cama_gt.columns[::-1]]\n",
    "\n",
    "mesa_gt.drop(columns='Category: Shopping', inplace=True)\n",
    "mesa_gt = mesa_gt[mesa_gt.columns[::-1]]\n",
    "\n",
    "banho_gt.drop(columns='Category: Shopping', inplace=True)\n",
    "banho_gt = banho_gt[banho_gt.columns[::-1]]\n",
    "\n",
    "bed_bath_topic_gt.drop(columns='Category: Bed & Bath', inplace=True)\n",
    "bed_bath_topic_gt = bed_bath_topic_gt[bed_bath_topic_gt.columns[::-1]]"
   ]
  },
  {
   "cell_type": "code",
   "execution_count": 115,
   "metadata": {},
   "outputs": [],
   "source": [
    "# Filter HistoricalSales and GoogleTrends Series\n",
    "\n",
    "cama_gt['order_approved_at'] = pd.to_datetime(cama_gt['order_approved_at'])\n",
    "\n",
    "housewares_train = housewares_train[(housewares_train['order_approved_at'] >= cama_gt['order_approved_at'].min()) &\n",
    "                    (housewares_train['order_approved_at'] < cama_gt['order_approved_at'].max())]\n",
    "\n",
    "housewares_valid = housewares_valid[(housewares_valid['order_approved_at'] >= cama_gt['order_approved_at'].min()) &\n",
    "                    (housewares_valid['order_approved_at'] < cama_gt['order_approved_at'].max())]\n",
    "\n",
    "housewares_test = housewares_test[(housewares_test['order_approved_at'] >= cama_gt['order_approved_at'].min()) &\n",
    "                  (housewares_test['order_approved_at'] < cama_gt['order_approved_at'].max())]\n",
    "\n",
    "cama_gt_train = cama_gt[(cama_gt['order_approved_at'] >= housewares_train['order_approved_at'].min()) &\n",
    "                                           (cama_gt['order_approved_at'] <= housewares_train['order_approved_at'].max())].copy()\n",
    "cama_gt_valid = cama_gt[(cama_gt['order_approved_at'] >= housewares_valid['order_approved_at'].min()) &\n",
    "                                           (cama_gt['order_approved_at'] <= housewares_valid['order_approved_at'].max())].copy()\n",
    "cama_gt_test = cama_gt[(cama_gt['order_approved_at'] >= housewares_test['order_approved_at'].min()) &\n",
    "                                           (cama_gt['order_approved_at'] <= housewares_test['order_approved_at'].max())].copy()\n",
    "\n",
    "\n",
    "mesa_gt['order_approved_at'] = pd.to_datetime(mesa_gt['order_approved_at'])\n",
    "\n",
    "housewares_train = housewares_train[(housewares_train['order_approved_at'] >= mesa_gt['order_approved_at'].min()) &\n",
    "                    (housewares_train['order_approved_at'] < mesa_gt['order_approved_at'].max())]\n",
    "\n",
    "housewares_valid = housewares_valid[(housewares_valid['order_approved_at'] >= mesa_gt['order_approved_at'].min()) &\n",
    "                    (housewares_valid['order_approved_at'] < mesa_gt['order_approved_at'].max())]\n",
    "\n",
    "housewares_test = housewares_test[(housewares_test['order_approved_at'] >= mesa_gt['order_approved_at'].min()) &\n",
    "                  (housewares_test['order_approved_at'] < mesa_gt['order_approved_at'].max())]\n",
    "\n",
    "mesa_gt_train = mesa_gt[(mesa_gt['order_approved_at'] >= housewares_train['order_approved_at'].min()) &\n",
    "                                           (mesa_gt['order_approved_at'] <= housewares_train['order_approved_at'].max())].copy()\n",
    "mesa_gt_valid = mesa_gt[(mesa_gt['order_approved_at'] >= housewares_valid['order_approved_at'].min()) &\n",
    "                                           (mesa_gt['order_approved_at'] <= housewares_valid['order_approved_at'].max())].copy()\n",
    "mesa_gt_test = mesa_gt[(mesa_gt['order_approved_at'] >= housewares_test['order_approved_at'].min()) &\n",
    "                                           (mesa_gt['order_approved_at'] <= housewares_test['order_approved_at'].max())].copy()\n",
    "\n",
    "\n",
    "banho_gt['order_approved_at'] = pd.to_datetime(banho_gt['order_approved_at'])\n",
    "\n",
    "housewares_train = housewares_train[(housewares_train['order_approved_at'] >= banho_gt['order_approved_at'].min()) &\n",
    "                    (housewares_train['order_approved_at'] < banho_gt['order_approved_at'].max())]\n",
    "\n",
    "housewares_valid = housewares_valid[(housewares_valid['order_approved_at'] >= banho_gt['order_approved_at'].min()) &\n",
    "                    (housewares_valid['order_approved_at'] < banho_gt['order_approved_at'].max())]\n",
    "\n",
    "housewares_test = housewares_test[(housewares_test['order_approved_at'] >= banho_gt['order_approved_at'].min()) &\n",
    "                  (housewares_test['order_approved_at'] < banho_gt['order_approved_at'].max())]\n",
    "\n",
    "banho_gt_train = banho_gt[(banho_gt['order_approved_at'] >= housewares_train['order_approved_at'].min()) &\n",
    "                                           (banho_gt['order_approved_at'] <= housewares_train['order_approved_at'].max())].copy()\n",
    "banho_gt_valid = banho_gt[(banho_gt['order_approved_at'] >= housewares_valid['order_approved_at'].min()) &\n",
    "                                           (banho_gt['order_approved_at'] <= housewares_valid['order_approved_at'].max())].copy()\n",
    "banho_gt_test = banho_gt[(banho_gt['order_approved_at'] >= housewares_test['order_approved_at'].min()) &\n",
    "                                           (banho_gt['order_approved_at'] <= housewares_test['order_approved_at'].max())].copy()\n",
    "\n",
    "bed_bath_topic_gt['order_approved_at'] = pd.to_datetime(bed_bath_topic_gt['order_approved_at'])\n",
    "\n",
    "housewares_train = housewares_train[(housewares_train['order_approved_at'] >= bed_bath_topic_gt['order_approved_at'].min()) &\n",
    "                    (housewares_train['order_approved_at'] < bed_bath_topic_gt['order_approved_at'].max())]\n",
    "\n",
    "housewares_valid = housewares_valid[(housewares_valid['order_approved_at'] >= bed_bath_topic_gt['order_approved_at'].min()) &\n",
    "                    (housewares_valid['order_approved_at'] < bed_bath_topic_gt['order_approved_at'].max())]\n",
    "\n",
    "housewares_test = housewares_test[(housewares_test['order_approved_at'] >= bed_bath_topic_gt['order_approved_at'].min()) &\n",
    "                  (housewares_test['order_approved_at'] < bed_bath_topic_gt['order_approved_at'].max())]\n",
    "\n",
    "bed_bath_topic_gt_train = bed_bath_topic_gt[(bed_bath_topic_gt['order_approved_at'] >= housewares_train['order_approved_at'].min()) &\n",
    "                                           (bed_bath_topic_gt['order_approved_at'] <= housewares_train['order_approved_at'].max())].copy()\n",
    "bed_bath_topic_gt_valid = bed_bath_topic_gt[(bed_bath_topic_gt['order_approved_at'] >= housewares_valid['order_approved_at'].min()) &\n",
    "                                           (bed_bath_topic_gt['order_approved_at'] <= housewares_valid['order_approved_at'].max())].copy()\n",
    "bed_bath_topic_gt_test = bed_bath_topic_gt[(bed_bath_topic_gt['order_approved_at'] >= housewares_test['order_approved_at'].min()) &\n",
    "                                           (bed_bath_topic_gt['order_approved_at'] <= housewares_test['order_approved_at'].max())].copy()\n"
   ]
  },
  {
   "cell_type": "code",
   "execution_count": 116,
   "metadata": {},
   "outputs": [],
   "source": [
    "# Drop unrequired columns\n",
    "housewares_train = housewares_train.drop(columns=['order_approved_at'])\n",
    "housewares_valid = housewares_valid.drop(columns=['order_approved_at'])\n",
    "housewares_test = housewares_test.drop(columns=['order_approved_at'])\n",
    "\n",
    "cama_gt_train = cama_gt_train.drop(columns=['order_approved_at'])\n",
    "cama_gt_valid = cama_gt_valid.drop(columns=['order_approved_at'])\n",
    "cama_gt_test = cama_gt_test.drop(columns=['order_approved_at'])\n",
    "\n",
    "mesa_gt_train = mesa_gt_train.drop(columns=['order_approved_at'])\n",
    "mesa_gt_valid = mesa_gt_valid.drop(columns=['order_approved_at'])\n",
    "mesa_gt_test = mesa_gt_test.drop(columns=['order_approved_at'])\n",
    "\n",
    "banho_gt_train = banho_gt_train.drop(columns=['order_approved_at'])\n",
    "banho_gt_valid = banho_gt_valid.drop(columns=['order_approved_at'])\n",
    "banho_gt_test = banho_gt_test.drop(columns=['order_approved_at'])\n",
    "\n",
    "bed_bath_topic_gt_train = bed_bath_topic_gt_train.drop(columns=['order_approved_at'])\n",
    "bed_bath_topic_gt_valid = bed_bath_topic_gt_valid.drop(columns=['order_approved_at'])\n",
    "bed_bath_topic_gt_test = bed_bath_topic_gt_test.drop(columns=['order_approved_at'])"
   ]
  },
  {
   "cell_type": "code",
   "execution_count": 117,
   "metadata": {},
   "outputs": [],
   "source": [
    "# Reshape and convert to numpy arrays\n",
    "housewares_train = housewares_train.to_numpy().reshape(housewares_train.shape[0], housewares_train.shape[1], 1)\n",
    "housewares_valid = housewares_valid.to_numpy().reshape(housewares_valid.shape[0], housewares_valid.shape[1], 1)\n",
    "housewares_test = housewares_test.to_numpy().reshape(housewares_test.shape[0], housewares_test.shape[1], 1)\n",
    "\n",
    "cama_gt_train = cama_gt_train.astype(int).to_numpy().reshape(cama_gt_train.shape[0], \n",
    "                                                                               cama_gt_train.shape[1], 1)\n",
    "cama_gt_valid = cama_gt_valid.astype(int).to_numpy().reshape(cama_gt_valid.shape[0], \n",
    "                                                                               cama_gt_valid.shape[1], 1)\n",
    "cama_gt_test = cama_gt_test.astype(int).to_numpy().reshape(cama_gt_test.shape[0], \n",
    "                                                                             cama_gt_test.shape[1], 1)\n",
    "\n",
    "\n",
    "mesa_gt_train = mesa_gt_train.astype(int).to_numpy().reshape(mesa_gt_train.shape[0], \n",
    "                                                                               mesa_gt_train.shape[1], 1)\n",
    "mesa_gt_valid = mesa_gt_valid.astype(int).to_numpy().reshape(mesa_gt_valid.shape[0], \n",
    "                                                                               mesa_gt_valid.shape[1], 1)\n",
    "mesa_gt_test = mesa_gt_test.astype(int).to_numpy().reshape(mesa_gt_test.shape[0], \n",
    "                                                                             mesa_gt_test.shape[1], 1)\n",
    "\n",
    "banho_gt_train = banho_gt_train.astype(int).to_numpy().reshape(banho_gt_train.shape[0], \n",
    "                                                                               banho_gt_train.shape[1], 1)\n",
    "banho_gt_valid = banho_gt_valid.astype(int).to_numpy().reshape(banho_gt_valid.shape[0], \n",
    "                                                                               banho_gt_valid.shape[1], 1)\n",
    "banho_gt_test = banho_gt_test.astype(int).to_numpy().reshape(banho_gt_test.shape[0], \n",
    "                                                                             banho_gt_test.shape[1], 1)\n",
    "\n",
    "bed_bath_topic_gt_train = bed_bath_topic_gt_train.astype(int).to_numpy().reshape(bed_bath_topic_gt_train.shape[0], \n",
    "                                                                               bed_bath_topic_gt_train.shape[1], 1)\n",
    "bed_bath_topic_gt_valid = bed_bath_topic_gt_valid.astype(int).to_numpy().reshape(bed_bath_topic_gt_valid.shape[0], \n",
    "                                                                               bed_bath_topic_gt_valid.shape[1], 1)\n",
    "bed_bath_topic_gt_test = bed_bath_topic_gt_test.astype(int).to_numpy().reshape(bed_bath_topic_gt_test.shape[0], \n",
    "                                                                             bed_bath_topic_gt_test.shape[1], 1)"
   ]
  },
  {
   "cell_type": "code",
   "execution_count": 118,
   "metadata": {},
   "outputs": [],
   "source": [
    "# Scaling datasets\n",
    "pv_scaler = MinMaxScalerDf()\n",
    "housewares_train = pv_scaler.fit_transform(housewares_train)\n",
    "housewares_valid = pv_scaler.transform(housewares_valid)\n",
    "housewares_test = pv_scaler.transform(housewares_test)\n",
    "\n",
    "gt_scaler = MinMaxScalerDf()\n",
    "cama_gt_train = gt_scaler.fit_transform(cama_gt_train)\n",
    "cama_gt_valid = gt_scaler.transform(cama_gt_valid)\n",
    "cama_gt_test = gt_scaler.transform(cama_gt_test)\n",
    "\n",
    "mesa_gt_train = gt_scaler.fit_transform(mesa_gt_train)\n",
    "mesa_gt_valid = gt_scaler.transform(mesa_gt_valid)\n",
    "mesa_gt_test = gt_scaler.transform(mesa_gt_test)\n",
    "\n",
    "banho_gt_train = gt_scaler.fit_transform(banho_gt_train)\n",
    "banho_gt_valid = gt_scaler.transform(banho_gt_valid)\n",
    "banho_gt_test = gt_scaler.transform(banho_gt_test)\n",
    "\n",
    "bed_bath_topic_gt_train = gt_scaler.fit_transform(bed_bath_topic_gt_train)\n",
    "bed_bath_topic_gt_valid = gt_scaler.transform(bed_bath_topic_gt_valid)\n",
    "bed_bath_topic_gt_test = gt_scaler.transform(bed_bath_topic_gt_test)\n",
    "\n",
    "df_train_x = housewares_train[:,:-1,:]\n",
    "df_train_y = housewares_train[:,-1:,:]\n",
    "df_valid_x = housewares_valid[:,:-1,:]\n",
    "df_valid_y = housewares_valid[:,-1:,:]\n",
    "df_test_x = housewares_test[:,:-1,:]\n",
    "df_test_y = housewares_test[:,-1:,:]"
   ]
  },
  {
   "cell_type": "code",
   "execution_count": 119,
   "metadata": {},
   "outputs": [],
   "source": [
    "# Time to concatenate the data together\n",
    "# This should be commented out if you want to try without google trends, and specify num_series = 1 in the bellow function (a_model)\n",
    "df_train_x = np.concatenate([df_train_x,cama_gt_train], axis=2)\n",
    "df_valid_x = np.concatenate([df_valid_x,cama_gt_valid], axis=2)\n",
    "df_test_x = np.concatenate([df_test_x,cama_gt_test], axis=2)\n",
    "\n",
    "df_train_x = np.concatenate([df_train_x,mesa_gt_train], axis=2)\n",
    "df_valid_x = np.concatenate([df_valid_x,mesa_gt_valid], axis=2)\n",
    "df_test_x = np.concatenate([df_test_x,mesa_gt_test], axis=2)\n",
    "\n",
    "df_train_x = np.concatenate([df_train_x,banho_gt_train], axis=2)\n",
    "df_valid_x = np.concatenate([df_valid_x,banho_gt_valid], axis=2)\n",
    "df_test_x = np.concatenate([df_test_x,banho_gt_test], axis=2)\n",
    "\n",
    "df_train_x = np.concatenate([df_train_x,bed_bath_topic_gt_train], axis=2)\n",
    "df_valid_x = np.concatenate([df_valid_x,bed_bath_topic_gt_valid], axis=2)\n",
    "df_test_x = np.concatenate([df_test_x,bed_bath_topic_gt_test], axis=2)"
   ]
  },
  {
   "cell_type": "code",
   "execution_count": 120,
   "metadata": {},
   "outputs": [
    {
     "data": {
      "text/plain": [
       "(88, 55, 5)"
      ]
     },
     "execution_count": 120,
     "metadata": {},
     "output_type": "execute_result"
    }
   ],
   "source": [
    "df_train_x.shape"
   ]
  },
  {
   "cell_type": "markdown",
   "metadata": {},
   "source": [
    "### Define Long Short Term Memory Model"
   ]
  },
  {
   "cell_type": "code",
   "execution_count": 121,
   "metadata": {},
   "outputs": [],
   "source": [
    "def a_model():\n",
    "    num_timesteps = 55 # the number of lags in the dataframes\n",
    "    num_series = 5     # the number of time series, specify 1 if univariate!\n",
    "    num_units = 100    # the number of hidden units\n",
    "    \n",
    "    model = Sequential()\n",
    "    model.add(LSTM(num_units, input_shape=(num_timesteps, num_series)))\n",
    "    model.add(Dropout(0.1)) # Prevent overfitting\n",
    "    model.add(Dense(units=1))\n",
    "    model.compile(optimizer='adam', loss='mean_squared_error')\n",
    "    return model"
   ]
  },
  {
   "cell_type": "code",
   "execution_count": 122,
   "metadata": {},
   "outputs": [],
   "source": [
    "# Initialize model, specify the training data, to get the input shape\n",
    "mm = a_model()"
   ]
  },
  {
   "cell_type": "code",
   "execution_count": 123,
   "metadata": {},
   "outputs": [
    {
     "name": "stdout",
     "output_type": "stream",
     "text": [
      "Model: \"sequential_6\"\n",
      "_________________________________________________________________\n",
      "Layer (type)                 Output Shape              Param #   \n",
      "=================================================================\n",
      "lstm_6 (LSTM)                (None, 100)               42400     \n",
      "_________________________________________________________________\n",
      "dropout_6 (Dropout)          (None, 100)               0         \n",
      "_________________________________________________________________\n",
      "dense_6 (Dense)              (None, 1)                 101       \n",
      "=================================================================\n",
      "Total params: 42,501\n",
      "Trainable params: 42,501\n",
      "Non-trainable params: 0\n",
      "_________________________________________________________________\n"
     ]
    }
   ],
   "source": [
    "mm.summary()"
   ]
  },
  {
   "cell_type": "markdown",
   "metadata": {},
   "source": [
    "### Train Model, Report & Visualize Performance on the Validation Set"
   ]
  },
  {
   "cell_type": "code",
   "execution_count": 124,
   "metadata": {},
   "outputs": [
    {
     "data": {
      "image/png": "[encoded data removed]",
      "text/plain": [
       "<Figure size 432x288 with 1 Axes>"
      ]
     },
     "metadata": {
      "needs_background": "light"
     },
     "output_type": "display_data"
    }
   ],
   "source": [
    "# Store the training in the history variable\n",
    "history = mm.fit(df_train_x, df_train_y, validation_data=(df_valid_x, df_valid_y), epochs=75, verbose=0)\n",
    "# See what is stored in the history\n",
    "#history.history.keys()\n",
    "\n",
    "#Plot training loss on validation set\n",
    "loss = history.history[\"loss\"]\n",
    "vloss = history.history[\"val_loss\"]\n",
    "\n",
    "plt.plot(range(len(loss)), loss,)\n",
    "plt.plot(range(len(loss)), vloss)\n",
    "\n",
    "\n",
    "plt.title(\"Housewares - Training loss on Validation Set\")\n",
    "plt.xlabel(\"Epochs\")\n",
    "plt.ylabel(\"Loss\")\n",
    "plt.show()"
   ]
  },
  {
   "cell_type": "code",
   "execution_count": 125,
   "metadata": {},
   "outputs": [
    {
     "name": "stdout",
     "output_type": "stream",
     "text": [
      "Current run id: 056471516a2446d4b4cda9feaeec742a\n"
     ]
    }
   ],
   "source": [
    "# Log parameters for the first and only time\n",
    "# Key pre-processing steps should be also logged (window-size)\n",
    "with mlflow.start_run() as run:\n",
    "    mlflow.log_param('window_size', 55)      \n",
    "    mlflow.log_param('add_datepart', True)\n",
    "    mlflow.log_param('num of units', 100)\n",
    "    mlflow.log_param('dropout', 0.1)\n",
    "    mlflow.log_param('num of epochs', 75)\n",
    "    mlflow.log_param('Google Trends Series','cama, mesa, banho, bed and bath - topic')\n",
    "    mlflow.log_param('Product Category','Housewares')\n",
    "                                           \n",
    "    current_run_id = run.info.run_id        # -> Set the run id to a variable that can be used throughout the notebook\n",
    "    print(f'Current run id: {current_run_id}')"
   ]
  },
  {
   "cell_type": "code",
   "execution_count": 126,
   "metadata": {},
   "outputs": [],
   "source": [
    "#metrics.get_metrics(inv_y, inv_yhat, run_id = current_run_id, log=True, param_prefix='validation')"
   ]
  },
  {
   "cell_type": "markdown",
   "metadata": {},
   "source": [
    "### Plot Actuals & Forecasts"
   ]
  },
  {
   "cell_type": "code",
   "execution_count": 127,
   "metadata": {},
   "outputs": [
    {
     "data": {
      "image/png": "[encoded data removed]",
      "text/plain": [
       "<Figure size 432x288 with 1 Axes>"
      ]
     },
     "metadata": {
      "needs_background": "light"
     },
     "output_type": "display_data"
    }
   ],
   "source": [
    "predictions = mm.predict(df_test_x); predictions\n",
    "predictions = pv_scaler.inverse_transform(predictions);predictions\n",
    "pv_scaler.inverse_transform(df_test_y).squeeze()\n",
    "\n",
    "plt.plot(predictions, label='Forecast')\n",
    "plt.plot(pv_scaler.inverse_transform(df_test_y).squeeze(),label='Actuals')\n",
    "plt.legend()\n",
    "plt.title('Housewares - Test Set')\n",
    "plt.show()"
   ]
  },
  {
   "cell_type": "markdown",
   "metadata": {},
   "source": [
    "### Plot Residuals"
   ]
  },
  {
   "cell_type": "code",
   "execution_count": 128,
   "metadata": {},
   "outputs": [],
   "source": [
    "#Calcaulte Forecast Error\n",
    "#error = predictions - pv_scaler.inverse_transform(df_test_y).squeeze()\n",
    "#y_true = pd.DataFrame({'residuals': error})\n",
    "\n",
    "#Scatter Plot of Residuals\n",
    "#plt.scatter( x=y_true.index, y=y_true.residuals)\n",
    "#plt.title('Bed, Bath and Table Residuals - Test Set ')\n",
    "#plt.ylabel('Sales R$')\n",
    "#plt.show()\n",
    "\n",
    "#Histogram of Residuals\n",
    "#plt.hist(x=error,density=True)\n",
    "#plt.title('Histogram of Residuals - Test Set ')\n",
    "#plt.show()"
   ]
  },
  {
   "cell_type": "markdown",
   "metadata": {},
   "source": [
    "### Evaluate Performance"
   ]
  },
  {
   "cell_type": "code",
   "execution_count": 129,
   "metadata": {},
   "outputs": [
    {
     "name": "stdout",
     "output_type": "stream",
     "text": [
      "wape: 263568.80608020094\n",
      "rms: 609.1905197048233\n",
      "r2: -0.677337010578972\n",
      "mape: 38.921524448135216\n"
     ]
    }
   ],
   "source": [
    "metrics.get_metrics(pv_scaler.inverse_transform(df_test_y).squeeze(),predictions, run_id=current_run_id,log=True,param_prefix='test')"
   ]
  }
 ],
 "metadata": {
  "kernelspec": {
   "display_name": "Python 3",
   "language": "python",
   "name": "python3"
  },
  "language_info": {
   "codemirror_mode": {
    "name": "ipython",
    "version": 3
   },
   "file_extension": ".py",
   "mimetype": "text/x-python",
   "name": "python",
   "nbconvert_exporter": "python",
   "pygments_lexer": "ipython3",
   "version": "3.7.4"
  }
 },
 "nbformat": 4,
 "nbformat_minor": 4
}
