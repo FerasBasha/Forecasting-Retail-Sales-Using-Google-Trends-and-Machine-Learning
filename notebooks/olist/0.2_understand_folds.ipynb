{
 "cells": [
  {
   "cell_type": "markdown",
   "metadata": {},
   "source": [
    "# Dates for Breakfast at the frat\n"
   ]
  },
  {
   "cell_type": "code",
   "execution_count": 1,
   "metadata": {},
   "outputs": [],
   "source": [
    "import matplotlib.pyplot as plt\n",
    "import os\n",
    "from pathlib import Path\n",
    "import pandas as pd\n",
    "import yaml\n",
    "# Get the current project path (where you open the notebook)\n",
    "# and go up two levels to get the project path\n",
    "current_dir = Path.cwd()\n",
    "proj_path = current_dir.parent.parent\n",
    "from datetime import timedelta\n",
    "from pandas.plotting import register_matplotlib_converters\n",
    "from dateutil.relativedelta import relativedelta\n",
    "\n",
    "# make the code in src available to import in this notebook\n",
    "import sys\n",
    "sys.path.append(os.path.join(proj_path, 'src'))\n",
    "\n",
    "# Custom functions and classes\n",
    "from utils import make_dates, create_folder\n",
    "\n",
    "# Catalog contains all the paths related to datasets\n",
    "with open(os.path.join(proj_path, 'conf/catalog.yml'), \"r\") as f:\n",
    "    catalog = yaml.safe_load(f)['olist']\n",
    "    \n",
    "# Params contains all of the dataset creation parameters and model parameters\n",
    "with open(os.path.join(proj_path, 'conf/params.yml'), \"r\") as f:\n",
    "    params = yaml.safe_load(f)"
   ]
  },
  {
   "cell_type": "code",
   "execution_count": 2,
   "metadata": {},
   "outputs": [],
   "source": [
    "date_ranges = make_dates(params['olist']['experiment_dates'])"
   ]
  },
  {
   "cell_type": "code",
   "execution_count": 3,
   "metadata": {},
   "outputs": [
    {
     "data": {
      "text/html": [
       "<div>\n",
       "<style scoped>\n",
       "    .dataframe tbody tr th:only-of-type {\n",
       "        vertical-align: middle;\n",
       "    }\n",
       "\n",
       "    .dataframe tbody tr th {\n",
       "        vertical-align: top;\n",
       "    }\n",
       "\n",
       "    .dataframe thead th {\n",
       "        text-align: right;\n",
       "    }\n",
       "</style>\n",
       "<table border=\"1\" class=\"dataframe\">\n",
       "  <thead>\n",
       "    <tr style=\"text-align: right;\">\n",
       "      <th></th>\n",
       "      <th>train_start</th>\n",
       "      <th>train_end</th>\n",
       "      <th>valid_start</th>\n",
       "      <th>valid_end</th>\n",
       "      <th>test_start</th>\n",
       "      <th>test_end</th>\n",
       "    </tr>\n",
       "  </thead>\n",
       "  <tbody>\n",
       "    <tr>\n",
       "      <th>0</th>\n",
       "      <td>2017-01-01</td>\n",
       "      <td>2017-12-03</td>\n",
       "      <td>2017-12-10</td>\n",
       "      <td>2017-12-31</td>\n",
       "      <td>2018-01-07</td>\n",
       "      <td>2018-01-28</td>\n",
       "    </tr>\n",
       "    <tr>\n",
       "      <th>1</th>\n",
       "      <td>2017-01-29</td>\n",
       "      <td>2017-12-31</td>\n",
       "      <td>2018-01-07</td>\n",
       "      <td>2018-01-28</td>\n",
       "      <td>2018-02-04</td>\n",
       "      <td>2018-02-25</td>\n",
       "    </tr>\n",
       "    <tr>\n",
       "      <th>2</th>\n",
       "      <td>2017-02-26</td>\n",
       "      <td>2018-01-28</td>\n",
       "      <td>2018-02-04</td>\n",
       "      <td>2018-02-25</td>\n",
       "      <td>2018-03-04</td>\n",
       "      <td>2018-03-25</td>\n",
       "    </tr>\n",
       "    <tr>\n",
       "      <th>3</th>\n",
       "      <td>2017-03-26</td>\n",
       "      <td>2018-02-25</td>\n",
       "      <td>2018-03-04</td>\n",
       "      <td>2018-03-25</td>\n",
       "      <td>2018-04-01</td>\n",
       "      <td>2018-04-22</td>\n",
       "    </tr>\n",
       "    <tr>\n",
       "      <th>4</th>\n",
       "      <td>2017-04-23</td>\n",
       "      <td>2018-03-25</td>\n",
       "      <td>2018-04-01</td>\n",
       "      <td>2018-04-22</td>\n",
       "      <td>2018-04-29</td>\n",
       "      <td>2018-05-20</td>\n",
       "    </tr>\n",
       "    <tr>\n",
       "      <th>5</th>\n",
       "      <td>2017-05-21</td>\n",
       "      <td>2018-04-22</td>\n",
       "      <td>2018-04-29</td>\n",
       "      <td>2018-05-20</td>\n",
       "      <td>2018-05-27</td>\n",
       "      <td>2018-06-17</td>\n",
       "    </tr>\n",
       "    <tr>\n",
       "      <th>6</th>\n",
       "      <td>2017-06-18</td>\n",
       "      <td>2018-05-20</td>\n",
       "      <td>2018-05-27</td>\n",
       "      <td>2018-06-17</td>\n",
       "      <td>2018-06-24</td>\n",
       "      <td>2018-07-15</td>\n",
       "    </tr>\n",
       "    <tr>\n",
       "      <th>7</th>\n",
       "      <td>2017-07-16</td>\n",
       "      <td>2018-06-17</td>\n",
       "      <td>2018-06-24</td>\n",
       "      <td>2018-07-15</td>\n",
       "      <td>2018-07-22</td>\n",
       "      <td>2018-08-12</td>\n",
       "    </tr>\n",
       "  </tbody>\n",
       "</table>\n",
       "</div>"
      ],
      "text/plain": [
       "  train_start  train_end valid_start  valid_end test_start   test_end\n",
       "0  2017-01-01 2017-12-03  2017-12-10 2017-12-31 2018-01-07 2018-01-28\n",
       "1  2017-01-29 2017-12-31  2018-01-07 2018-01-28 2018-02-04 2018-02-25\n",
       "2  2017-02-26 2018-01-28  2018-02-04 2018-02-25 2018-03-04 2018-03-25\n",
       "3  2017-03-26 2018-02-25  2018-03-04 2018-03-25 2018-04-01 2018-04-22\n",
       "4  2017-04-23 2018-03-25  2018-04-01 2018-04-22 2018-04-29 2018-05-20\n",
       "5  2017-05-21 2018-04-22  2018-04-29 2018-05-20 2018-05-27 2018-06-17\n",
       "6  2017-06-18 2018-05-20  2018-05-27 2018-06-17 2018-06-24 2018-07-15\n",
       "7  2017-07-16 2018-06-17  2018-06-24 2018-07-15 2018-07-22 2018-08-12"
      ]
     },
     "execution_count": 3,
     "metadata": {},
     "output_type": "execute_result"
    }
   ],
   "source": [
    "date_ranges"
   ]
  },
  {
   "cell_type": "markdown",
   "metadata": {},
   "source": [
    "# Methodology\n",
    "\n",
    "The start date of the experiment is 2017-01-01 and the end date of the experiment is 2018-08-12.  \n",
    "\n",
    "We will use the last 52 weeks as our test data, covering inclusively the dates from 2018-01-07 to 2018-08-12.  \n",
    "\n",
    "Will will use sequences of 4 weeks to create our cross-validation folds over the test period.  Bollow is an illustration for the different folds.  "
   ]
  },
  {
   "cell_type": "code",
   "execution_count": 4,
   "metadata": {},
   "outputs": [],
   "source": [
    "def show_windows(dates: pd.DataFrame, fname=None):\n",
    "    \"\"\"Generate a plot to view the time of the different folds.\n",
    "    \n",
    "    fname to save plot, specify a path.\n",
    "    \"\"\"\n",
    "    # Register a date converter from pandas to work with matplotlib\n",
    "    register_matplotlib_converters()\n",
    "\n",
    "    mi = dates[\"train_start\"].min() - relativedelta(weeks=1)\n",
    "    ma = dates[\"test_end\"].max() + relativedelta(weeks=1)\n",
    "\n",
    "    plt.figure(figsize=(16, 5))\n",
    "    plt.scatter(x=[mi, ma], y=[0, 0], alpha=0)\n",
    "    for i, date_range in enumerate(dates.sort_values(\"train_start\").itertuples()):\n",
    "\n",
    "        # Width of bar in days\n",
    "        train_len = (date_range[3] - date_range[1]).days\n",
    "        valid_len = (date_range[4] - date_range[2]).days\n",
    "        test_len = (date_range[6] - date_range[4]).days\n",
    "\n",
    "        plt.barh(y=i, width=train_len, left=date_range[1], color=\"#C5CAE9\")\n",
    "        plt.barh(y=i, width=valid_len, left=date_range[3], color=\"#2196F3\")\n",
    "        plt.barh(y=i, width=test_len, left=date_range[5], color=\"#1A237E\")\n",
    "        plt.xticks(rotation=45)\n",
    "        plt.ylabel(\"Fold Id\")\n",
    "\n",
    "    plt.title(\"Cross-Validation Through Time\")\n",
    "    plt.legend([\"\", \"Train period\", \"Valid period\", \"Test period\"])\n",
    "    if fname:\n",
    "        plt.savefig(fname)\n",
    "    plt.show()"
   ]
  },
  {
   "cell_type": "code",
   "execution_count": 5,
   "metadata": {},
   "outputs": [
    {
     "data": {
      "image/png": "[encoded data removed]",
      "text/plain": [
       "<Figure size 1152x360 with 1 Axes>"
      ]
     },
     "metadata": {
      "needs_background": "light"
     },
     "output_type": "display_data"
    }
   ],
   "source": [
    "show_windows(date_ranges)"
   ]
  },
  {
   "cell_type": "markdown",
   "metadata": {},
   "source": [
    "Se use January 2018 data as the start of the test dataset up to September, using folds of 4 weeks. The same length is used as the validation period.\n",
    "\n",
    "Additional precision on the dates:\n",
    "\n",
    "For the Olist dataset, when aggregating by weekly values, we obtain the end of the week sales. We use the payment_value as the target value.\n",
    "\n",
    "The sales at (2018-07-01) are from (2018-06-25) to (2018-07-01) inclusively. \n",
    "\n",
    "```python\n",
    "\"\"\"\n",
    "date at time t-N     |    ...    |    (2018-07-01)   |   (2018-07-08)  \n",
    "payment_value t-N    |    ...    | payment_value t-1 |   payment_value  \n",
    "---------------------|-----------|-------------------|------------------  \n",
    "     115             |    ...    |        80         |        70  \n",
    "\"\"\"\n",
    "```\n",
    "     \n",
    "For Incorperating Google Trends, we obtain the date at the begining of the week. This means that by adding 7 days, we can align the google trends values to the payment_values. In our usecase, however, we cannot use values gathered from (2018-07-05, 2018-07-06, ...) because the time when we make the forecast is at time (2018-07-01). Thus, we will add + 7 again to the google trends, so that when we use google trends data to forecast the payment_value, we only use google trends that go up to the payment_value t-1 date.\n",
    "\n",
    "\n",
    "\n"
   ]
  },
  {
   "cell_type": "markdown",
   "metadata": {},
   "source": [
    "Breakfast at the frat uses wednesdays to represent their end of week sales. Thus, we need to add + 3 days to get the actual end of week dates. By end of week, we will specify \"Saturdays\".  \n",
    "\n",
    "This means that when the dates of the Breakfast at the frat indicates that the sales units are on this date:\n",
    "Saturday 2010-12-11. We do not want any leakage, hence we will only use the sales from Saturday 2010-12-04.  \n",
    "\n",
    "For Google Trends, when extracting the hits, they return the begining of week dates that cover the hits from Sunday to Saturday. However, it is best to use the end-of-week to match with Breakfast at the frat. Thus, we add 6 days to the dates for them to align. In fact, we only get the end of week google trends hits at the end of a week, so on Saturdays, we get the hits that cover from previous Sunday up to that Saturday. To link with the previous example, the Google Trends hits that covers from Sunday 2010-12-05 to Saturday 2010-12-11, cannot be used to predict the sales of Saturday 2010-12-11. We need to use the Google trends hits from the previous week."
   ]
  },
  {
   "cell_type": "code",
   "execution_count": null,
   "metadata": {},
   "outputs": [],
   "source": []
  },
  {
   "cell_type": "code",
   "execution_count": null,
   "metadata": {},
   "outputs": [],
   "source": []
  }
 ],
 "metadata": {
  "kernelspec": {
   "display_name": "Python 3",
   "language": "python",
   "name": "python3"
  },
  "language_info": {
   "codemirror_mode": {
    "name": "ipython",
    "version": 3
   },
   "file_extension": ".py",
   "mimetype": "text/x-python",
   "name": "python",
   "nbconvert_exporter": "python",
   "pygments_lexer": "ipython3",
   "version": "3.7.8"
  }
 },
 "nbformat": 4,
 "nbformat_minor": 4
}
