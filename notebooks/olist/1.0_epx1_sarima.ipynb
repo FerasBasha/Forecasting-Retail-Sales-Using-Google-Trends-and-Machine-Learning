{
 "cells": [
  {
   "cell_type": "markdown",
   "metadata": {},
   "source": [
    "# Baseline I: SARIMA\n"
   ]
  },
  {
   "cell_type": "code",
   "execution_count": 6,
   "metadata": {},
   "outputs": [],
   "source": [
    "from datetime import timedelta\n",
    "import itertools\n",
    "import json\n",
    "import numpy as np\n",
    "import os\n",
    "import pandas as pd\n",
    "from pathlib import Path\n",
    "import yaml\n",
    "import mlflow\n",
    "from datetime import datetime\n",
    "from time import time\n",
    "\n",
    "# Get the current project path (where you open the notebook)\n",
    "# and go up two levels to get the project path\n",
    "current_dir = Path.cwd()\n",
    "proj_path = current_dir.parent.parent\n",
    "\n",
    "# make the code in src available to import in this notebook\n",
    "import sys\n",
    "sys.path.append(os.path.join(proj_path, 'src'))\n",
    "\n",
    "# Custom functions and classes\n",
    "from sarima import *\n",
    "from utils import *\n",
    "from metrics import *\n",
    "\n",
    "# Catalog contains all the paths related to datasets\n",
    "with open(os.path.join(proj_path, 'conf/catalog.yml'), \"r\") as f:\n",
    "    catalog = yaml.safe_load(f)['olist']\n",
    "    \n",
    "# Params contains all of the dataset creation parameters and model parameters\n",
    "with open(os.path.join(proj_path, 'conf/params.yml'), \"r\") as f:\n",
    "    params = yaml.safe_load(f)"
   ]
  },
  {
   "cell_type": "code",
   "execution_count": 3,
   "metadata": {},
   "outputs": [],
   "source": [
    "# Step 1: Load the data, convert to a proper datetime format and apply correction\n",
    "merged_data = pd.read_csv(os.path.join(proj_path,\n",
    "                                       catalog['output_dir']['dir'], \n",
    "                                       catalog['output_dir']['transactions']))"
   ]
  },
  {
   "cell_type": "code",
   "execution_count": 4,
   "metadata": {},
   "outputs": [
    {
     "data": {
      "text/html": [
       "<div>\n",
       "<style scoped>\n",
       "    .dataframe tbody tr th:only-of-type {\n",
       "        vertical-align: middle;\n",
       "    }\n",
       "\n",
       "    .dataframe tbody tr th {\n",
       "        vertical-align: top;\n",
       "    }\n",
       "\n",
       "    .dataframe thead th {\n",
       "        text-align: right;\n",
       "    }\n",
       "</style>\n",
       "<table border=\"1\" class=\"dataframe\">\n",
       "  <thead>\n",
       "    <tr style=\"text-align: right;\">\n",
       "      <th></th>\n",
       "      <th>Unnamed: 0</th>\n",
       "      <th>product_category_name</th>\n",
       "      <th>order_approved_at</th>\n",
       "      <th>payment_value</th>\n",
       "    </tr>\n",
       "  </thead>\n",
       "  <tbody>\n",
       "    <tr>\n",
       "      <th>0</th>\n",
       "      <td>0</td>\n",
       "      <td>agro_industry_and_commerce</td>\n",
       "      <td>2017-01-29</td>\n",
       "      <td>2</td>\n",
       "    </tr>\n",
       "    <tr>\n",
       "      <th>1</th>\n",
       "      <td>1</td>\n",
       "      <td>agro_industry_and_commerce</td>\n",
       "      <td>2017-02-05</td>\n",
       "      <td>2</td>\n",
       "    </tr>\n",
       "    <tr>\n",
       "      <th>2</th>\n",
       "      <td>2</td>\n",
       "      <td>agro_industry_and_commerce</td>\n",
       "      <td>2017-02-12</td>\n",
       "      <td>2</td>\n",
       "    </tr>\n",
       "  </tbody>\n",
       "</table>\n",
       "</div>"
      ],
      "text/plain": [
       "   Unnamed: 0       product_category_name order_approved_at  payment_value\n",
       "0           0  agro_industry_and_commerce        2017-01-29              2\n",
       "1           1  agro_industry_and_commerce        2017-02-05              2\n",
       "2           2  agro_industry_and_commerce        2017-02-12              2"
      ]
     },
     "execution_count": 4,
     "metadata": {},
     "output_type": "execute_result"
    }
   ],
   "source": [
    "merged_data.head(3)"
   ]
  },
  {
   "cell_type": "code",
   "execution_count": 5,
   "metadata": {},
   "outputs": [
    {
     "data": {
      "text/html": [
       "<div>\n",
       "<style scoped>\n",
       "    .dataframe tbody tr th:only-of-type {\n",
       "        vertical-align: middle;\n",
       "    }\n",
       "\n",
       "    .dataframe tbody tr th {\n",
       "        vertical-align: top;\n",
       "    }\n",
       "\n",
       "    .dataframe thead th {\n",
       "        text-align: right;\n",
       "    }\n",
       "</style>\n",
       "<table border=\"1\" class=\"dataframe\">\n",
       "  <thead>\n",
       "    <tr style=\"text-align: right;\">\n",
       "      <th></th>\n",
       "      <th>train_start</th>\n",
       "      <th>train_end</th>\n",
       "      <th>valid_start</th>\n",
       "      <th>valid_end</th>\n",
       "      <th>test_start</th>\n",
       "      <th>test_end</th>\n",
       "    </tr>\n",
       "  </thead>\n",
       "  <tbody>\n",
       "    <tr>\n",
       "      <th>0</th>\n",
       "      <td>2017-01-01</td>\n",
       "      <td>2017-12-03</td>\n",
       "      <td>2017-12-10</td>\n",
       "      <td>2017-12-31</td>\n",
       "      <td>2018-01-07</td>\n",
       "      <td>2018-01-28</td>\n",
       "    </tr>\n",
       "    <tr>\n",
       "      <th>1</th>\n",
       "      <td>2017-01-29</td>\n",
       "      <td>2017-12-31</td>\n",
       "      <td>2018-01-07</td>\n",
       "      <td>2018-01-28</td>\n",
       "      <td>2018-02-04</td>\n",
       "      <td>2018-02-25</td>\n",
       "    </tr>\n",
       "    <tr>\n",
       "      <th>2</th>\n",
       "      <td>2017-02-26</td>\n",
       "      <td>2018-01-28</td>\n",
       "      <td>2018-02-04</td>\n",
       "      <td>2018-02-25</td>\n",
       "      <td>2018-03-04</td>\n",
       "      <td>2018-03-25</td>\n",
       "    </tr>\n",
       "    <tr>\n",
       "      <th>3</th>\n",
       "      <td>2017-03-26</td>\n",
       "      <td>2018-02-25</td>\n",
       "      <td>2018-03-04</td>\n",
       "      <td>2018-03-25</td>\n",
       "      <td>2018-04-01</td>\n",
       "      <td>2018-04-22</td>\n",
       "    </tr>\n",
       "    <tr>\n",
       "      <th>4</th>\n",
       "      <td>2017-04-23</td>\n",
       "      <td>2018-03-25</td>\n",
       "      <td>2018-04-01</td>\n",
       "      <td>2018-04-22</td>\n",
       "      <td>2018-04-29</td>\n",
       "      <td>2018-05-20</td>\n",
       "    </tr>\n",
       "    <tr>\n",
       "      <th>5</th>\n",
       "      <td>2017-05-21</td>\n",
       "      <td>2018-04-22</td>\n",
       "      <td>2018-04-29</td>\n",
       "      <td>2018-05-20</td>\n",
       "      <td>2018-05-27</td>\n",
       "      <td>2018-06-17</td>\n",
       "    </tr>\n",
       "    <tr>\n",
       "      <th>6</th>\n",
       "      <td>2017-06-18</td>\n",
       "      <td>2018-05-20</td>\n",
       "      <td>2018-05-27</td>\n",
       "      <td>2018-06-17</td>\n",
       "      <td>2018-06-24</td>\n",
       "      <td>2018-07-15</td>\n",
       "    </tr>\n",
       "    <tr>\n",
       "      <th>7</th>\n",
       "      <td>2017-07-16</td>\n",
       "      <td>2018-06-17</td>\n",
       "      <td>2018-06-24</td>\n",
       "      <td>2018-07-15</td>\n",
       "      <td>2018-07-22</td>\n",
       "      <td>2018-08-12</td>\n",
       "    </tr>\n",
       "  </tbody>\n",
       "</table>\n",
       "</div>"
      ],
      "text/plain": [
       "  train_start  train_end valid_start  valid_end test_start   test_end\n",
       "0  2017-01-01 2017-12-03  2017-12-10 2017-12-31 2018-01-07 2018-01-28\n",
       "1  2017-01-29 2017-12-31  2018-01-07 2018-01-28 2018-02-04 2018-02-25\n",
       "2  2017-02-26 2018-01-28  2018-02-04 2018-02-25 2018-03-04 2018-03-25\n",
       "3  2017-03-26 2018-02-25  2018-03-04 2018-03-25 2018-04-01 2018-04-22\n",
       "4  2017-04-23 2018-03-25  2018-04-01 2018-04-22 2018-04-29 2018-05-20\n",
       "5  2017-05-21 2018-04-22  2018-04-29 2018-05-20 2018-05-27 2018-06-17\n",
       "6  2017-06-18 2018-05-20  2018-05-27 2018-06-17 2018-06-24 2018-07-15\n",
       "7  2017-07-16 2018-06-17  2018-06-24 2018-07-15 2018-07-22 2018-08-12"
      ]
     },
     "execution_count": 5,
     "metadata": {},
     "output_type": "execute_result"
    }
   ],
   "source": [
    "merged_data['order_approved_at'] = pd.to_datetime(merged_data['order_approved_at'])\n",
    "# merged_data['order_approved_at'] = merged_data['order_approved_at']\n",
    "\n",
    "# Step 2: Create date folds\n",
    "date_ranges = make_dates(params['olist']['experiment_dates'])\n",
    "date_ranges"
   ]
  },
  {
   "cell_type": "code",
   "execution_count": 46,
   "metadata": {},
   "outputs": [
    {
     "name": "stderr",
     "output_type": "stream",
     "text": [
      "Finding best parameters:   0%|          | 0/192 [00:00<?, ?it/s]"
     ]
    },
    {
     "name": "stdout",
     "output_type": "stream",
     "text": [
      "Processing product category: bed_bath_table\n"
     ]
    },
    {
     "name": "stderr",
     "output_type": "stream",
     "text": [
      "Finding best parameters: 100%|██████████| 192/192 [00:16<00:00, 11.59it/s]\n",
      "Finding best parameters: 100%|██████████| 192/192 [00:17<00:00, 11.25it/s]\n",
      "Finding best parameters: 100%|██████████| 192/192 [00:17<00:00, 11.12it/s]\n",
      "Finding best parameters: 100%|██████████| 192/192 [00:17<00:00, 10.87it/s]\n",
      "Finding best parameters: 100%|██████████| 192/192 [00:17<00:00, 10.76it/s]\n",
      "Finding best parameters: 100%|██████████| 192/192 [00:18<00:00, 10.66it/s]\n",
      "Finding best parameters: 100%|██████████| 192/192 [00:18<00:00, 10.46it/s]\n",
      "Finding best parameters: 100%|██████████| 192/192 [00:17<00:00, 10.81it/s]\n",
      "Finding best parameters:   0%|          | 0/192 [00:00<?, ?it/s]"
     ]
    },
    {
     "name": "stdout",
     "output_type": "stream",
     "text": [
      "Processing product category: health_beauty\n"
     ]
    },
    {
     "name": "stderr",
     "output_type": "stream",
     "text": [
      "Finding best parameters: 100%|██████████| 192/192 [00:14<00:00, 13.02it/s]\n",
      "Finding best parameters: 100%|██████████| 192/192 [00:17<00:00, 10.80it/s]\n",
      "Finding best parameters: 100%|██████████| 192/192 [00:17<00:00, 10.93it/s]\n",
      "Finding best parameters: 100%|██████████| 192/192 [00:17<00:00, 10.77it/s]\n",
      "Finding best parameters: 100%|██████████| 192/192 [00:17<00:00, 10.69it/s]\n",
      "Finding best parameters: 100%|██████████| 192/192 [00:17<00:00, 11.29it/s]\n",
      "Finding best parameters: 100%|██████████| 192/192 [00:17<00:00, 11.07it/s]\n",
      "Finding best parameters: 100%|██████████| 192/192 [00:17<00:00, 10.79it/s]\n",
      "Finding best parameters:   3%|▎         | 5/192 [00:00<00:05, 34.66it/s]"
     ]
    },
    {
     "name": "stdout",
     "output_type": "stream",
     "text": [
      "Processing product category: sports_leisure\n"
     ]
    },
    {
     "name": "stderr",
     "output_type": "stream",
     "text": [
      "Finding best parameters: 100%|██████████| 192/192 [00:16<00:00, 11.50it/s]\n",
      "Finding best parameters: 100%|██████████| 192/192 [00:17<00:00, 11.27it/s]\n",
      "Finding best parameters: 100%|██████████| 192/192 [00:16<00:00, 11.55it/s]\n",
      "Finding best parameters: 100%|██████████| 192/192 [00:17<00:00, 10.76it/s]\n",
      "Finding best parameters: 100%|██████████| 192/192 [00:16<00:00, 11.37it/s]\n",
      "Finding best parameters: 100%|██████████| 192/192 [00:17<00:00, 10.98it/s]\n",
      "Finding best parameters: 100%|██████████| 192/192 [00:17<00:00, 10.92it/s]\n",
      "Finding best parameters: 100%|██████████| 192/192 [00:18<00:00, 10.65it/s]\n",
      "Finding best parameters:   3%|▎         | 5/192 [00:00<00:05, 36.01it/s]"
     ]
    },
    {
     "name": "stdout",
     "output_type": "stream",
     "text": [
      "Processing product category: furniture_decor\n"
     ]
    },
    {
     "name": "stderr",
     "output_type": "stream",
     "text": [
      "Finding best parameters: 100%|██████████| 192/192 [00:15<00:00, 12.26it/s]\n",
      "Finding best parameters: 100%|██████████| 192/192 [00:15<00:00, 12.33it/s]\n",
      "Finding best parameters: 100%|██████████| 192/192 [00:13<00:00, 14.11it/s]\n",
      "Finding best parameters: 100%|██████████| 192/192 [00:13<00:00, 14.19it/s]\n",
      "Finding best parameters: 100%|██████████| 192/192 [00:13<00:00, 14.41it/s]\n",
      "Finding best parameters: 100%|██████████| 192/192 [00:13<00:00, 13.77it/s]\n",
      "Finding best parameters: 100%|██████████| 192/192 [00:16<00:00, 11.83it/s]\n",
      "Finding best parameters: 100%|██████████| 192/192 [00:16<00:00, 11.56it/s]\n",
      "Finding best parameters:   3%|▎         | 5/192 [00:00<00:04, 43.18it/s]"
     ]
    },
    {
     "name": "stdout",
     "output_type": "stream",
     "text": [
      "Processing product category: housewares\n"
     ]
    },
    {
     "name": "stderr",
     "output_type": "stream",
     "text": [
      "Finding best parameters: 100%|██████████| 192/192 [00:14<00:00, 13.58it/s]\n",
      "Finding best parameters: 100%|██████████| 192/192 [00:14<00:00, 13.06it/s]\n",
      "Finding best parameters: 100%|██████████| 192/192 [00:15<00:00, 12.36it/s]\n",
      "Finding best parameters: 100%|██████████| 192/192 [00:15<00:00, 12.20it/s]\n",
      "Finding best parameters: 100%|██████████| 192/192 [00:15<00:00, 12.75it/s]\n",
      "Finding best parameters: 100%|██████████| 192/192 [00:14<00:00, 13.09it/s]\n",
      "Finding best parameters: 100%|██████████| 192/192 [00:15<00:00, 12.22it/s]\n",
      "Finding best parameters: 100%|██████████| 192/192 [00:17<00:00, 11.23it/s]\n",
      "Finding best parameters:   0%|          | 0/192 [00:00<?, ?it/s]"
     ]
    },
    {
     "name": "stdout",
     "output_type": "stream",
     "text": [
      "Processing product category: watches_gifts\n"
     ]
    },
    {
     "name": "stderr",
     "output_type": "stream",
     "text": [
      "Finding best parameters: 100%|██████████| 192/192 [00:15<00:00, 12.18it/s]\n",
      "Finding best parameters: 100%|██████████| 192/192 [00:15<00:00, 12.59it/s]\n",
      "Finding best parameters: 100%|██████████| 192/192 [00:16<00:00, 11.49it/s]\n",
      "Finding best parameters: 100%|██████████| 192/192 [00:15<00:00, 12.19it/s]\n",
      "Finding best parameters: 100%|██████████| 192/192 [00:15<00:00, 12.05it/s]\n",
      "Finding best parameters: 100%|██████████| 192/192 [00:14<00:00, 13.04it/s]\n",
      "Finding best parameters: 100%|██████████| 192/192 [00:16<00:00, 11.92it/s]\n",
      "Finding best parameters: 100%|██████████| 192/192 [00:20<00:00,  9.43it/s]\n",
      "Finding best parameters:   3%|▎         | 5/192 [00:00<00:04, 43.95it/s]"
     ]
    },
    {
     "name": "stdout",
     "output_type": "stream",
     "text": [
      "Processing product category: telephony\n"
     ]
    },
    {
     "name": "stderr",
     "output_type": "stream",
     "text": [
      "Finding best parameters: 100%|██████████| 192/192 [00:13<00:00, 13.89it/s]\n",
      "Finding best parameters: 100%|██████████| 192/192 [00:14<00:00, 12.98it/s]\n",
      "Finding best parameters: 100%|██████████| 192/192 [00:13<00:00, 14.10it/s]\n",
      "Finding best parameters: 100%|██████████| 192/192 [00:13<00:00, 13.74it/s]\n",
      "Finding best parameters: 100%|██████████| 192/192 [00:15<00:00, 12.49it/s]\n",
      "Finding best parameters: 100%|██████████| 192/192 [00:15<00:00, 12.23it/s]\n",
      "Finding best parameters: 100%|██████████| 192/192 [00:15<00:00, 12.74it/s]\n",
      "Finding best parameters: 100%|██████████| 192/192 [00:16<00:00, 11.98it/s]\n",
      "Finding best parameters:   3%|▎         | 5/192 [00:00<00:05, 33.63it/s]"
     ]
    },
    {
     "name": "stdout",
     "output_type": "stream",
     "text": [
      "Processing product category: garden_tools\n"
     ]
    },
    {
     "name": "stderr",
     "output_type": "stream",
     "text": [
      "Finding best parameters: 100%|██████████| 192/192 [00:15<00:00, 12.10it/s]\n",
      "Finding best parameters: 100%|██████████| 192/192 [00:17<00:00, 11.22it/s]\n",
      "Finding best parameters: 100%|██████████| 192/192 [00:16<00:00, 11.47it/s]\n",
      "Finding best parameters: 100%|██████████| 192/192 [00:16<00:00, 11.38it/s]\n",
      "Finding best parameters: 100%|██████████| 192/192 [00:16<00:00, 11.47it/s]\n",
      "Finding best parameters: 100%|██████████| 192/192 [00:15<00:00, 12.00it/s]\n",
      "Finding best parameters: 100%|██████████| 192/192 [00:15<00:00, 12.00it/s]\n",
      "Finding best parameters: 100%|██████████| 192/192 [00:17<00:00, 11.04it/s]\n"
     ]
    }
   ],
   "source": [
    "for prod_cat in params['olist']['product_categories']:\n",
    "    print(f'Processing product category: {prod_cat}')\n",
    "\n",
    "    # Initialize mlflow tracking\n",
    "    create_folder(os.path.join(proj_path, 'mlruns'))\n",
    "    mlflow.set_tracking_uri(os.path.join(proj_path, 'mlruns'))\n",
    "    mlflow.set_experiment(prod_cat)\n",
    "    \n",
    "    start_timer = time()\n",
    "    lt_preds = []\n",
    "    nd_preds = []\n",
    "    used_params_folds = []\n",
    "    for _, train_start, train_end, valid_start, valid_end, test_start, test_end in date_ranges.itertuples():\n",
    "\n",
    "        # Filter product category and dates \n",
    "        df_filtered = merged_data[merged_data['product_category_name']==prod_cat].copy()\n",
    "        \n",
    "        df_train = df_filtered[(df_filtered['order_approved_at'] >= train_start) &\n",
    "                               (df_filtered['order_approved_at'] <= train_end)]\n",
    "        df_valid = df_filtered[(df_filtered['order_approved_at'] >= valid_start) &\n",
    "                               (df_filtered['order_approved_at'] <= valid_end)]\n",
    "        df_test  = df_filtered[(df_filtered['order_approved_at'] >= test_start) &\n",
    "                               (df_filtered['order_approved_at'] <= test_end)]\n",
    "        \n",
    "        # Define set of parameters for SARIMA\n",
    "        p = d = q = range(0, 2)\n",
    "        pdq = list(itertools.product(p, d, q))\n",
    "        spdq = list(itertools.product(p, d, q, [2,3,4]))\n",
    "        all_params = list(itertools.product(pdq, spdq))\n",
    "        \n",
    "        model = SklearnSarima(df_train['payment_value'].values)\n",
    "        model.fit_best_params(df_valid['payment_value'].values, all_params)\n",
    "        \n",
    "        lt_predictions = model.predict(df_test.shape[0])\n",
    "        nd_predictions = model.fit_predict(df_test['payment_value'].values)\n",
    "        \n",
    "        lt_preds.extend(lt_predictions)\n",
    "        nd_preds.extend(nd_predictions)\n",
    "        \n",
    "        used_params = model.get_params()\n",
    "        used_params_folds.append(used_params)\n",
    "        \n",
    "    df_filtered = merged_data[(merged_data['product_category_name']==prod_cat) &\n",
    "                     (merged_data['order_approved_at'] >= params['olist']['experiment_dates']['test_start']) & \n",
    "                     (merged_data['order_approved_at'] <= params['olist']['experiment_dates']['test_end'])].copy()\n",
    "    \n",
    "    lt_metrics = get_metrics(df_filtered['payment_value'].values, lt_preds)\n",
    "    nd_metrics = get_metrics(df_filtered['payment_value'].values, nd_preds)\n",
    "    \n",
    "    fdir = os.path.join(proj_path, catalog['results']['dir'])\n",
    "    fname = os.path.join(fdir, f'exp1_sarima_{prod_cat}.csv')\n",
    "    create_folder(fdir)\n",
    "    \n",
    "    save_data = pd.DataFrame({'y_true': df_filtered['payment_value'].values,\n",
    "                              'nd_preds':np.array(nd_preds).flatten(),\n",
    "                              'lt_preds':lt_preds,\n",
    "                              'dates':df_filtered['order_approved_at'].values})\n",
    "    \n",
    "    save_data.to_csv(fname)\n",
    "    duration_min = int((time() - start_timer) // 60)\n",
    "    with mlflow.start_run() as run:\n",
    "        mlflow.log_param('Product Category',prod_cat)\n",
    "        mlflow.log_param('SARIMA_Params_Criterion', used_params_folds)                                     \n",
    "        mlflow.log_metrics(lt_metrics)\n",
    "        mlflow.log_metrics(nd_metrics)\n",
    "        mlflow.log_artifact(fname)\n",
    "        mlflow.log_metric('time', duration_min)"
   ]
  },
  {
   "cell_type": "code",
   "execution_count": null,
   "metadata": {},
   "outputs": [],
   "source": []
  }
 ],
 "metadata": {
  "kernelspec": {
   "display_name": "Python 3",
   "language": "python",
   "name": "python3"
  },
  "language_info": {
   "codemirror_mode": {
    "name": "ipython",
    "version": 3
   },
   "file_extension": ".py",
   "mimetype": "text/x-python",
   "name": "python",
   "nbconvert_exporter": "python",
   "pygments_lexer": "ipython3",
   "version": "3.7.8"
  }
 },
 "nbformat": 4,
 "nbformat_minor": 4
}
