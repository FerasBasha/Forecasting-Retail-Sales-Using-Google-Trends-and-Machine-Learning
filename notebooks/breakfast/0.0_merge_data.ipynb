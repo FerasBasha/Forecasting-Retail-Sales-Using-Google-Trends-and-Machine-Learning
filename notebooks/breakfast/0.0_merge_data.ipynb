{
 "cells": [
  {
   "cell_type": "markdown",
   "metadata": {},
   "source": [
    "# Create the preprocessed dataset\n",
    "\n",
    "Do minor cleaning and extract the sheets from the original excel file.  \n",
    "Save the files in 02_processed and also save an additional file that joins all the sheets together."
   ]
  },
  {
   "cell_type": "code",
   "execution_count": 1,
   "metadata": {},
   "outputs": [],
   "source": [
    "import numpy as np\n",
    "import os\n",
    "import pandas as pd\n",
    "from pathlib import Path\n",
    "import yaml\n",
    "\n",
    "# Get the current project path (where you open the notebook)\n",
    "# and go up two levels to get the project path\n",
    "current_dir = Path.cwd()\n",
    "proj_path = current_dir.parent.parent\n",
    "\n",
    "# make the code in src available to import in this notebook\n",
    "import sys\n",
    "sys.path.append(os.path.join(proj_path, 'src'))\n",
    "\n",
    "from utils import create_folder\n",
    "\n",
    "# Catalog contains all the paths related to datasets\n",
    "with open(os.path.join(proj_path, 'conf/catalog.yml'), \"r\") as f:\n",
    "    catalog = yaml.safe_load(f)['breakfast']\n",
    "    \n",
    "# Params contains all of the dataset creation parameters and model parameters\n",
    "with open(os.path.join(proj_path, 'conf/params.yml'), \"r\") as f:\n",
    "    params = yaml.safe_load(f)"
   ]
  },
  {
   "cell_type": "code",
   "execution_count": 2,
   "metadata": {},
   "outputs": [
    {
     "name": "stdout",
     "output_type": "stream",
     "text": [
      "This may take a few minutes...\n",
      "Reading transactions sheet\n",
      "Reading products sheet\n",
      "Reading store lookup sheet\n",
      "Reading glossary sheet\n",
      "Writing files ...\n",
      "Wrote files to C:\\Users\\feras\\Desktop\\Forecasting-Retail-Sales-Using-Google-Trends-and-Machine-Learning\\data/02_processed/\n",
      "Wall time: 5min 5s\n"
     ]
    }
   ],
   "source": [
    "%%time\n",
    "\n",
    "print('This may take a few minutes...')\n",
    "\n",
    "main_fname = os.path.join(proj_path, catalog['base_dir'], catalog['xlsx_fname'])\n",
    "\n",
    "# Skip the first row and select columns 0 to 11 inclusively or else \n",
    "# it will include extra empty columns due to the way the excel file is made\n",
    "print('Reading transactions sheet')\n",
    "transactions = pd.read_excel(main_fname,\n",
    "                             skiprows=1,\n",
    "                             usecols=np.arange(12),\n",
    "                             sheet_name=catalog['sheet_names']['transactions'])\n",
    "print('Reading products sheet')\n",
    "products_lookup = pd.read_excel(main_fname,\n",
    "                                skiprows=1,\n",
    "                                usecols=np.arange(6),\n",
    "                                sheet_name=catalog['sheet_names']['products'])\n",
    "\n",
    "# For two stores 17627 and 4503, there are two values for the \n",
    "# column SEG_VALUE_NAME. Both 'MAINSTREAM' and 'UPSCALE'. By removing\n",
    "# the first two instances of those records, we keep the value as UPSCALE\n",
    "print('Reading store lookup sheet')\n",
    "store_lookup = pd.read_excel(main_fname,\n",
    "                             skiprows=1,\n",
    "                             usecols=np.arange(9),\n",
    "                             sheet_name=catalog['sheet_names']['store'])\n",
    "store_lookup.drop(index=[22,39], inplace=True)\n",
    "store_lookup.reset_index(drop=True, inplace=True)\n",
    "\n",
    "print('Reading glossary sheet')\n",
    "glossary = pd.read_excel(main_fname,\n",
    "                         skiprows=3,\n",
    "                         usecols=np.arange(3),\n",
    "                         sheet_name=catalog['sheet_names']['glossary'],\n",
    "                         names=['VARIABLE NAME', 'TABLE', 'DESCRIPTION'])\n",
    "\n",
    "print('Writing files ...')\n",
    "# Write those sheets as separate CSV files\n",
    "create_folder(os.path.join(proj_path, catalog['output_dir']['dir']))\n",
    "transactions.to_csv(os.path.join(proj_path, catalog['output_dir']['dir'], catalog['output_dir']['transactions']))\n",
    "products_lookup.to_csv(os.path.join(proj_path, catalog['output_dir']['dir'],catalog['output_dir']['products']))\n",
    "store_lookup.to_csv(os.path.join(proj_path, catalog['output_dir']['dir'],catalog['output_dir']['store']))\n",
    "glossary.to_csv(os.path.join(proj_path, catalog['output_dir']['dir'],catalog['output_dir']['glossary']))\n",
    "\n",
    "\n",
    "print(f\"Wrote files to {os.path.join(proj_path, catalog['output_dir']['dir'])}\")"
   ]
  },
  {
   "cell_type": "code",
   "execution_count": 3,
   "metadata": {},
   "outputs": [
    {
     "name": "stdout",
     "output_type": "stream",
     "text": [
      "Wall time: 12.5 s\n"
     ]
    }
   ],
   "source": [
    "%%time\n",
    "merged_data = transactions.merge(products_lookup, on='UPC',how='left').merge(store_lookup,left_on='STORE_NUM',right_on='STORE_ID',how='left')\n",
    "merged_data.to_csv(os.path.join(proj_path, catalog['output_dir']['dir'], catalog['output_dir']['merged']))"
   ]
  },
  {
   "cell_type": "code",
   "execution_count": null,
   "metadata": {},
   "outputs": [],
   "source": []
  }
 ],
 "metadata": {
  "kernelspec": {
   "display_name": "Python 3",
   "language": "python",
   "name": "python3"
  },
  "language_info": {
   "codemirror_mode": {
    "name": "ipython",
    "version": 3
   },
   "file_extension": ".py",
   "mimetype": "text/x-python",
   "name": "python",
   "nbconvert_exporter": "python",
   "pygments_lexer": "ipython3",
   "version": "3.7.4"
  }
 },
 "nbformat": 4,
 "nbformat_minor": 4
}
